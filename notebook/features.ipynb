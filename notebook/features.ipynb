{
 "cells": [
  {
   "cell_type": "code",
   "execution_count": 1,
   "metadata": {},
   "outputs": [],
   "source": [
    "import pandas as pd\n",
    "from tqdm import tqdm\n",
    "from Bio.SeqIO.FastaIO import SimpleFastaParser\n",
    "from feature_generation import seq2features, create_genomic_features\n",
    "import warnings\n",
    "from Bio import BiopythonDeprecationWarning\n",
    "\n",
    "warnings.filterwarnings(\"ignore\", category=BiopythonDeprecationWarning)"
   ]
  },
  {
   "cell_type": "markdown",
   "metadata": {},
   "source": [
    "# generation"
   ]
  },
  {
   "cell_type": "code",
   "execution_count": 2,
   "metadata": {},
   "outputs": [],
   "source": [
    "def load_sequences(fasta_file):\n",
    "    # Count lines to estimate number of sequences (optional, for better progress bar)\n",
    "    with open(fasta_file, \"r\") as f:\n",
    "        n_seqs = sum(1 for line in f if line.startswith(\">\"))\n",
    "\n",
    "    with open(fasta_file, \"r\") as f:\n",
    "        entries = [\n",
    "            (name.split()[0], seq)\n",
    "            for name, seq in tqdm(\n",
    "                SimpleFastaParser(f), total=n_seqs, desc=\"Loading sequences\"\n",
    "            )\n",
    "        ]\n",
    "    return entries\n",
    "\n",
    "\n",
    "def generate_features(entries, is_dna=False, chunk_size=None):\n",
    "    if chunk_size is None:\n",
    "        # Original behavior\n",
    "        if is_dna:\n",
    "            features_df = create_genomic_features(\"your_dna.fasta\", file_format=\"fasta\")\n",
    "        else:\n",
    "            features_df = seq2features(entries, min_length=10, scaling=True)\n",
    "        return features_df\n",
    "    else:\n",
    "        features_list = []\n",
    "        for i in tqdm(range(0, len(entries), chunk_size), desc=\"Feature extraction\"):\n",
    "            chunk = entries[i : i + chunk_size]\n",
    "            features_chunk = seq2features(chunk, min_length=10, scaling=True)\n",
    "            features_list.append(features_chunk)\n",
    "        return pd.concat(features_list)\n",
    "\n",
    "\n",
    "def save_results(features_df, output_file):\n",
    "    features_df = features_df.reset_index().rename(columns={\"index\": \"id\"})\n",
    "    features_df = features_df.drop(columns=[\"md5\"])\n",
    "    features_df.to_parquet(output_file)\n",
    "    print(f\"Features saved to {output_file}\")"
   ]
  },
  {
   "cell_type": "code",
   "execution_count": 4,
   "metadata": {},
   "outputs": [
    {
     "name": "stderr",
     "output_type": "stream",
     "text": [
      "Loading sequences: 100%|██████████| 2621/2621 [00:00<00:00, 594680.88it/s]\n",
      "Feature extraction: 100%|██████████| 27/27 [00:00<00:00, 44.84it/s]\n"
     ]
    },
    {
     "name": "stdout",
     "output_type": "stream",
     "text": [
      "Features saved to ../dataset/demonstration_samples/GCF_000009645.1/features.pa\n"
     ]
    }
   ],
   "source": [
    "if __name__ == \"__main__\":\n",
    "    # Load sequences\n",
    "    entries = load_sequences(\n",
    "        \"../dataset/demonstration_samples/GCF_000009645.1/protein.faa\"\n",
    "    )\n",
    "\n",
    "    # Generate features\n",
    "    features_df = generate_features(entries, chunk_size=100)\n",
    "\n",
    "    # Save results\n",
    "    save_results(\n",
    "        features_df,\n",
    "        \"../dataset/demonstration_samples/GCF_000009645.1/features.pa\",\n",
    "    )"
   ]
  },
  {
   "cell_type": "markdown",
   "metadata": {},
   "source": [
    "# loading"
   ]
  },
  {
   "cell_type": "code",
   "execution_count": 5,
   "metadata": {},
   "outputs": [],
   "source": [
    "import pandas as pd"
   ]
  },
  {
   "cell_type": "code",
   "execution_count": 6,
   "metadata": {},
   "outputs": [],
   "source": [
    "features = pd.read_parquet(\n",
    "    \"../dataset/demonstration_samples/Escherichia_coli_O157_H7_str_FRIK2000/features.pa\"\n",
    ")"
   ]
  },
  {
   "cell_type": "code",
   "execution_count": 7,
   "metadata": {},
   "outputs": [
    {
     "name": "stdout",
     "output_type": "stream",
     "text": [
      "Index(['id', 'PROSITE:ASX_HYDROXYL', 'PROSITE:PHOSPHOPANTETHEINE',\n",
      "       'PROSITE:EF_HAND_1', 'PROSITE:EGF_1', 'PROSITE:HOMEOBOX_1',\n",
      "       'PROSITE:ZINC_FINGER_C2H2_1', 'PROSITE:DEAD_ATP_HELICASE',\n",
      "       'PROSITE:RIBOSOMAL_S12', 'PROSITE:CYTOCHROME_P450',\n",
      "       ...\n",
      "       'RED_TRIPEP:SSA', 'RED_TRIPEP:SSC', 'RED_TRIPEP:SSE', 'RED_TRIPEP:SSF',\n",
      "       'RED_TRIPEP:SSG', 'RED_TRIPEP:SSH', 'RED_TRIPEP:SSK', 'RED_TRIPEP:SSL',\n",
      "       'RED_TRIPEP:SSP', 'RED_TRIPEP:SSS'],\n",
      "      dtype='object', length=1712)\n"
     ]
    }
   ],
   "source": [
    "print(features.columns)"
   ]
  },
  {
   "cell_type": "code",
   "execution_count": 9,
   "metadata": {},
   "outputs": [
    {
     "name": "stdout",
     "output_type": "stream",
     "text": [
      "(5095, 1712)\n",
      "5095\n"
     ]
    }
   ],
   "source": [
    "print(features.shape)\n",
    "print(features[\"id\"].nunique())"
   ]
  },
  {
   "cell_type": "code",
   "execution_count": null,
   "metadata": {},
   "outputs": [],
   "source": [
    "print(features.shape)\n",
    "print(features[\"id\"].nunique())"
   ]
  }
 ],
 "metadata": {
  "kernelspec": {
   "display_name": ".venv",
   "language": "python",
   "name": "python3"
  },
  "language_info": {
   "codemirror_mode": {
    "name": "ipython",
    "version": 3
   },
   "file_extension": ".py",
   "mimetype": "text/x-python",
   "name": "python",
   "nbconvert_exporter": "python",
   "pygments_lexer": "ipython3",
   "version": "3.12.7"
  }
 },
 "nbformat": 4,
 "nbformat_minor": 2
}

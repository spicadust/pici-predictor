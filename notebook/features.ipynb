{
 "cells": [
  {
   "cell_type": "code",
   "execution_count": null,
   "metadata": {},
   "outputs": [],
   "source": [
    "import pandas as pd\n",
    "from tqdm import tqdm\n",
    "from Bio.SeqIO.FastaIO import SimpleFastaParser\n",
    "from feature_generation import seq2features, create_genomic_features\n",
    "import warnings\n",
    "from Bio import BiopythonDeprecationWarning\n",
    "\n",
    "warnings.filterwarnings(\"ignore\", category=BiopythonDeprecationWarning)"
   ]
  },
  {
   "cell_type": "code",
   "execution_count": 6,
   "metadata": {},
   "outputs": [],
   "source": [
    "def load_sequences(fasta_file):\n",
    "    # Count lines to estimate number of sequences (optional, for better progress bar)\n",
    "    with open(fasta_file, \"r\") as f:\n",
    "        n_seqs = sum(1 for line in f if line.startswith(\">\"))\n",
    "\n",
    "    with open(fasta_file, \"r\") as f:\n",
    "        entries = [\n",
    "            (name, seq)\n",
    "            for name, seq in tqdm(\n",
    "                SimpleFastaParser(f), total=n_seqs, desc=\"Loading sequences\"\n",
    "            )\n",
    "        ]\n",
    "    return entries\n",
    "\n",
    "\n",
    "def generate_features(entries, is_dna=False, chunk_size=None):\n",
    "    if chunk_size is None:\n",
    "        # Original behavior\n",
    "        if is_dna:\n",
    "            features_df = create_genomic_features(\"your_dna.fasta\", file_format=\"fasta\")\n",
    "        else:\n",
    "            features_df = seq2features(entries, min_length=10, scaling=True)\n",
    "        return features_df\n",
    "    else:\n",
    "        features_list = []\n",
    "        for i in tqdm(range(0, len(entries), chunk_size), desc=\"Feature extraction\"):\n",
    "            chunk = entries[i : i + chunk_size]\n",
    "            features_chunk = seq2features(chunk, min_length=10, scaling=True)\n",
    "            features_list.append(features_chunk)\n",
    "        return pd.concat(features_list)\n",
    "\n",
    "\n",
    "def save_results(features_df, output_file):\n",
    "    features_df.to_parquet(output_file)\n",
    "    print(f\"Features saved to {output_file}\")"
   ]
  },
  {
   "cell_type": "code",
   "execution_count": null,
   "metadata": {},
   "outputs": [],
   "source": [
    "if __name__ == \"__main__\":\n",
    "    # Load sequences\n",
    "    entries = load_sequences(\"../dataset/combined_proteins.fa\")\n",
    "\n",
    "    # Generate features\n",
    "    features_df = generate_features(entries, chunk_size=100)\n",
    "\n",
    "    # Save results\n",
    "    save_results(features_df, \"../dataset/protein_features.pa\")"
   ]
  },
  {
   "cell_type": "code",
   "execution_count": null,
   "metadata": {},
   "outputs": [],
   "source": [
    "features = pd.read_parquet(\"../dataset/protein_features.pa\")"
   ]
  },
  {
   "cell_type": "code",
   "execution_count": 7,
   "metadata": {},
   "outputs": [
    {
     "data": {
      "text/plain": [
       "Index(['id', 'md5', 'PROSITE:ASX_HYDROXYL', 'PROSITE:PHOSPHOPANTETHEINE',\n",
       "       'PROSITE:EF_HAND_1', 'PROSITE:EGF_1', 'PROSITE:HOMEOBOX_1',\n",
       "       'PROSITE:ZINC_FINGER_C2H2_1', 'PROSITE:DEAD_ATP_HELICASE',\n",
       "       'PROSITE:RIBOSOMAL_S12',\n",
       "       ...\n",
       "       'RED_TRIPEP:SSA', 'RED_TRIPEP:SSC', 'RED_TRIPEP:SSE', 'RED_TRIPEP:SSF',\n",
       "       'RED_TRIPEP:SSG', 'RED_TRIPEP:SSH', 'RED_TRIPEP:SSK', 'RED_TRIPEP:SSL',\n",
       "       'RED_TRIPEP:SSP', 'RED_TRIPEP:SSS'],\n",
       "      dtype='object', length=1713)"
      ]
     },
     "execution_count": 7,
     "metadata": {},
     "output_type": "execute_result"
    }
   ],
   "source": [
    "features.columns"
   ]
  },
  {
   "cell_type": "code",
   "execution_count": null,
   "metadata": {},
   "outputs": [],
   "source": [
    "features"
   ]
  },
  {
   "cell_type": "code",
   "execution_count": 8,
   "metadata": {},
   "outputs": [
    {
     "name": "stdout",
     "output_type": "stream",
     "text": [
      "(927040, 1713)\n",
      "927040\n",
      "360244\n"
     ]
    }
   ],
   "source": [
    "print(features.shape)\n",
    "print(features[\"id\"].nunique())\n",
    "print(features[\"md5\"].nunique())"
   ]
  }
 ],
 "metadata": {
  "kernelspec": {
   "display_name": ".venv",
   "language": "python",
   "name": "python3"
  },
  "language_info": {
   "codemirror_mode": {
    "name": "ipython",
    "version": 3
   },
   "file_extension": ".py",
   "mimetype": "text/x-python",
   "name": "python",
   "nbconvert_exporter": "python",
   "pygments_lexer": "ipython3",
   "version": "3.12.7"
  }
 },
 "nbformat": 4,
 "nbformat_minor": 2
}

{
 "cells": [
  {
   "cell_type": "code",
   "execution_count": 1,
   "metadata": {},
   "outputs": [
    {
     "name": "stderr",
     "output_type": "stream",
     "text": [
      "Loading sequences: 100%|██████████| 2621/2621 [00:00<00:00, 687423.14it/s]\n"
     ]
    },
    {
     "name": "stdout",
     "output_type": "stream",
     "text": [
      "Features saved to ../dataset/demonstration_samples/GCF_000009645.1/features.pa\n",
      "function\n",
      "no_hit                                              846\n",
      "dna_rna_and_nucleotide_metabolism                   310\n",
      "transcription_regulation                            231\n",
      "other                                               214\n",
      "unknown_function                                    209\n",
      "head_and_packaging                                  207\n",
      "moron_auxiliary_metabolic_gene_and_host_takeover    198\n",
      "lysis                                               170\n",
      "tail                                                116\n",
      "integration_and_excision                             73\n",
      "connector                                            47\n",
      "Name: count, dtype: int64\n"
     ]
    },
    {
     "data": {
      "image/png": "[encoded data removed]",
      "text/plain": [
       "<Figure size 500x20 with 1 Axes>"
      ]
     },
     "metadata": {},
     "output_type": "display_data"
    },
    {
     "data": {
      "image/png": "[encoded data removed]",
      "text/plain": [
       "<Figure size 500x20 with 1 Axes>"
      ]
     },
     "metadata": {},
     "output_type": "display_data"
    }
   ],
   "source": [
    "from pici_predictor.utilities import discover_pici\n",
    "\n",
    "data_dir = \"../dataset/demonstration_samples/GCF_000009645.1\"\n",
    "results_dir = \"../results/demonstration/GCF_000009645.1\"\n",
    "model_function_path = \"../models/best_configs\"\n",
    "model_pici_path = \"../models/pici_classifier_model_max30.json\"\n",
    "pici_segments = discover_pici(\n",
    "    data_dir, results_dir, model_function_path, model_pici_path\n",
    ")"
   ]
  },
  {
   "cell_type": "code",
   "execution_count": 2,
   "metadata": {},
   "outputs": [
    {
     "data": {
      "text/plain": [
       "{'PICI':                                      function_vector  start_idx  end_idx  \\\n",
       " 3  [7, 8, 6, 3, 9, 1, 7, 9, 9, 9, 11, 9, 11, 11, ...        921      892   \n",
       " 0  [11, 2, 5, 9, 5, 9, 9, 10, 9, 11, 4, 4, 9, 9, ...       1908     1937   \n",
       " 1  [2, 5, 9, 5, 9, 9, 10, 9, 11, 4, 4, 9, 9, 9, 9...       1909     1938   \n",
       " 2  [10, 7, 7, 9, 9, 9, 9, 4, 4, 11, 9, 10, 9, 9, ...       1926     1897   \n",
       " \n",
       "    forward predicted_type  predicted_prob  \n",
       " 3    False           PICI        0.693708  \n",
       " 0     True           PICI        0.708971  \n",
       " 1     True           PICI        0.755930  \n",
       " 2    False           PICI        0.540025  ,\n",
       " 'CFPICI':                                      function_vector  start_idx  end_idx  \\\n",
       " 0  [7, 7, 9, 9, 9, 9, 4, 4, 11, 9, 10, 9, 9, 5, 9...       1925     1896   \n",
       " \n",
       "    forward predicted_type  predicted_prob  \n",
       " 0    False         CFPICI          0.8528  ,\n",
       " 'P4':                                      function_vector  start_idx  end_idx  \\\n",
       " 0  [9, 9, 9, 9, 7, 7, 10, 2, 6, 8, 11, 4, 11, 9, ...       1920     1949   \n",
       " \n",
       "    forward predicted_type  predicted_prob  \n",
       " 0     True             P4        0.416915  }"
      ]
     },
     "execution_count": 2,
     "metadata": {},
     "output_type": "execute_result"
    }
   ],
   "source": [
    "pici_segments"
   ]
  },
  {
   "cell_type": "markdown",
   "metadata": {},
   "source": [
    "# true pici"
   ]
  },
  {
   "cell_type": "code",
   "execution_count": 3,
   "metadata": {},
   "outputs": [
    {
     "data": {
      "text/plain": [
       "array(['head and packaging', 'unknown function', 'head and packaging',\n",
       "       'unknown function', 'unknown function', 'unknown function',\n",
       "       'unknown function', 'unknown function',\n",
       "       'DNA, RNA and nucleotide metabolism',\n",
       "       'DNA, RNA and nucleotide metabolism', 'unknown function',\n",
       "       'unknown function', 'unknown function',\n",
       "       'DNA, RNA and nucleotide metabolism', 'transcription regulation',\n",
       "       'transcription regulation', 'integration and excision'],\n",
       "      dtype=object)"
      ]
     },
     "execution_count": 3,
     "metadata": {},
     "output_type": "execute_result"
    }
   ],
   "source": [
    "import pandas as pd\n",
    "\n",
    "annotation = pd.read_parquet(\"../dataset/Phage_and_Satellites_Pann_Pcat_Pcol.pa\")\n",
    "sample_annotation = annotation[\n",
    "    annotation[\"acc\"].str.contains(\"STAU002_0321_00536_C001\")\n",
    "]\n",
    "# STAU002.0321.00536.C001\n",
    "sample_vec_function = sample_annotation[\"pcat\"].values\n",
    "sample_vec_function"
   ]
  },
  {
   "cell_type": "code",
   "execution_count": 27,
   "metadata": {},
   "outputs": [
    {
     "data": {
      "text/plain": [
       "array([10,  7,  7,  4,  9,  9,  9,  4,  4,  9,  9,  9,  9,  9,  5,  9,  5])"
      ]
     },
     "execution_count": 27,
     "metadata": {},
     "output_type": "execute_result"
    }
   ],
   "source": [
    "import numpy as np\n",
    "from pici_predictor.phrog_function import (\n",
    "    function_name_raw_to_num,\n",
    "    function_num_to_color,\n",
    ")\n",
    "\n",
    "sample_vec = pd.Series(sample_vec_function).map(function_name_raw_to_num)\n",
    "# reverse\n",
    "sample_vec = np.array(sample_vec)\n",
    "sample_vec = sample_vec[::-1]\n",
    "sample_vec"
   ]
  },
  {
   "cell_type": "code",
   "execution_count": 31,
   "metadata": {},
   "outputs": [],
   "source": [
    "import numpy as np\n",
    "import matplotlib.pyplot as plt\n",
    "import matplotlib.colors as mcolors\n",
    "\n",
    "\n",
    "def plot_vector_heatmap(vec, function_num_to_color, save_path=None, title=None):\n",
    "    \"\"\"\n",
    "    Plots a single-line heatmap for a vector using a custom color mapping.\n",
    "\n",
    "    Args:\n",
    "        vec (array-like): Vector of function numbers.\n",
    "        function_num_to_color (dict): Mapping from function number to color code.\n",
    "        save_path (str, optional): If provided, saves the heatmap to this path.\n",
    "        title (str, optional): Title for the plot.\n",
    "    \"\"\"\n",
    "    # Map each value in vec directly to its color\n",
    "    color_row = [function_num_to_color[v] for v in vec]\n",
    "    # Convert hex colors to RGB\n",
    "    rgb_row = np.array([mcolors.to_rgb(c) for c in color_row]).reshape(1, -1, 3)\n",
    "\n",
    "    fig, ax = plt.subplots(figsize=(len(vec) * 0.4, 1))\n",
    "    ax.imshow(rgb_row, aspect=\"auto\")\n",
    "    ax.axis(\"off\")\n",
    "    if title:\n",
    "        plt.title(title)\n",
    "    plt.tight_layout()\n",
    "    if save_path:\n",
    "        plt.savefig(save_path, bbox_inches=\"tight\", pad_inches=0, dpi=300)\n",
    "    plt.show()\n",
    "    plt.close()"
   ]
  },
  {
   "cell_type": "code",
   "execution_count": 33,
   "metadata": {},
   "outputs": [
    {
     "data": {
      "image/png": "[encoded data removed]",
      "text/plain": [
       "<Figure size 680x100 with 1 Axes>"
      ]
     },
     "metadata": {},
     "output_type": "display_data"
    }
   ],
   "source": [
    "plot_vector_heatmap(\n",
    "    sample_vec,\n",
    "    function_num_to_color,\n",
    "    save_path=\"../results/demonstration/GCF_000009645.1/heatmap_true_pici.png\",\n",
    "    title=\"STAU002.0321.00536.C001\",\n",
    ")"
   ]
  }
 ],
 "metadata": {
  "kernelspec": {
   "display_name": ".venv",
   "language": "python",
   "name": "python3"
  },
  "language_info": {
   "codemirror_mode": {
    "name": "ipython",
    "version": 3
   },
   "file_extension": ".py",
   "mimetype": "text/x-python",
   "name": "python",
   "nbconvert_exporter": "python",
   "pygments_lexer": "ipython3",
   "version": "3.12.7"
  }
 },
 "nbformat": 4,
 "nbformat_minor": 2
}

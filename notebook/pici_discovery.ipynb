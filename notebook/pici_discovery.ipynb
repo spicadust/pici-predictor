{
 "cells": [
  {
   "cell_type": "code",
   "execution_count": 1,
   "metadata": {},
   "outputs": [
    {
     "name": "stderr",
     "output_type": "stream",
     "text": [
      "Loading sequences: 100%|██████████| 2621/2621 [00:00<00:00, 700386.77it/s]\n"
     ]
    },
    {
     "name": "stdout",
     "output_type": "stream",
     "text": [
      "Features saved to ../dataset/demonstration_samples/GCF_000009645.1/features.pa\n",
      "gff_df.csv saved to ../dataset/demonstration_samples/GCF_000009645.1/gff_df.csv\n",
      "predicted_prob.csv saved to ../results/demonstration/GCF_000009645.1/predicted_prob.csv\n",
      "predicted_function.csv saved to ../results/demonstration/GCF_000009645.1/predicted_function.csv\n",
      "merged.csv saved\n",
      "\n",
      "Function vectors for PICI:\n",
      "Segment 1: [7, 7, 9, 9, 9, 9, 4, 4, 11, 9, 11, 9, 9, 5, 9, 5, 9, 11, 11, 11, 11, 11, 4, 11, 10, 9, 8, 7, 11, 4]\n",
      "Location: NC_002745.2:2045419-2071086, reverse\n",
      "Probability: 0.757\n",
      "\n",
      "Segment 2: [10, 7, 7, 9, 9, 9, 9, 4, 4, 11, 9, 11, 9, 9, 5, 9, 5, 9, 11, 11, 11, 11, 11, 4, 11, 10, 9, 8, 7, 11]\n",
      "Location: NC_002745.2:2046357-2072272, reverse\n",
      "Probability: 0.857\n",
      "\n",
      "Segment 3: [11, 10, 7, 7, 9, 9, 9, 9, 4, 4, 11, 9, 11, 9, 9, 5, 9, 5, 9, 11, 11, 11, 11, 11, 4, 11, 10, 9, 8, 7]\n",
      "Location: NC_002745.2:2046902-2073957, reverse\n",
      "Probability: 0.764\n",
      "\n"
     ]
    },
    {
     "data": {
      "image/png": "[encoded data removed]",
      "text/plain": [
       "<Figure size 500x60 with 1 Axes>"
      ]
     },
     "metadata": {},
     "output_type": "display_data"
    },
    {
     "name": "stdout",
     "output_type": "stream",
     "text": [
      "function\n",
      "no_hit                                              1696\n",
      "unknown_function                                     301\n",
      "moron_auxiliary_metabolic_gene_and_host_takeover     234\n",
      "dna_rna_and_nucleotide_metabolism                    150\n",
      "other                                                 76\n",
      "transcription_regulation                              44\n",
      "head_and_packaging                                    39\n",
      "lysis                                                 37\n",
      "connector                                             18\n",
      "tail                                                  13\n",
      "integration_and_excision                              13\n",
      "Name: count, dtype: int64\n"
     ]
    }
   ],
   "source": [
    "from pici_predictor.utilities import discover_pici\n",
    "\n",
    "data_dir = \"../dataset/demonstration_samples/GCF_000009645.1\"\n",
    "results_dir = \"../results/demonstration/GCF_000009645.1\"\n",
    "model_function_path = \"../models/best_configs\"\n",
    "model_pici_path = \"../models/pici_classifier_model_max30.json\"\n",
    "pici_segments = discover_pici(\n",
    "    data_dir, results_dir, model_function_path, model_pici_path, window_size=30\n",
    ")"
   ]
  },
  {
   "cell_type": "code",
   "execution_count": 10,
   "metadata": {},
   "outputs": [],
   "source": [
    "# import matplotlib.pyplot as plt\n",
    "\n",
    "# plt.hist(pici_segments[\"prob_class_0\"], bins=100)\n",
    "# plt.yscale(\"log\")\n",
    "# plt.title(\"predicted probability of 'none'\")\n",
    "# plt.show()\n",
    "# plt.hist(pici_segments[\"prob_class_1\"], bins=100)\n",
    "# plt.yscale(\"log\")\n",
    "# plt.title(\"predicted probability of 'PICI'\")\n",
    "# plt.show()\n",
    "# plt.hist(pici_segments[\"prob_class_2\"], bins=100)\n",
    "# plt.yscale(\"log\")\n",
    "# plt.title(\"predicted probability of 'CFPICI'\")\n",
    "# plt.show()\n",
    "# plt.hist(pici_segments[\"prob_class_3\"], bins=100)\n",
    "# plt.yscale(\"log\")\n",
    "# plt.title(\"predicted probability of 'P4-like'\")\n",
    "# plt.show()"
   ]
  },
  {
   "cell_type": "markdown",
   "metadata": {},
   "source": [
    "# true pici"
   ]
  },
  {
   "cell_type": "code",
   "execution_count": 11,
   "metadata": {},
   "outputs": [],
   "source": [
    "import pandas as pd\n",
    "\n",
    "annotation = pd.read_parquet(\"../dataset/Phage_and_Satellites_Pann_Pcat_Pcol.pa\")\n",
    "sample_annotation = annotation[\n",
    "    annotation[\"acc\"].str.contains(\"STAU002_0321_00536_C001\")\n",
    "]\n",
    "# STAU002.0321.00536.C001\n",
    "sample_vec_function = sample_annotation[\"pcat\"].values\n",
    "# sample_vec_function"
   ]
  },
  {
   "cell_type": "code",
   "execution_count": 12,
   "metadata": {},
   "outputs": [
    {
     "data": {
      "text/plain": [
       "array([10,  7,  7,  4,  9,  9,  9,  4,  4,  9,  9,  9,  9,  9,  5,  9,  5])"
      ]
     },
     "execution_count": 12,
     "metadata": {},
     "output_type": "execute_result"
    }
   ],
   "source": [
    "import numpy as np\n",
    "from pici_predictor.phrog_function import (\n",
    "    function_name_raw_to_num,\n",
    "    function_num_to_color,\n",
    ")\n",
    "\n",
    "sample_vec = pd.Series(sample_vec_function).map(function_name_raw_to_num)\n",
    "# reverse\n",
    "sample_vec = np.array(sample_vec)\n",
    "sample_vec = sample_vec[::-1]\n",
    "sample_vec"
   ]
  },
  {
   "cell_type": "code",
   "execution_count": 21,
   "metadata": {},
   "outputs": [],
   "source": [
    "import numpy as np\n",
    "import matplotlib.pyplot as plt\n",
    "import matplotlib.colors as mcolors\n",
    "\n",
    "\n",
    "def plot_vector_heatmap(vec, function_num_to_color, save_path=None, title=None):\n",
    "    \"\"\"\n",
    "    Plots a single-line heatmap for a vector using a custom color mapping.\n",
    "\n",
    "    Args:\n",
    "        vec (array-like): Vector of function numbers.\n",
    "        function_num_to_color (dict): Mapping from function number to color code.\n",
    "        save_path (str, optional): If provided, saves the heatmap to this path.\n",
    "        title (str, optional): Title for the plot.\n",
    "    \"\"\"\n",
    "    # Map each value in vec directly to its color\n",
    "    color_row = [function_num_to_color[v] for v in vec]\n",
    "    # Convert hex colors to RGB\n",
    "    rgb_row = np.array([mcolors.to_rgb(c) for c in color_row]).reshape(1, -1, 3)\n",
    "\n",
    "    fig, ax = plt.subplots(figsize=(len(vec) * 0.3, 0.6))\n",
    "    ax.imshow(rgb_row, aspect=\"auto\")\n",
    "    ax.axis(\"off\")\n",
    "    if title:\n",
    "        plt.title(title)\n",
    "    plt.tight_layout()\n",
    "    if save_path:\n",
    "        plt.savefig(save_path, bbox_inches=\"tight\", pad_inches=0, dpi=300)\n",
    "    plt.show()\n",
    "    plt.close()"
   ]
  },
  {
   "cell_type": "code",
   "execution_count": 22,
   "metadata": {},
   "outputs": [
    {
     "data": {
      "image/png": "[encoded data removed]",
      "text/plain": [
       "<Figure size 510x60 with 1 Axes>"
      ]
     },
     "metadata": {},
     "output_type": "display_data"
    }
   ],
   "source": [
    "plot_vector_heatmap(\n",
    "    sample_vec,\n",
    "    function_num_to_color,\n",
    "    # save_path=\"../results/demonstration/GCF_000009645.1/heatmap_true_pici.png\",\n",
    "    # title=\"real PICI\",\n",
    ")"
   ]
  }
 ],
 "metadata": {
  "kernelspec": {
   "display_name": ".venv",
   "language": "python",
   "name": "python3"
  },
  "language_info": {
   "codemirror_mode": {
    "name": "ipython",
    "version": 3
   },
   "file_extension": ".py",
   "mimetype": "text/x-python",
   "name": "python",
   "nbconvert_exporter": "python",
   "pygments_lexer": "ipython3",
   "version": "3.12.7"
  }
 },
 "nbformat": 4,
 "nbformat_minor": 2
}

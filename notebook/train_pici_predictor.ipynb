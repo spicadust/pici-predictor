{
 "cells": [
  {
   "cell_type": "markdown",
   "metadata": {},
   "source": [
    "goal: to train a genome-level classifier that predicts whether a genome is a PICI, cfPICI, P4, or phage.\n",
    "\n",
    "Input for the model: a vector of proteins in each PHROG functional category for a given genome (e.g., number of tail, head, integrase, lysis, etc. proteins). The final output should be a trained model that can classify new genomes based on their PHROG function profiles.\n",
    "\n",
    "- First, construct training data. The PHROG annotations are already available, so use the true functional categories to construct the input vectors. construct vectprs according to the sequence of proteins; reverse the order if majority of proteins are on the negative strand.\n",
    "- Once the feature vectors are built for each genome, train a multiclass classifier (like XGBoost or LightGBM).\n",
    "- Target label: the genome type (PICI, cfPICI, P4, or phage)."
   ]
  },
  {
   "cell_type": "markdown",
   "metadata": {},
   "source": [
    "whole workflow: \n",
    "   Bacterial Genome \n",
    "   → Sliding Window \n",
    "   → Protein Prediction \n",
    "   → PHROG Function Prediction (your trained predictors)\n",
    "   → Feature Vector Construction \n",
    "   → Multi-class Classification"
   ]
  },
  {
   "cell_type": "code",
   "execution_count": 1,
   "metadata": {},
   "outputs": [],
   "source": [
    "import pandas as pd\n",
    "import numpy as np\n",
    "import xgboost as xgb\n",
    "from sklearn.model_selection import train_test_split\n",
    "from sklearn.metrics import accuracy_score, classification_report"
   ]
  },
  {
   "cell_type": "markdown",
   "metadata": {},
   "source": [
    "# data preparation"
   ]
  },
  {
   "cell_type": "code",
   "execution_count": 13,
   "metadata": {},
   "outputs": [],
   "source": [
    "annotation = pd.read_parquet(\"../dataset/Phage_and_Satellites_Pann_Pcat_Pcol.pa\")"
   ]
  },
  {
   "cell_type": "code",
   "execution_count": 74,
   "metadata": {},
   "outputs": [],
   "source": [
    "# def get_acc_info(annotation, type: str):\n",
    "#     annotation_type = annotation[annotation[\"what\"] == type]\n",
    "#     acc_df = pd.DataFrame(columns=[\"acc\", \"average_strand\", \"num_proteins\"])\n",
    "#     for acc in annotation_type[\"acc\"].unique():\n",
    "#         data = annotation_type[annotation_type[\"acc\"] == acc]\n",
    "#         num_proteins = len(data)\n",
    "#         average_strand = data[\"strand\"].mean()\n",
    "#         acc_df = pd.concat(\n",
    "#             [\n",
    "#                 acc_df,\n",
    "#                 pd.DataFrame(\n",
    "#                     {\n",
    "#                         \"acc\": [acc],\n",
    "#                         \"average_strand\": [average_strand],\n",
    "#                         \"num_proteins\": [num_proteins],\n",
    "#                     }\n",
    "#                 ),\n",
    "#             ],\n",
    "#         )\n",
    "#     return acc_df\n",
    "\n",
    "\n",
    "# acc_pici_df = get_acc_info(annotation, \"PICI\")\n",
    "# acc_cfpici_df = get_acc_info(annotation, \"CFPICI\")\n",
    "# acc_p4_df = get_acc_info(annotation, \"P4\")\n",
    "# acc_phage_df = get_acc_info(annotation, \"phage\")\n",
    "# acc_phage_df = pd.read_csv(\"../dataset/acc_phage_df.csv\")"
   ]
  },
  {
   "cell_type": "code",
   "execution_count": 7,
   "metadata": {},
   "outputs": [],
   "source": [
    "# acc_pici_df[\"what\"] = \"PICI\"\n",
    "# acc_cfpici_df[\"what\"] = \"CFPICI\"\n",
    "# acc_p4_df[\"what\"] = \"P4\"\n",
    "# acc_phage_df[\"what\"] = \"phage\"\n",
    "# all_acc_df = pd.concat([acc_pici_df, acc_cfpici_df, acc_p4_df, acc_phage_df])\n",
    "# all_acc_df.to_csv(\"../dataset/acc_all_df.csv\", index=False)"
   ]
  },
  {
   "cell_type": "code",
   "execution_count": null,
   "metadata": {},
   "outputs": [],
   "source": [
    "# all_acc = all_acc_df[\"acc\"].unique()\n",
    "# annotation_phage = annotation[annotation[\"what\"] == \"phage\"]\n",
    "# annotation_pici = annotation[annotation[\"what\"] == \"PICI\"]\n",
    "# annotation_cfpici = annotation[annotation[\"what\"] == \"CFPICI\"]\n",
    "# annotation_p4 = annotation[annotation[\"what\"] == \"P4\"]\n",
    "# pici_acc = annotation_pici[\"acc\"].unique()\n",
    "# cfpici_acc = annotation_cfpici[\"acc\"].unique()\n",
    "# p4_acc = annotation_p4[\"acc\"].unique()\n",
    "# phage_acc = annotation_phage[\"acc\"].unique()\n",
    "# print(f\"all_acc: {len(all_acc)}\")\n",
    "# print(f\"pici_acc: {len(pici_acc)}\")\n",
    "# print(f\"cfpici_acc: {len(cfpici_acc)}\")\n",
    "# print(f\"p4_acc: {len(p4_acc)}\")\n",
    "# print(f\"phage_acc: {len(phage_acc)}\")"
   ]
  },
  {
   "cell_type": "code",
   "execution_count": null,
   "metadata": {},
   "outputs": [],
   "source": [
    "# import matplotlib.pyplot as plt\n",
    "\n",
    "# plt.figure(figsize=(10, 6))\n",
    "# plt.subplot(2, 2, 1)\n",
    "# plt.hist(acc_pici_df[\"average_strand\"], bins=100, edgecolor=\"black\")\n",
    "# plt.title(\"PICI Average Strand\")\n",
    "# plt.xlabel(\"Average Strand\")\n",
    "# plt.ylabel(\"Frequency\")\n",
    "\n",
    "# plt.subplot(2, 2, 2)\n",
    "# plt.hist(acc_cfpici_df[\"average_strand\"], bins=100, edgecolor=\"black\")\n",
    "# plt.title(\"CFPICI Average Strand\")\n",
    "# plt.xlabel(\"Average Strand\")\n",
    "# plt.ylabel(\"Frequency\")\n",
    "\n",
    "# plt.subplot(2, 2, 3)\n",
    "# plt.hist(acc_p4_df[\"average_strand\"], bins=100, edgecolor=\"black\")\n",
    "# plt.title(\"P4 Average Strand\")\n",
    "# plt.xlabel(\"Average Strand\")\n",
    "# plt.ylabel(\"Frequency\")\n",
    "\n",
    "# plt.subplot(2, 2, 4)\n",
    "# plt.hist(acc_phage_df[\"average_strand\"], bins=100, edgecolor=\"black\")\n",
    "# plt.title(\"phage Average Strand\")\n",
    "# plt.xlabel(\"Average Strand\")\n",
    "# plt.ylabel(\"Frequency\")\n",
    "\n",
    "# plt.tight_layout()\n",
    "# plt.show()"
   ]
  },
  {
   "cell_type": "code",
   "execution_count": null,
   "metadata": {},
   "outputs": [],
   "source": [
    "# plt.figure(figsize=(10, 8))\n",
    "# plt.subplot(2, 2, 1)\n",
    "# plt.hist(acc_pici_df[\"num_proteins\"], bins=100, edgecolor=\"black\")\n",
    "# plt.title(\"Number of Proteins, PICI\")\n",
    "# plt.xlabel(\"Number of Proteins\")\n",
    "# plt.ylabel(\"Frequency\")\n",
    "\n",
    "# plt.subplot(2, 2, 2)\n",
    "# plt.hist(acc_cfpici_df[\"num_proteins\"], bins=100, edgecolor=\"black\")\n",
    "# plt.title(\"Number of Proteins, CFPICI\")\n",
    "# plt.xlabel(\"Number of Proteins\")\n",
    "# plt.ylabel(\"Frequency\")\n",
    "\n",
    "# plt.subplot(2, 2, 3)\n",
    "# plt.hist(acc_p4_df[\"num_proteins\"], bins=100, edgecolor=\"black\")\n",
    "# plt.title(\"Number of Proteins, P4\")\n",
    "# plt.xlabel(\"Number of Proteins\")\n",
    "# plt.ylabel(\"Frequency\")\n",
    "\n",
    "# plt.subplot(2, 2, 4)\n",
    "# plt.hist(acc_phage_df[\"num_proteins\"], bins=100, edgecolor=\"black\")\n",
    "# plt.title(\"Number of Proteins, phage\")\n",
    "# plt.xlabel(\"Number of Proteins\")\n",
    "# plt.ylabel(\"Frequency\")\n",
    "\n",
    "# plt.tight_layout()\n",
    "# plt.show()"
   ]
  },
  {
   "cell_type": "markdown",
   "metadata": {},
   "source": [
    "# feature vector"
   ]
  },
  {
   "cell_type": "code",
   "execution_count": 21,
   "metadata": {},
   "outputs": [],
   "source": [
    "# from pici_predictor.phrog_function import function_name_raw_to_num"
   ]
  },
  {
   "cell_type": "code",
   "execution_count": 22,
   "metadata": {},
   "outputs": [],
   "source": [
    "function_name_raw_to_num = {\n",
    "    \"lysis\": 1,\n",
    "    \"tail\": 2,\n",
    "    \"connector\": 3,\n",
    "    \"DNA, RNA and nucleotide metabolism\": 4,\n",
    "    \"head and packaging\": 5,\n",
    "    \"other\": 6,\n",
    "    \"transcription regulation\": 7,\n",
    "    \"moron, auxiliary metabolic gene and host takeover\": 8,\n",
    "    \"unknown function\": 9,\n",
    "    \"integration and excision\": 10,\n",
    "    \"unknown_no_hit\": 11,\n",
    "}"
   ]
  },
  {
   "cell_type": "code",
   "execution_count": 19,
   "metadata": {},
   "outputs": [],
   "source": [
    "all_acc_df = pd.read_csv(\"../dataset/acc_all_df.csv\")"
   ]
  },
  {
   "cell_type": "code",
   "execution_count": 23,
   "metadata": {},
   "outputs": [],
   "source": [
    "def prepare_sequence_vector(annotation, acc, average_strand, max_length=30):\n",
    "    # Get ordered proteins\n",
    "    element_proteins = annotation[annotation[\"acc\"] == acc].sort_values(\"start\")\n",
    "    if average_strand < 0:\n",
    "        element_proteins = element_proteins.iloc[::-1]\n",
    "\n",
    "    # Convert functions to numbers using your existing mapping\n",
    "    function_vector = [\n",
    "        function_name_raw_to_num[func] for func in element_proteins[\"pcat\"]\n",
    "    ]\n",
    "\n",
    "    # Truncate if longer than max_length\n",
    "    if len(function_vector) > max_length:\n",
    "        function_vector = function_vector[:max_length]\n",
    "\n",
    "    # Pad with 0 if shorter than max_length\n",
    "    if len(function_vector) < max_length:\n",
    "        function_vector = function_vector + [0] * (max_length - len(function_vector))\n",
    "\n",
    "    return function_vector"
   ]
  },
  {
   "cell_type": "code",
   "execution_count": 24,
   "metadata": {},
   "outputs": [],
   "source": [
    "def get_feature_vector(row):\n",
    "    return prepare_sequence_vector(\n",
    "        annotation, row[\"acc\"], row[\"average_strand\"], max_length=30\n",
    "    )\n",
    "\n",
    "\n",
    "all_acc_df[\"feature_vector\"] = all_acc_df.apply(get_feature_vector, axis=1)"
   ]
  },
  {
   "cell_type": "code",
   "execution_count": 25,
   "metadata": {},
   "outputs": [],
   "source": [
    "all_acc_df.to_csv(\"all_acc_vector.csv\", index=False)"
   ]
  },
  {
   "cell_type": "markdown",
   "metadata": {},
   "source": [
    "# training"
   ]
  },
  {
   "cell_type": "code",
   "execution_count": 2,
   "metadata": {},
   "outputs": [],
   "source": [
    "all_acc_vector = pd.read_csv(\"../dataset/all_acc_vector.csv\")"
   ]
  },
  {
   "cell_type": "code",
   "execution_count": null,
   "metadata": {},
   "outputs": [],
   "source": [
    "# Convert to numpy arrays for training\n",
    "X = np.array(all_acc_df[\"feature_vector\"].tolist())\n",
    "y = all_acc_df[\"what\"]\n",
    "\n",
    "# X will be shape (30407, 30) - all your samples with 30 features each\n",
    "# y will be shape (30407,) - the labels"
   ]
  },
  {
   "cell_type": "code",
   "execution_count": null,
   "metadata": {},
   "outputs": [],
   "source": [
    "# For XGBoost configuration:\n",
    "xgb_params = {\n",
    "    \"enable_categorical\": True,  # Tell XGBoost these are categorical\n",
    "    \"tree_method\": \"hist\",  # Required for categorical features\n",
    "    # Categories will be 0 (padding), 1-11 (your function categories)\n",
    "}"
   ]
  }
 ],
 "metadata": {
  "kernelspec": {
   "display_name": ".venv",
   "language": "python",
   "name": "python3"
  },
  "language_info": {
   "codemirror_mode": {
    "name": "ipython",
    "version": 3
   },
   "file_extension": ".py",
   "mimetype": "text/x-python",
   "name": "python",
   "nbconvert_exporter": "python",
   "pygments_lexer": "ipython3",
   "version": "3.12.7"
  }
 },
 "nbformat": 4,
 "nbformat_minor": 2
}

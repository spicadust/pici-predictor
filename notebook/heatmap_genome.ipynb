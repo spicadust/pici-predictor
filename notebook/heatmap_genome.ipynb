{
 "cells": [
  {
   "cell_type": "code",
   "execution_count": 6,
   "metadata": {},
   "outputs": [],
   "source": [
    "import pandas as pd\n",
    "import numpy as np\n",
    "from PIL import Image, ImageColor\n",
    "import matplotlib.pyplot as plt\n",
    "from tqdm import tqdm\n",
    "import os"
   ]
  },
  {
   "cell_type": "code",
   "execution_count": 7,
   "metadata": {},
   "outputs": [],
   "source": [
    "colors = {\n",
    "    \"lysis\": \"#f35f49\",\n",
    "    \"tail\": \"#07e9a2\",\n",
    "    \"connector\": \"#35d7ff\",\n",
    "    \"dna_rna_and_nucleotide_metabolism\": \"#ffdf59\",\n",
    "    \"head_and_packaging\": \"#3e83f6\",\n",
    "    \"other\": \"#838383\",\n",
    "    \"transcription_regulation\": \"#a861e3\",\n",
    "    \"moron_auxiliary_metabolic_gene_and_host_takeover\": \"#ff59f5\",\n",
    "    \"unknown_function\": \"#313131\",  # maybe should be white or not to be shown\n",
    "    \"integration_and_excision\": \"#fea328\",\n",
    "    \"no_hit\": \"#F5F5F5\",  # maybe not to be shown\n",
    "}"
   ]
  },
  {
   "cell_type": "code",
   "execution_count": 8,
   "metadata": {},
   "outputs": [],
   "source": [
    "def create_genome_heatmap(gff_df, predictions_df, colors, block_size=10):\n",
    "    \"\"\"\n",
    "    Create a single heatmap image for all contigs, each contig is one row.\n",
    "    \"\"\"\n",
    "    contigs = gff_df[\"contig\"].unique()\n",
    "    # Prepare data for all contigs\n",
    "    contig_gene_lists = []\n",
    "    for contig_id in contigs:\n",
    "        contig_data = gff_df[gff_df[\"contig\"] == contig_id].copy()\n",
    "        contig_data = contig_data.sort_values(\"start\")\n",
    "        contig_data = contig_data.merge(\n",
    "            predictions_df[[\"id\", \"top_function\"]],\n",
    "            left_on=\"protein_id\",\n",
    "            right_on=\"id\",\n",
    "            how=\"left\",\n",
    "        )\n",
    "        contig_data = contig_data[\n",
    "            ~contig_data[\"top_function\"].isin([\"no_hit\", \"unknown_function\"])\n",
    "        ]\n",
    "        contig_gene_lists.append(contig_data[\"top_function\"].tolist())\n",
    "    # Determine image size\n",
    "    max_genes = max(len(genes) for genes in contig_gene_lists)\n",
    "    width = max_genes * block_size\n",
    "    height = len(contigs) * block_size\n",
    "    im = Image.new(\"RGBA\", (width, height), \"white\")\n",
    "    # Draw each contig as a row\n",
    "    for row, gene_labels in enumerate(contig_gene_lists):\n",
    "        for i, label in enumerate(gene_labels):\n",
    "            color = ImageColor.getcolor(colors.get(label, colors[\"no_hit\"]), \"RGBA\")\n",
    "            for dx in range(block_size):\n",
    "                for dy in range(block_size):\n",
    "                    x = i * block_size + dx\n",
    "                    y = row * block_size + dy\n",
    "                    if x < width and y < height:\n",
    "                        im.putpixel((x, y), color)\n",
    "    return im"
   ]
  },
  {
   "cell_type": "code",
   "execution_count": 9,
   "metadata": {},
   "outputs": [],
   "source": [
    "gff_df = pd.read_csv(\"../dataset/demonstration_samples/GCF_000175755.1/gff_df.csv\")\n",
    "predictions_df = pd.read_csv(\"../results/demonstration/prediction_GCF_000175755.1.csv\")"
   ]
  },
  {
   "cell_type": "code",
   "execution_count": 10,
   "metadata": {},
   "outputs": [],
   "source": [
    "predictions_df[\"id\"] = predictions_df[\"id\"].str.split().str[0]"
   ]
  },
  {
   "cell_type": "code",
   "execution_count": 11,
   "metadata": {},
   "outputs": [],
   "source": [
    "im = create_genome_heatmap(gff_df, predictions_df, colors, block_size=10)\n",
    "im.save(\"../results/demonstration/FRIK2000_contig_heatmaps/genome_heatmap.png\")"
   ]
  }
 ],
 "metadata": {
  "kernelspec": {
   "display_name": ".venv",
   "language": "python",
   "name": "python3"
  },
  "language_info": {
   "codemirror_mode": {
    "name": "ipython",
    "version": 3
   },
   "file_extension": ".py",
   "mimetype": "text/x-python",
   "name": "python",
   "nbconvert_exporter": "python",
   "pygments_lexer": "ipython3",
   "version": "3.12.7"
  }
 },
 "nbformat": 4,
 "nbformat_minor": 2
}

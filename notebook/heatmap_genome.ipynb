{
 "cells": [
  {
   "cell_type": "code",
   "execution_count": 1,
   "metadata": {},
   "outputs": [],
   "source": [
    "import pandas as pd\n",
    "import numpy as np\n",
    "from PIL import Image, ImageColor\n",
    "import matplotlib.pyplot as plt\n",
    "from tqdm import tqdm\n",
    "import os"
   ]
  },
  {
   "cell_type": "markdown",
   "metadata": {},
   "source": [
    "what I have:  \n",
    "- gff file containing location info - has protein_id/contig/start/end/strand  \n",
    "- function predicton results: predicted function result in \"top_function\", protein id in column \"id\"   \n",
    "- color mapping\n",
    "\n",
    "what I want:  \n",
    "the idea is to show function patterns in the bacteria genome  \n",
    "there are 245 contigs, my idea is to make a heatmap for each contig  \n",
    "one contig can have more than 100 proteins, so maybe it's hard to show all the genes in one row  \n",
    "may utilize the code in the script; have a pipline in python notebook  "
   ]
  },
  {
   "cell_type": "code",
   "execution_count": 2,
   "metadata": {},
   "outputs": [],
   "source": [
    "colors = {\n",
    "    \"lysis\": \"#f35f49\",\n",
    "    \"tail\": \"#07e9a2\",\n",
    "    \"connector\": \"#35d7ff\",\n",
    "    \"dna_rna_and_nucleotide_metabolism\": \"#ffdf59\",\n",
    "    \"head_and_packaging\": \"#3e83f6\",\n",
    "    \"other\": \"#838383\",\n",
    "    \"transcription_regulation\": \"#a861e3\",\n",
    "    \"moron_auxiliary_metabolic_gene_and_host_takeover\": \"#ff59f5\",\n",
    "    \"unknown_function\": \"#313131\",  # maybe should be white or not to be shown\n",
    "    \"integration_and_excision\": \"#fea328\",\n",
    "    \"no_hit\": \"#F5F5F5\",  # maybe not to be shown\n",
    "}"
   ]
  },
  {
   "cell_type": "code",
   "execution_count": 3,
   "metadata": {},
   "outputs": [],
   "source": [
    "def create_contig_heatmap(gff_df, predictions_df, contig_id, colors):\n",
    "    \"\"\"\n",
    "    Create a heatmap for a single contig showing genes in their true genomic order,\n",
    "    excluding 'no_hit' and 'unknown_function' genes\n",
    "    \"\"\"\n",
    "    # Filter data for this contig\n",
    "    contig_data = gff_df[gff_df[\"contig\"] == contig_id].copy()\n",
    "\n",
    "    # Sort by start position\n",
    "    contig_data = contig_data.sort_values(\"start\")\n",
    "\n",
    "    # Get predictions for these proteins\n",
    "    contig_data = contig_data.merge(\n",
    "        predictions_df[[\"id\", \"top_function\"]],\n",
    "        left_on=\"protein_id\",\n",
    "        right_on=\"id\",\n",
    "        how=\"left\",\n",
    "    )\n",
    "\n",
    "    # Filter out 'no_hit' and 'unknown_function' genes\n",
    "    contig_data = contig_data[\n",
    "        ~contig_data[\"top_function\"].isin([\"no_hit\", \"unknown_function\"])\n",
    "    ]\n",
    "\n",
    "    # If no genes left after filtering, return None\n",
    "    if len(contig_data) == 0:\n",
    "        return None\n",
    "\n",
    "    # Create image with width based on actual number of genes\n",
    "    width = len(contig_data) * 10  # 10 times wider\n",
    "    height = 10  # 10 pixels tall\n",
    "\n",
    "    im = Image.new(\"RGBA\", (width, height), \"white\")\n",
    "\n",
    "    # Fill in the heatmap\n",
    "    for i, row in enumerate(contig_data.itertuples()):\n",
    "        # Get color for this function\n",
    "        function = row.top_function\n",
    "        color = ImageColor.getcolor(colors.get(function, colors[\"no_hit\"]), \"RGBA\")\n",
    "\n",
    "        # Set pixel color for a 10x10 block\n",
    "        for x in range(10):  # 10 pixels wide\n",
    "            for y in range(10):  # 10 pixels tall\n",
    "                im.putpixel((i * 10 + x, y), color)\n",
    "\n",
    "    return im"
   ]
  },
  {
   "cell_type": "code",
   "execution_count": 4,
   "metadata": {},
   "outputs": [],
   "source": [
    "def create_all_contig_heatmaps(gff_df, predictions_df, output_dir, colors):\n",
    "    \"\"\"\n",
    "    Create heatmaps for all contigs\n",
    "    \"\"\"\n",
    "    # Get unique contigs\n",
    "    contigs = gff_df[\"contig\"].unique()\n",
    "\n",
    "    # Create output directory if it doesn't exist\n",
    "    os.makedirs(output_dir, exist_ok=True)\n",
    "\n",
    "    # Create heatmap for each contig\n",
    "    for contig_id in tqdm(contigs):\n",
    "        # Create heatmap\n",
    "        im = create_contig_heatmap(gff_df, predictions_df, contig_id, colors)\n",
    "\n",
    "        # Skip if no valid genes found\n",
    "        if im is None:\n",
    "            print(f\"Skipping contig {contig_id} - no valid genes found\")\n",
    "            continue\n",
    "\n",
    "        # Save only the large version\n",
    "        output_path = f\"{output_dir}/contig_{contig_id}_heatmap.png\"\n",
    "        im.save(output_path)"
   ]
  },
  {
   "cell_type": "code",
   "execution_count": 5,
   "metadata": {},
   "outputs": [],
   "source": [
    "gff_df = pd.read_csv(\n",
    "    \"../dataset/demonstration_samples/Escherichia_coli_O157_H7_str_FRIK2000/gff_df.csv\"\n",
    ")\n",
    "predictions_df = pd.read_csv(\"../results/demonstration/prediction_GCF_000175755.1.csv\")"
   ]
  },
  {
   "cell_type": "code",
   "execution_count": 6,
   "metadata": {},
   "outputs": [],
   "source": [
    "predictions_df[\"id\"] = predictions_df[\"id\"].str.split().str[0]"
   ]
  },
  {
   "cell_type": "code",
   "execution_count": 7,
   "metadata": {},
   "outputs": [
    {
     "name": "stderr",
     "output_type": "stream",
     "text": [
      " 36%|███▌      | 88/245 [00:00<00:00, 436.96it/s]"
     ]
    },
    {
     "name": "stdout",
     "output_type": "stream",
     "text": [
      "Skipping contig NZ_ACXO01000007.1 - no valid genes found\n",
      "Skipping contig NZ_ACXO01000009.1 - no valid genes found\n",
      "Skipping contig NZ_ACXO01000034.1 - no valid genes found\n",
      "Skipping contig NZ_ACXO01000059.1 - no valid genes found\n",
      "Skipping contig NZ_ACXO01000076.1 - no valid genes found\n",
      "Skipping contig NZ_ACXO01000080.1 - no valid genes found\n",
      "Skipping contig NZ_ACXO01000085.1 - no valid genes found\n",
      "Skipping contig NZ_ACXO01000086.1 - no valid genes found\n",
      "Skipping contig NZ_ACXO01000094.1 - no valid genes found\n",
      "Skipping contig NZ_ACXO01000095.1 - no valid genes found\n"
     ]
    },
    {
     "name": "stderr",
     "output_type": "stream",
     "text": [
      " 78%|███████▊  | 192/245 [00:00<00:00, 449.29it/s]"
     ]
    },
    {
     "name": "stdout",
     "output_type": "stream",
     "text": [
      "Skipping contig NZ_ACXO01000105.1 - no valid genes found\n",
      "Skipping contig NZ_ACXO01000107.1 - no valid genes found\n",
      "Skipping contig NZ_ACXO01000108.1 - no valid genes found\n",
      "Skipping contig NZ_ACXO01000115.1 - no valid genes found\n",
      "Skipping contig NZ_ACXO01000129.1 - no valid genes found\n",
      "Skipping contig NZ_ACXO01000135.1 - no valid genes found\n",
      "Skipping contig NZ_ACXO01000136.1 - no valid genes found\n",
      "Skipping contig NZ_ACXO01000149.1 - no valid genes found\n",
      "Skipping contig NZ_ACXO01000150.1 - no valid genes found\n",
      "Skipping contig NZ_ACXO01000159.1 - no valid genes found\n",
      "Skipping contig NZ_ACXO01000182.1 - no valid genes found\n",
      "Skipping contig NZ_ACXO01000183.1 - no valid genes found\n",
      "Skipping contig NZ_ACXO01000186.1 - no valid genes found\n",
      "Skipping contig NZ_ACXO01000193.1 - no valid genes found\n"
     ]
    },
    {
     "name": "stderr",
     "output_type": "stream",
     "text": [
      "100%|██████████| 245/245 [00:00<00:00, 449.59it/s]"
     ]
    },
    {
     "name": "stdout",
     "output_type": "stream",
     "text": [
      "Skipping contig NZ_ACXO01000197.1 - no valid genes found\n",
      "Skipping contig NZ_ACXO01000198.1 - no valid genes found\n",
      "Skipping contig NZ_ACXO01000199.1 - no valid genes found\n",
      "Skipping contig NZ_ACXO01000203.1 - no valid genes found\n",
      "Skipping contig NZ_ACXO01000207.1 - no valid genes found\n",
      "Skipping contig NZ_ACXO01000208.1 - no valid genes found\n",
      "Skipping contig NZ_ACXO01000214.1 - no valid genes found\n",
      "Skipping contig NZ_ACXO01000224.1 - no valid genes found\n",
      "Skipping contig NZ_ACXO01000226.1 - no valid genes found\n",
      "Skipping contig NZ_ACXO01000229.1 - no valid genes found\n",
      "Skipping contig NZ_ACXO01000242.1 - no valid genes found\n",
      "Skipping contig NZ_ACXO01000243.1 - no valid genes found\n"
     ]
    },
    {
     "name": "stderr",
     "output_type": "stream",
     "text": [
      "\n"
     ]
    }
   ],
   "source": [
    "create_all_contig_heatmaps(\n",
    "    gff_df=gff_df,\n",
    "    predictions_df=predictions_df,\n",
    "    output_dir=\"../results/demonstration/FRIK2000_contig_heatmaps\",\n",
    "    colors=colors,\n",
    ")"
   ]
  }
 ],
 "metadata": {
  "kernelspec": {
   "display_name": ".venv",
   "language": "python",
   "name": "python3"
  },
  "language_info": {
   "codemirror_mode": {
    "name": "ipython",
    "version": 3
   },
   "file_extension": ".py",
   "mimetype": "text/x-python",
   "name": "python",
   "nbconvert_exporter": "python",
   "pygments_lexer": "ipython3",
   "version": "3.12.7"
  }
 },
 "nbformat": 4,
 "nbformat_minor": 2
}

{
 "cells": [
  {
   "cell_type": "markdown",
   "metadata": {},
   "source": [
    "each line in the features df: features (1711-dim or 211-dim) with a column \"id\"  \n",
    "10 predictors telling a protein serves this certain function or not: [\n",
    "    \"lysis\",\n",
    "    \"tail\",\n",
    "    \"connector\",\n",
    "    \"dna_rna_and_nucleotide_metabolism\",\n",
    "    \"head_and_packaging\",\n",
    "    \"other\",\n",
    "    \"transcription_regulation\",\n",
    "    \"moron_auxiliary_metabolic_gene_and_host_takeover\",\n",
    "    \"unknown_function\",\n",
    "    \"integration_and_excision\",\n",
    "]\n",
    "\n",
    "predictor paths: \"../models/best_configs/xxx(function name)_predictor.joblib\"\n",
    "\n",
    "best threshold:\n",
    "[\n",
    "    \"lysis\": 0.06,\n",
    "    \"tail\": 0.03,\n",
    "    \"connector\": 0.03,\n",
    "    \"dna_rna_and_nucleotide_metabolism\": 0.04,\n",
    "    \"head_and_packaging\": 0.01,\n",
    "    \"other\": 0.01,\n",
    "    \"transcription_regulation\": 0.01,\n",
    "    \"moron_auxiliary_metabolic_gene_and_host_takeover\": 0.01,\n",
    "    \"unknown_function\": 0.29,\n",
    "    \"integration_and_excision\": 0.23,\n",
    "]\n",
    "\n",
    "\n",
    "use the 10 predictors to predict on each proteins and output the result for each protein; note that \"unknown_function\" use \"features_211dim\" and other 9 predictors use \"features\" which is 1711-dim\n",
    "\n",
    "output: dataframe, where columns are: id, hit_number, hit_function;  \n",
    "hit_number is the number of predictors that give positive answer (like 0 or 1), \n",
    "hit_function is the name of predictors that give positive answer (like \"connector\")\n",
    "\n",
    "goal: write functions in script as much as possible so that it is easier to implement"
   ]
  },
  {
   "cell_type": "code",
   "execution_count": 1,
   "metadata": {},
   "outputs": [],
   "source": [
    "import pandas as pd\n",
    "import numpy as np\n",
    "from joblib import load\n",
    "from typing import List, Dict, Tuple, Any\n",
    "from sklearn.preprocessing import StandardScaler"
   ]
  },
  {
   "cell_type": "code",
   "execution_count": 2,
   "metadata": {},
   "outputs": [],
   "source": [
    "FUNCTION_NAMES = [\n",
    "    \"lysis\",\n",
    "    \"tail\",\n",
    "    \"connector\",\n",
    "    \"dna_rna_and_nucleotide_metabolism\",\n",
    "    \"head_and_packaging\",\n",
    "    \"other\",\n",
    "    \"transcription_regulation\",\n",
    "    \"moron_auxiliary_metabolic_gene_and_host_takeover\",\n",
    "    \"unknown_function\",\n",
    "    \"integration_and_excision\",\n",
    "]\n",
    "\n",
    "# BEST_THRESHOLDS = {\n",
    "#     \"lysis\": 0.06,\n",
    "#     \"tail\": 0.03,\n",
    "#     \"connector\": 0.03,\n",
    "#     \"dna_rna_and_nucleotide_metabolism\": 0.04,\n",
    "#     \"head_and_packaging\": 0.01,\n",
    "#     \"other\": 0.01,\n",
    "#     \"transcription_regulation\": 0.01,\n",
    "#     \"moron_auxiliary_metabolic_gene_and_host_takeover\": 0.01,\n",
    "#     \"unknown_function\": 0.29,\n",
    "#     \"integration_and_excision\": 0.23,\n",
    "# }\n",
    "\n",
    "THRESHOLDS = {\n",
    "    \"lysis\": 0.5,\n",
    "    \"tail\": 0.5,\n",
    "    \"connector\": 0.5,\n",
    "    \"dna_rna_and_nucleotide_metabolism\": 0.5,\n",
    "    \"head_and_packaging\": 0.5,\n",
    "    \"other\": 0.5,\n",
    "    \"transcription_regulation\": 0.5,\n",
    "    \"moron_auxiliary_metabolic_gene_and_host_takeover\": 0.5,\n",
    "    \"unknown_function\": 0.5,\n",
    "    \"integration_and_excision\": 0.5,\n",
    "}\n"
   ]
  },
  {
   "cell_type": "code",
   "execution_count": 3,
   "metadata": {},
   "outputs": [],
   "source": [
    "def load_predictor(function_name: str) -> Tuple[Any, StandardScaler]:\n",
    "    \"\"\"Load a predictor model and its scaler from the saved file.\"\"\"\n",
    "    model_path = f\"../models/best_configs/{function_name}_predictor.joblib\"\n",
    "    loaded_data = load(model_path)\n",
    "\n",
    "    # The loaded data is a dictionary with 'model' and 'scaler' keys\n",
    "    model = loaded_data[\"model\"]\n",
    "    scaler = loaded_data[\"scaler\"]\n",
    "\n",
    "    return model, scaler\n",
    "\n",
    "\n",
    "def predict_single_protein(\n",
    "    protein_features: np.ndarray,\n",
    "    function_name: str,\n",
    "    model: Any,\n",
    "    scaler: StandardScaler,\n",
    "    threshold: float,\n",
    ") -> bool:\n",
    "    \"\"\"Predict if a single protein has a specific function.\"\"\"\n",
    "    # Scale features if scaler is available\n",
    "    if scaler is not None:\n",
    "        features_scaled = scaler.transform(protein_features.reshape(1, -1))\n",
    "    else:\n",
    "        features_scaled = protein_features.reshape(1, -1)\n",
    "\n",
    "    # Get prediction probability\n",
    "    prob = model.predict_proba(features_scaled)[0, 1]\n",
    "    # Return True if probability exceeds threshold\n",
    "    return prob > threshold\n",
    "\n",
    "\n",
    "def predict_all_functions_with_probs(features_df: pd.DataFrame) -> pd.DataFrame:\n",
    "    results = []\n",
    "    features_211dim_df = features_df.drop(\n",
    "        columns=[\n",
    "            col for col in features_df.columns if \"DIPEP\" in col or \"TRIPEP\" in col\n",
    "        ]\n",
    "    )\n",
    "\n",
    "    for _, row in features_df.iterrows():\n",
    "        protein_id = row[\"id\"]\n",
    "        protein_features = row.drop(\"id\").values\n",
    "        protein_row_211dim = features_211dim_df[\n",
    "            features_211dim_df[\"id\"] == protein_id\n",
    "        ].iloc[0]\n",
    "        protein_features_211dim = protein_row_211dim.drop(\"id\").values\n",
    "\n",
    "        hit_functions = []\n",
    "        function_probs = {}\n",
    "\n",
    "        for function_name in FUNCTION_NAMES:\n",
    "            model, scaler = load_predictor(function_name)\n",
    "            if function_name == \"unknown_function\":\n",
    "                features = protein_features_211dim\n",
    "            else:\n",
    "                features = protein_features\n",
    "\n",
    "            # Get probability\n",
    "            if scaler is not None:\n",
    "                features_scaled = scaler.transform(features.reshape(1, -1))\n",
    "            else:\n",
    "                features_scaled = features.reshape(1, -1)\n",
    "            prob = model.predict_proba(features_scaled)[0, 1]\n",
    "            function_probs[function_name] = prob\n",
    "\n",
    "            if prob > THRESHOLDS[function_name]:\n",
    "                hit_functions.append(function_name)\n",
    "\n",
    "        max_func = max(function_probs, key=function_probs.get)\n",
    "        max_prob = function_probs[max_func]\n",
    "        if max_prob > THRESHOLDS[max_func]:\n",
    "            top_function = max_func\n",
    "        else:\n",
    "            top_function = \"no_hit\"\n",
    "\n",
    "        # Add all probabilities as columns\n",
    "        result_row = {\n",
    "            \"id\": protein_id,\n",
    "            \"hit_number\": len(hit_functions),\n",
    "            \"hit_function\": \",\".join(hit_functions) if hit_functions else \"\",\n",
    "            \"top_function\": top_function,\n",
    "        }\n",
    "        # Add each function's probability as a column\n",
    "        for func, prob in function_probs.items():\n",
    "            result_row[f\"prob_{func}\"] = prob\n",
    "\n",
    "        results.append(result_row)\n",
    "\n",
    "    return pd.DataFrame(results)"
   ]
  },
  {
   "cell_type": "code",
   "execution_count": 4,
   "metadata": {},
   "outputs": [],
   "source": [
    "features = pd.read_parquet(\n",
    "    \"../dataset/demonstration_samples/Escherichia_coli_O157_H7_str_FRIK2000/features.pa\"\n",
    ")\n"
   ]
  },
  {
   "cell_type": "code",
   "execution_count": 5,
   "metadata": {},
   "outputs": [],
   "source": [
    "results_df = predict_all_functions_with_probs(features)"
   ]
  },
  {
   "cell_type": "code",
   "execution_count": null,
   "metadata": {},
   "outputs": [],
   "source": [
    "results_df.to_csv(\"results/demonstration/prediction_FRIK2000.csv\", index=False)"
   ]
  },
  {
   "cell_type": "code",
   "execution_count": 7,
   "metadata": {},
   "outputs": [
    {
     "data": {
      "text/plain": [
       "hit_number\n",
       "0    2406\n",
       "1    2314\n",
       "2     348\n",
       "3      25\n",
       "4       2\n",
       "Name: count, dtype: int64"
      ]
     },
     "execution_count": 7,
     "metadata": {},
     "output_type": "execute_result"
    }
   ],
   "source": [
    "results_df[\"hit_number\"].value_counts()"
   ]
  },
  {
   "cell_type": "code",
   "execution_count": 8,
   "metadata": {},
   "outputs": [
    {
     "data": {
      "text/plain": [
       "top_function\n",
       "no_hit                                              2406\n",
       "moron_auxiliary_metabolic_gene_and_host_takeover     771\n",
       "dna_rna_and_nucleotide_metabolism                    488\n",
       "unknown_function                                     446\n",
       "tail                                                 217\n",
       "other                                                209\n",
       "transcription_regulation                             157\n",
       "head_and_packaging                                   137\n",
       "lysis                                                112\n",
       "integration_and_excision                              90\n",
       "connector                                             62\n",
       "Name: count, dtype: int64"
      ]
     },
     "execution_count": 8,
     "metadata": {},
     "output_type": "execute_result"
    }
   ],
   "source": [
    "results_df[\"top_function\"].value_counts()"
   ]
  },
  {
   "cell_type": "code",
   "execution_count": 12,
   "metadata": {},
   "outputs": [],
   "source": [
    "results_df[\"id\"] = results_df[\"id\"].str.split().str[0]"
   ]
  },
  {
   "cell_type": "code",
   "execution_count": 9,
   "metadata": {},
   "outputs": [
    {
     "data": {
      "image/png": "[encoded data removed]",
      "text/plain": [
       "<Figure size 640x480 with 1 Axes>"
      ]
     },
     "metadata": {},
     "output_type": "display_data"
    }
   ],
   "source": [
    "import matplotlib.pyplot as plt\n",
    "\n",
    "for func in FUNCTION_NAMES:\n",
    "    plt.hist(results_df[f\"prob_{func}\"], bins=50, alpha=0.5, label=func)\n",
    "plt.legend()\n",
    "plt.xlabel(\"Predicted probability\")\n",
    "plt.ylabel(\"Count\")\n",
    "plt.title(\"Distribution of predicted probabilities for all functions\")\n",
    "plt.show()"
   ]
  }
 ],
 "metadata": {
  "kernelspec": {
   "display_name": ".venv",
   "language": "python",
   "name": "python3"
  },
  "language_info": {
   "codemirror_mode": {
    "name": "ipython",
    "version": 3
   },
   "file_extension": ".py",
   "mimetype": "text/x-python",
   "name": "python",
   "nbconvert_exporter": "python",
   "pygments_lexer": "ipython3",
   "version": "3.12.7"
  }
 },
 "nbformat": 4,
 "nbformat_minor": 2
}

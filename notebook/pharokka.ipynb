{
 "cells": [
  {
   "cell_type": "markdown",
   "metadata": {},
   "source": [
    "pharokka.py -i ~/Repos/pici-predictor/dataset/PICI_NucSequences_060723.fst -o ~/Repos/pici-predictor/results/pharokka/ -d ~/Repos/pici-predictor/pharokka_db/ -t 4 -f"
   ]
  }
 ],
 "metadata": {
  "kernelspec": {
   "display_name": ".venv",
   "language": "python",
   "name": "python3"
  },
  "language_info": {
   "name": "python",
   "version": "3.12.7"
  }
 },
 "nbformat": 4,
 "nbformat_minor": 2
}

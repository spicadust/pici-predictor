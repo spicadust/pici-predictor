{
 "cells": [
  {
   "cell_type": "code",
   "execution_count": 1,
   "metadata": {},
   "outputs": [],
   "source": [
    "import pandas as pd\n",
    "import numpy as np\n",
    "from Bio import SeqIO\n",
    "import glob"
   ]
  },
  {
   "cell_type": "markdown",
   "metadata": {},
   "source": [
    "### metadata: genome"
   ]
  },
  {
   "cell_type": "code",
   "execution_count": 3,
   "metadata": {},
   "outputs": [],
   "source": [
    "df_0 = pd.read_excel(\n",
    "    \"../dataset/AllSatellitesTables.xlsx\", sheet_name=\"PICI\", engine=\"openpyxl\"\n",
    ")\n",
    "print(df_0.shape)\n",
    "print(df_0.columns)"
   ]
  },
  {
   "cell_type": "code",
   "execution_count": null,
   "metadata": {},
   "outputs": [],
   "source": [
    "metadata = pd.read_csv(\"../dataset/PICI_GenomicNucInfo_060723.csv\")\n",
    "print(metadata.shape)\n",
    "print(metadata.columns)"
   ]
  },
  {
   "cell_type": "code",
   "execution_count": 72,
   "metadata": {},
   "outputs": [],
   "source": [
    "metadata[\"PICI_ID_allsets\"] = metadata[\"PICI_ID\"].str.split(\".Set\", n=1).str[0]\n",
    "cols = [\"PICI_ID_allsets\"] + [\n",
    "    col for col in metadata.columns if col != \"PICI_ID_allsets\"\n",
    "]\n",
    "metadata = metadata[cols]\n",
    "metadata = metadata.drop(columns=[\"Unnamed: 0\"])"
   ]
  },
  {
   "cell_type": "code",
   "execution_count": null,
   "metadata": {},
   "outputs": [],
   "source": [
    "metadata"
   ]
  },
  {
   "cell_type": "code",
   "execution_count": 74,
   "metadata": {},
   "outputs": [],
   "source": [
    "duplicated_sets = metadata.groupby(\"PICI_ID_allsets\")[\"PICI_ID\"].nunique()\n",
    "duplicated_sets = duplicated_sets[duplicated_sets > 1].index\n",
    "duplicate_rows = metadata[metadata[\"PICI_ID_allsets\"].isin(duplicated_sets)]\n",
    "duplicate_rows = duplicate_rows.sort_values([\"PICI_ID_allsets\", \"PICI_ID\"])"
   ]
  },
  {
   "cell_type": "code",
   "execution_count": 79,
   "metadata": {},
   "outputs": [],
   "source": [
    "duplicate_rows.to_csv(\"../dataset/duplicate_picis.csv\", index=False)"
   ]
  },
  {
   "cell_type": "code",
   "execution_count": null,
   "metadata": {},
   "outputs": [],
   "source": [
    "print(len(metadata[\"PICI_ID_allsets\"].unique()))\n",
    "print(len(metadata[\"PICI_ID\"].unique()))\n",
    "print(len(duplicate_rows[\"PICI_ID_allsets\"].unique()))\n",
    "print(len(duplicate_rows[\"PICI_ID\"].unique()))\n",
    "# 1435 - 1286 = 287 - 138 = 149"
   ]
  },
  {
   "cell_type": "markdown",
   "metadata": {},
   "source": [
    "### metadata: protein"
   ]
  },
  {
   "cell_type": "code",
   "execution_count": null,
   "metadata": {},
   "outputs": [],
   "source": [
    "seqs = list(SeqIO.parse(\"../dataset/PICI_NucSequences_060723.fst\", \"fasta\"))\n",
    "print(len(seqs))\n",
    "print(\"first sample:\")\n",
    "print(seqs[0])"
   ]
  },
  {
   "cell_type": "code",
   "execution_count": null,
   "metadata": {},
   "outputs": [],
   "source": [
    "seqs_prt_1 = list(\n",
    "    SeqIO.parse(\n",
    "        \"../dataset/SatelliteProteomes/ACER001.0321.00001.C001.PICI.TypeB.variant0001.Set1.prt\",\n",
    "        \"fasta\",\n",
    "    )\n",
    ")\n",
    "print(len(seqs_prt_1))\n",
    "print(seqs_prt_1[0])"
   ]
  },
  {
   "cell_type": "code",
   "execution_count": 2,
   "metadata": {},
   "outputs": [],
   "source": [
    "data_prt = []\n",
    "\n",
    "prt_files = glob.glob(\"../dataset/SatelliteProteomes/*.prt\")\n",
    "\n",
    "for prt_file in prt_files:\n",
    "    sequences = list(SeqIO.parse(prt_file, \"fasta\"))\n",
    "\n",
    "    for seq in sequences:\n",
    "        # Extract function (part after the last '|')\n",
    "        function = (\n",
    "            seq.description.split(\"|\")[-1].strip() if \"|\" in seq.description else \"\"\n",
    "        )\n",
    "\n",
    "        # Extract PICI_ID (everything before the last underscore in Protein_ID)\n",
    "        pici_id = \"_\".join(seq.id.split(\"_\")[:-1])\n",
    "\n",
    "        # Create dictionary for this entry\n",
    "        entry = {\n",
    "            \"PICI_ID\": pici_id,\n",
    "            \"Protein_ID\": seq.id,\n",
    "            \"Function\": function,\n",
    "            \"Description\": seq.description,\n",
    "        }\n",
    "\n",
    "        data_prt.append(entry)\n",
    "\n",
    "df_prt = pd.DataFrame(data_prt)"
   ]
  },
  {
   "cell_type": "code",
   "execution_count": 38,
   "metadata": {},
   "outputs": [],
   "source": [
    "df_prt[\"PICI_ID_allsets\"] = df_prt[\"PICI_ID\"].str.split(\".Set\", n=1).str[0]\n",
    "cols = [\"PICI_ID_allsets\"] + [col for col in df_prt.columns if col != \"PICI_ID_allsets\"]\n",
    "df_prt = df_prt[cols]"
   ]
  },
  {
   "cell_type": "code",
   "execution_count": 40,
   "metadata": {},
   "outputs": [],
   "source": [
    "df_prt.to_csv(\"../dataset/PICI_proteins.csv\", index=False)"
   ]
  },
  {
   "cell_type": "code",
   "execution_count": 3,
   "metadata": {},
   "outputs": [],
   "source": [
    "df_prt = pd.read_csv(\"../dataset/PICI_proteins.csv\")"
   ]
  },
  {
   "cell_type": "code",
   "execution_count": null,
   "metadata": {},
   "outputs": [],
   "source": [
    "df_prt.head()"
   ]
  },
  {
   "cell_type": "code",
   "execution_count": null,
   "metadata": {},
   "outputs": [],
   "source": [
    "print(len(df_prt[\"PICI_ID_allsets\"].unique()))\n",
    "print(len(df_prt[\"PICI_ID\"].unique()))\n",
    "print(len(df_prt[\"Protein_ID\"].unique()))\n",
    "print(len(df_prt[\"Description\"].unique()))\n",
    "print(len(df_prt[\"Function\"].unique()))"
   ]
  },
  {
   "cell_type": "markdown",
   "metadata": {},
   "source": [
    "### protein function"
   ]
  },
  {
   "cell_type": "code",
   "execution_count": 8,
   "metadata": {},
   "outputs": [],
   "source": [
    "function_counts = pd.read_csv(\"../results/proteins_all_function_counts.tsv\", sep=\"\\t\")"
   ]
  },
  {
   "cell_type": "code",
   "execution_count": 7,
   "metadata": {},
   "outputs": [],
   "source": [
    "# function_counts = df_prt[\"Function\"].value_counts().reset_index(name=\"Count\")"
   ]
  },
  {
   "cell_type": "code",
   "execution_count": null,
   "metadata": {},
   "outputs": [],
   "source": [
    "function_counts"
   ]
  },
  {
   "cell_type": "code",
   "execution_count": 28,
   "metadata": {},
   "outputs": [],
   "source": [
    "integrase_count = function_counts[function_counts[\"Function\"].str.contains(\"integrase\")]\n",
    "integrase_count.to_csv(\"../dataset/proteins_integrases.csv\", index=False)\n",
    "alpa_count = function_counts[function_counts[\"Function\"].str.contains(\"AlpA\")]\n",
    "alpa_count.to_csv(\"../dataset/proteins_AlpA.csv\", index=False)\n",
    "capsid_count = function_counts[function_counts[\"Function\"].str.contains(\"capsid\")]\n",
    "capsid_count.to_csv(\"../dataset/proteins_capsid.csv\", index=False)"
   ]
  },
  {
   "cell_type": "code",
   "execution_count": 5,
   "metadata": {},
   "outputs": [],
   "source": [
    "pici_functions = df_prt.groupby(\"PICI_ID\")[\"Function\"].agg(list)\n",
    "\n",
    "\n",
    "def check_functions(func_list):\n",
    "    func_str = \" \".join(func_list).lower()\n",
    "    return \"alpa\" in func_str\n",
    "\n",
    "\n",
    "# (\"integrase\" in func_str) and ('capsid' not in func_str)\n",
    "\n",
    "filtered_picis = pici_functions[pici_functions.apply(check_functions)]\n",
    "\n",
    "result_df = pd.DataFrame(\n",
    "    {\"PICI_ID\": filtered_picis.index, \"All_Functions\": filtered_picis.values}\n",
    ")"
   ]
  },
  {
   "cell_type": "code",
   "execution_count": 54,
   "metadata": {},
   "outputs": [],
   "source": [
    "result_df.to_csv(\"../results/picis_integrase_alpa.csv\", index=False)"
   ]
  },
  {
   "cell_type": "markdown",
   "metadata": {},
   "source": [
    "### cfpici"
   ]
  },
  {
   "cell_type": "code",
   "execution_count": null,
   "metadata": {},
   "outputs": [],
   "source": [
    "df_prt = pd.read_csv(\"../dataset/PICI_proteins.csv\")"
   ]
  },
  {
   "cell_type": "code",
   "execution_count": null,
   "metadata": {},
   "outputs": [],
   "source": [
    "# df_prt[\n",
    "#     df_prt[\"PICI_ID\"].str.contains(\"CFPICI\") & df_prt[\"Function\"].str.contains(\"capsid\")\n",
    "# ]\n",
    "len(df_prt[df_prt[\"PICI_ID\"].str.contains(\"CFPICI\")][\"PICI_ID\"].unique())\n",
    "# there are 30 cfpici among 1435 picis"
   ]
  },
  {
   "cell_type": "code",
   "execution_count": null,
   "metadata": {},
   "outputs": [],
   "source": [
    "seqs = list(SeqIO.parse(\"../dataset/PICI_NucSequences_060723.fst\", \"fasta\"))\n",
    "print(seqs[0])"
   ]
  },
  {
   "cell_type": "code",
   "execution_count": null,
   "metadata": {},
   "outputs": [],
   "source": [
    "for seq in seqs:\n",
    "    if seq.description == \"SIME002.0321.00024.C001.PICI.TypeB.variant0001.SetR1\":\n",
    "        print(seq)\n",
    "        print(len(seq.seq))\n",
    "        break"
   ]
  },
  {
   "cell_type": "code",
   "execution_count": null,
   "metadata": {},
   "outputs": [],
   "source": [
    "pici_30 = list(\n",
    "    [\n",
    "        \"SIME002.0321.00024.C001.PICI.TypeB.variant0001.SetR1\",\n",
    "        \"SIME002.0321.00009.C001.PICI.TypeB.variant0001.SetR1\",\n",
    "        \"STSI001.0321.00005.C001.PICI.TypeB.variant0001.SetR1\",\n",
    "        \"LAPL001.0321.00074.C001.PICI.TypeB.variant0003.SetR1\",\n",
    "        \"SIME002.0321.00018.C001.PICI.TypeB.variant0001.SetR1\",\n",
    "        \"STSI001.0321.00003.C001.PICI.TypeB.variant0001.SetR1\",\n",
    "        \"LAPL001.0321.00073.C001.PICI.TypeB.variant0003.SetR1\",\n",
    "        \"SIME002.0321.00002.C001.PICI.TypeB.variant0001.SetR1\",\n",
    "        \"STAU002.0321.00280.C001.PICI.TypeB.variant0004.SetR1\",\n",
    "        \"SPYA001.0321.00006.C001.PICI.TypeB.variant0001.SetR1\",\n",
    "        \"ESCO001.0321.00563.C001.PICI.TypeA.SetR1\",\n",
    "        \"ESCO001.0321.00097.C001.PICI.TypeA.SetR1\",\n",
    "        \"CIFR005.0321.00052.C001.PICI.TypeB.variant0001.SetR1\",\n",
    "        \"STSI001.0321.00004.C001.PICI.TypeB.variant0001.SetR1\",\n",
    "        \"CIFR005.0321.00053.C001.PICI.TypeB.variant0001.SetR1\",\n",
    "        \"DEVU001.0321.00001.C001.PICI.TypeB.variant0001.SetR1\",\n",
    "        \"ESCO001.0321.00309.C001.PICI.TypeB.variant0001.SetR1\",\n",
    "        \"ESCO001.0321.01281.C001.PICI.TypeA.SetR1\",\n",
    "        \"DEVU001.0321.00001.C001.PICI.TypeB.variant0001.SetR2\",\n",
    "        \"PAKO001.0321.00001.C001.PICI.TypeB.variant0004.SetR1\",\n",
    "        \"DEVU001.0321.00004.C001.PICI.TypeB.variant0001.SetR1\",\n",
    "        \"STSI001.0321.00006.C001.PICI.TypeB.variant0001.SetR1\",\n",
    "        \"ESCO001.0321.00448.C001.PICI.TypeA.SetR1\",\n",
    "        \"NIHA002.0321.00001.C001.PICI.TypeB.variant0001.SetR1\",\n",
    "        \"RHET001.0321.00004.C001.PICI.TypeB.variant0001.SetR1\",\n",
    "        \"CIFR005.0321.00101.C001.PICI.TypeB.variant0001.SetR1\",\n",
    "        \"STAR001.0321.00001.C001.PICI.TypeB.variant0002.SetR1\",\n",
    "        \"PAKO001.0321.00001.C002.PICI.TypeB.variant0004.SetR1\",\n",
    "        \"CIAM001.0321.00007.C001.PICI.TypeB.variant0001.SetR1\",\n",
    "        \"STSA003.0321.00008.C001.PICI.TypeB.variant0002.SetR1\",\n",
    "    ]\n",
    ")\n",
    "cfpici_30 = list(\n",
    "    [\n",
    "        \"ESCO001.0321.01281.C001.CFPICI.TypeA.SetR1\",\n",
    "        \"CIFR005.0321.00053.C001.CFPICI.TypeB.variant0001.SetR1\",\n",
    "        \"STSA003.0321.00008.C001.CFPICI.TypeB.variant0002.SetR1\",\n",
    "        \"DEVU001.0321.00001.C001.CFPICI.TypeB.variant0001.SetR1\",\n",
    "        \"CIFR005.0321.00052.C001.CFPICI.TypeB.variant0001.SetR1\",\n",
    "        \"DEVU001.0321.00004.C001.CFPICI.TypeB.variant0001.SetR1\",\n",
    "        \"STSI001.0321.00003.C001.CFPICI.TypeB.variant0001.SetR1\",\n",
    "        \"STSI001.0321.00004.C001.CFPICI.TypeB.variant0001.SetR1\",\n",
    "        \"LAPL001.0321.00074.C001.CFPICI.TypeB.variant0003.SetR1\",\n",
    "        \"ESCO001.0321.00097.C001.CFPICI.TypeA.SetR1\",\n",
    "        \"DEVU001.0321.00001.C001.CFPICI.TypeB.variant0001.SetR2\",\n",
    "        \"SPYA001.0321.00006.C001.CFPICI.TypeB.variant0001.SetR1\",\n",
    "        \"STSI001.0321.00005.C001.CFPICI.TypeB.variant0001.SetR1\",\n",
    "        \"RHET001.0321.00004.C001.CFPICI.TypeB.variant0001.SetR1\",\n",
    "        \"ESCO001.0321.00309.C001.CFPICI.TypeB.variant0001.SetR1\",\n",
    "        \"SIME002.0321.00002.C001.CFPICI.TypeB.variant0001.SetR1\",\n",
    "        \"PAKO001.0321.00001.C002.CFPICI.TypeB.variant0004.SetR1\",\n",
    "        \"STAU002.0321.00280.C001.CFPICI.TypeB.variant0004.SetR1\",\n",
    "        \"SIME002.0321.00009.C001.CFPICI.TypeB.variant0001.SetR1\",\n",
    "        \"STSI001.0321.00006.C001.CFPICI.TypeB.variant0001.SetR1\",\n",
    "        \"CIFR005.0321.00101.C001.CFPICI.TypeB.variant0001.SetR1\",\n",
    "        \"LAPL001.0321.00073.C001.CFPICI.TypeB.variant0003.SetR1\",\n",
    "        \"SIME002.0321.00024.C001.CFPICI.TypeB.variant0001.SetR1\",\n",
    "        \"ESCO001.0321.00563.C001.CFPICI.TypeA.SetR1\",\n",
    "        \"STAR001.0321.00001.C001.CFPICI.TypeB.variant0002.SetR1\",\n",
    "        \"ESCO001.0321.00448.C001.CFPICI.TypeA.SetR1\",\n",
    "        \"CIAM001.0321.00007.C001.CFPICI.TypeB.variant0001.SetR1\",\n",
    "        \"PAKO001.0321.00001.C001.CFPICI.TypeB.variant0004.SetR1\",\n",
    "        \"NIHA002.0321.00001.C001.CFPICI.TypeB.variant0001.SetR1\",\n",
    "        \"SIME002.0321.00018.C001.CFPICI.TypeB.variant0001.SetR1\",\n",
    "    ]\n",
    ")\n",
    "print(len(pici_30), len(cfpici_30))"
   ]
  },
  {
   "cell_type": "code",
   "execution_count": null,
   "metadata": {},
   "outputs": [],
   "source": [
    "# keep only 1405 picis from seqs excluding 30 cfpici\n",
    "seqs = [seq for seq in seqs if seq.id not in cfpici_30]\n",
    "len(seqs)"
   ]
  },
  {
   "cell_type": "code",
   "execution_count": null,
   "metadata": {},
   "outputs": [],
   "source": [
    "# 1405\n",
    "# write to fasta\n",
    "with open(\"../dataset/PICI_NucSequences_060723_no_cfpici.fst\", \"w\") as f:\n",
    "    for seq in seqs:\n",
    "        f.write(f\">{seq.id}\\n{seq.seq}\\n\")"
   ]
  },
  {
   "cell_type": "markdown",
   "metadata": {},
   "source": [
    "### function matrix"
   ]
  },
  {
   "cell_type": "code",
   "execution_count": 30,
   "metadata": {},
   "outputs": [],
   "source": [
    "df_prt = pd.read_csv(\"../dataset/PICI_proteins.csv\")"
   ]
  },
  {
   "cell_type": "code",
   "execution_count": 31,
   "metadata": {},
   "outputs": [],
   "source": [
    "function_matrix = pd.pivot_table(\n",
    "    df_prt,\n",
    "    values=\"Protein_ID\",\n",
    "    index=\"PICI_ID\",\n",
    "    columns=\"Function\",\n",
    "    aggfunc=\"count\",\n",
    "    fill_value=0,\n",
    ")"
   ]
  },
  {
   "cell_type": "code",
   "execution_count": 32,
   "metadata": {},
   "outputs": [],
   "source": [
    "function_matrix.to_csv(\"../results/protein_function_matrix_old.csv\", index=True)"
   ]
  },
  {
   "cell_type": "code",
   "execution_count": null,
   "metadata": {},
   "outputs": [],
   "source": [
    "print(function_matrix.sum().sum())  # should be same as df_prt.shape[0]\n",
    "print(function_matrix.max().max())\n",
    "print(function_matrix.min().min())\n",
    "print(function_matrix.info())"
   ]
  },
  {
   "cell_type": "code",
   "execution_count": null,
   "metadata": {},
   "outputs": [],
   "source": [
    "# col_mask = function_matrix.columns.str.contains(\"integrase|alpa|capsid\", case=False)\n",
    "col_mask = function_matrix.columns.str.contains(\"alpa\", case=False)\n",
    "function_matrix_integrase_alpa_capsid = function_matrix.loc[:, col_mask]"
   ]
  },
  {
   "cell_type": "code",
   "execution_count": null,
   "metadata": {},
   "outputs": [],
   "source": [
    "function_matrix_integrase_alpa_capsid.to_csv(\n",
    "    \"../results/protein_function_matrix_integrase_alpa_capsid.csv\", index=True\n",
    ")"
   ]
  },
  {
   "cell_type": "markdown",
   "metadata": {},
   "source": [
    "#### new matrix with pharokka annotations"
   ]
  },
  {
   "cell_type": "code",
   "execution_count": null,
   "metadata": {},
   "outputs": [],
   "source": [
    "protein_function_matrix_old = pd.read_csv(\n",
    "    \"../results/protein_function_matrix_old.csv\", index_col=0\n",
    ")\n",
    "print(protein_function_matrix_old.shape)\n",
    "print(protein_function_matrix_old.info())\n",
    "print(protein_function_matrix_old.max().max())\n",
    "print(protein_function_matrix_old.min().min())"
   ]
  },
  {
   "cell_type": "code",
   "execution_count": null,
   "metadata": {},
   "outputs": [],
   "source": [
    "phanotate_functions = pd.read_csv(\n",
    "    \"../results/pharokka_output/phanotate_functions.tsv\", sep=\"\\t\"\n",
    ")\n",
    "print(phanotate_functions.shape)\n",
    "print(phanotate_functions.columns)"
   ]
  },
  {
   "cell_type": "code",
   "execution_count": 19,
   "metadata": {},
   "outputs": [],
   "source": [
    "function_matrix_new_unmerged = pd.pivot_table(\n",
    "    phanotate_functions,\n",
    "    values=\"gene_id\",\n",
    "    index=\"pici_id\",\n",
    "    columns=\"function\",\n",
    "    aggfunc=\"count\",\n",
    "    fill_value=0,\n",
    ")"
   ]
  },
  {
   "cell_type": "code",
   "execution_count": null,
   "metadata": {},
   "outputs": [],
   "source": [
    "print(function_matrix_new_unmerged.shape)\n",
    "print(function_matrix_new_unmerged.info())\n",
    "print(function_matrix_new_unmerged.max().max())\n",
    "print(function_matrix_new_unmerged.min().min())\n",
    "function_matrix_new_unmerged.sum().sum()"
   ]
  },
  {
   "cell_type": "code",
   "execution_count": 21,
   "metadata": {},
   "outputs": [],
   "source": [
    "function_matrix_new_unmerged.to_csv(\n",
    "    \"../results/protein_function_matrix_new_unmerged.csv\", index=True\n",
    ")"
   ]
  },
  {
   "cell_type": "code",
   "execution_count": 47,
   "metadata": {},
   "outputs": [],
   "source": [
    "function_matrix_new_unmerged = pd.read_csv(\n",
    "    \"../results/protein_function_matrix_new_unmerged.csv\", index_col=0\n",
    ")"
   ]
  },
  {
   "cell_type": "code",
   "execution_count": null,
   "metadata": {},
   "outputs": [],
   "source": [
    "alpa_columns = [\n",
    "    \"AlpA family phage regulatory protein  (translation)\",\n",
    "    \"AlpA family transcriptional regulator  (translation)\",\n",
    "]\n",
    "\n",
    "function_matrix_new = function_matrix_new_unmerged.drop(index=pici_30)\n",
    "alpa_data = function_matrix[alpa_columns].drop(index=cfpici_30)\n",
    "\n",
    "print(\"Shape after removal:\")\n",
    "print(\"function_matrix_new:\", function_matrix_new.shape)\n",
    "print(\"alpa_data:\", alpa_data.shape)\n",
    "\n",
    "print(\"\\nIndices identical:\", (function_matrix_new.index == alpa_data.index).all())\n",
    "\n",
    "function_matrix_new = pd.concat([function_matrix_new, alpa_data], axis=1).fillna(0)\n",
    "\n",
    "print(\"\\nFinal shape:\", function_matrix_new.shape)\n",
    "print(\"Number of unique indices:\", len(function_matrix_new.index.unique()))"
   ]
  },
  {
   "cell_type": "code",
   "execution_count": 51,
   "metadata": {},
   "outputs": [],
   "source": [
    "function_matrix_new.to_csv(\n",
    "    \"../results/protein_function_matrix_new_merged.csv\", index=True\n",
    ")\n"
   ]
  },
  {
   "cell_type": "code",
   "execution_count": null,
   "metadata": {},
   "outputs": [],
   "source": [
    "print(function_matrix_new.shape)\n",
    "print(function_matrix_new.info())\n",
    "print(function_matrix_new.max().max())\n",
    "print(function_matrix_new.min().min())\n",
    "function_matrix_new.sum().sum()"
   ]
  },
  {
   "cell_type": "markdown",
   "metadata": {},
   "source": [
    "# mash"
   ]
  },
  {
   "cell_type": "code",
   "execution_count": null,
   "metadata": {},
   "outputs": [],
   "source": [
    "from Bio import SeqIO\n",
    "import os\n",
    "\n",
    "# Create directory for split files\n",
    "os.makedirs(\"../dataset/split_sequences\", exist_ok=True)\n",
    "\n",
    "# Split each sequence into its own file\n",
    "count = 0\n",
    "for record in SeqIO.parse(\"../dataset/PICI_NucSequences_060723.fst\", \"fasta\"):\n",
    "    count += 1\n",
    "    # Use the sequence ID as filename, replacing any problematic characters\n",
    "    safe_filename = record.id.replace(\"/\", \"_\").replace(\"\\\\\", \"_\")\n",
    "    output_file = f\"../dataset/split_sequences/{safe_filename}.fasta\"\n",
    "    with open(output_file, \"w\") as output_handle:\n",
    "        SeqIO.write(record, output_handle, \"fasta\")\n",
    "\n",
    "print(f\"Split {count} sequences into individual files\")"
   ]
  },
  {
   "cell_type": "code",
   "execution_count": null,
   "metadata": {},
   "outputs": [],
   "source": [
    "mash_dist = pd.read_csv(\"../output/mash_distances.tab\", sep=\"\\t\")\n",
    "print(mash_dist.shape)\n",
    "print(mash_dist.columns)"
   ]
  },
  {
   "cell_type": "code",
   "execution_count": 24,
   "metadata": {},
   "outputs": [],
   "source": [
    "# add column names\n",
    "mash_dist.columns = [\"seq1\", \"seq2\", \"distance\", \"pvalue\", \"matching_hashes\"]"
   ]
  },
  {
   "cell_type": "code",
   "execution_count": null,
   "metadata": {},
   "outputs": [],
   "source": [
    "mash_dist"
   ]
  },
  {
   "cell_type": "code",
   "execution_count": null,
   "metadata": {},
   "outputs": [],
   "source": [
    "import matplotlib.pyplot as plt\n",
    "\n",
    "plt.hist(mash_dist[\"distance\"], bins=1000)\n",
    "plt.yscale(\"log\")\n",
    "plt.show()\n"
   ]
  },
  {
   "cell_type": "markdown",
   "metadata": {},
   "source": [
    "# phage_satellites_functions"
   ]
  },
  {
   "cell_type": "code",
   "execution_count": 1,
   "metadata": {},
   "outputs": [],
   "source": [
    "import pandas as pd\n",
    "\n",
    "annotation = pd.read_parquet(\"../dataset/Phage_and_Satellites_Pann_Pcat_Pcol.pa\")"
   ]
  },
  {
   "cell_type": "code",
   "execution_count": 3,
   "metadata": {},
   "outputs": [
    {
     "data": {
      "text/plain": [
       "pcat\n",
       "unknown_no_hit                                       1391498\n",
       "DNA, RNA and nucleotide metabolism                    252511\n",
       "tail                                                  182345\n",
       "head and packaging                                    168373\n",
       "other                                                  82561\n",
       "lysis                                                  52519\n",
       "connector                                              47674\n",
       "transcription regulation                               46522\n",
       "moron, auxiliary metabolic gene and host takeover      44573\n",
       "unknown function                                       29353\n",
       "integration and excision                               20609\n",
       "Name: count, dtype: int64"
      ]
     },
     "execution_count": 3,
     "metadata": {},
     "output_type": "execute_result"
    }
   ],
   "source": [
    "annotation[\"pcat\"].value_counts()"
   ]
  },
  {
   "cell_type": "code",
   "execution_count": 2,
   "metadata": {},
   "outputs": [
    {
     "data": {
      "text/plain": [
       "pcat\n",
       "unknown function                                     29353\n",
       "DNA, RNA and nucleotide metabolism                   11004\n",
       "head and packaging                                    7883\n",
       "integration and excision                              7056\n",
       "transcription regulation                              6931\n",
       "connector                                             1824\n",
       "other                                                  474\n",
       "moron, auxiliary metabolic gene and host takeover      375\n",
       "tail                                                    14\n",
       "lysis                                                   13\n",
       "Name: count, dtype: int64"
      ]
     },
     "execution_count": 2,
     "metadata": {},
     "output_type": "execute_result"
    }
   ],
   "source": [
    "annotation_satellites = annotation[annotation[\"what\"] != \"phage\"]\n",
    "annotation_satellites[\"pcat\"].value_counts()"
   ]
  },
  {
   "cell_type": "code",
   "execution_count": 11,
   "metadata": {},
   "outputs": [
    {
     "data": {
      "text/html": [
       "<div>\n",
       "<style scoped>\n",
       "    .dataframe tbody tr th:only-of-type {\n",
       "        vertical-align: middle;\n",
       "    }\n",
       "\n",
       "    .dataframe tbody tr th {\n",
       "        vertical-align: top;\n",
       "    }\n",
       "\n",
       "    .dataframe thead th {\n",
       "        text-align: right;\n",
       "    }\n",
       "</style>\n",
       "<table border=\"1\" class=\"dataframe\">\n",
       "  <thead>\n",
       "    <tr style=\"text-align: right;\">\n",
       "      <th></th>\n",
       "      <th>acc</th>\n",
       "      <th>name</th>\n",
       "      <th>start</th>\n",
       "      <th>end</th>\n",
       "      <th>strand</th>\n",
       "      <th>pann</th>\n",
       "      <th>pcat</th>\n",
       "      <th>pcol</th>\n",
       "      <th>translation</th>\n",
       "      <th>what</th>\n",
       "    </tr>\n",
       "  </thead>\n",
       "  <tbody>\n",
       "    <tr>\n",
       "      <th>0</th>\n",
       "      <td>STAU002_0321_00536_C001_PICI_TypeB_variant0002...</td>\n",
       "      <td>PGUTJQZF_CDS_0001</td>\n",
       "      <td>2</td>\n",
       "      <td>569</td>\n",
       "      <td>-1</td>\n",
       "      <td>terminase small subunit</td>\n",
       "      <td>head and packaging</td>\n",
       "      <td></td>\n",
       "      <td>MSELTAKQARFVNEYIRTLNVTQSAIKAGYSANSAHVTGCRLLKKP...</td>\n",
       "      <td>PICI</td>\n",
       "    </tr>\n",
       "    <tr>\n",
       "      <th>1</th>\n",
       "      <td>STAU002_0321_00536_C001_PICI_TypeB_variant0002...</td>\n",
       "      <td>PGUTJQZF_CDS_0002</td>\n",
       "      <td>565</td>\n",
       "      <td>907</td>\n",
       "      <td>-1</td>\n",
       "      <td>hypothetical protein</td>\n",
       "      <td>unknown function</td>\n",
       "      <td></td>\n",
       "      <td>MDKKQIKDFVCDYHKRTISDVLIDDEINTDEFFSIGDENSNEWMAD...</td>\n",
       "      <td>PICI</td>\n",
       "    </tr>\n",
       "    <tr>\n",
       "      <th>2</th>\n",
       "      <td>STAU002_0321_00536_C001_PICI_TypeB_variant0002...</td>\n",
       "      <td>PGUTJQZF_CDS_0003</td>\n",
       "      <td>909</td>\n",
       "      <td>1437</td>\n",
       "      <td>-1</td>\n",
       "      <td>spore coat protein</td>\n",
       "      <td>head and packaging</td>\n",
       "      <td></td>\n",
       "      <td>MKLLKTKNCLYYRNGDNKLSEYQLLTQFNPAFINKKIKMCEFQIES...</td>\n",
       "      <td>PICI</td>\n",
       "    </tr>\n",
       "    <tr>\n",
       "      <th>3</th>\n",
       "      <td>STAU002_0321_00536_C001_PICI_TypeB_variant0002...</td>\n",
       "      <td>PGUTJQZF_CDS_0004</td>\n",
       "      <td>1487</td>\n",
       "      <td>1706</td>\n",
       "      <td>-1</td>\n",
       "      <td>hypothetical protein</td>\n",
       "      <td>unknown function</td>\n",
       "      <td></td>\n",
       "      <td>METKYELNNTKKVANAFGLNEADTNLLINAVDLDIKNNMQEISSEL...</td>\n",
       "      <td>PICI</td>\n",
       "    </tr>\n",
       "    <tr>\n",
       "      <th>4</th>\n",
       "      <td>STAU002_0321_00536_C001_PICI_TypeB_variant0002...</td>\n",
       "      <td>PGUTJQZF_CDS_0005</td>\n",
       "      <td>1723</td>\n",
       "      <td>2302</td>\n",
       "      <td>-1</td>\n",
       "      <td>hypothetical protein</td>\n",
       "      <td>unknown function</td>\n",
       "      <td></td>\n",
       "      <td>MKTESYFKEYNQFVIDQQKAIQELEQERNALESKIKIDKSTYKQLI...</td>\n",
       "      <td>PICI</td>\n",
       "    </tr>\n",
       "    <tr>\n",
       "      <th>5</th>\n",
       "      <td>STAU002_0321_00536_C001_PICI_TypeB_variant0002...</td>\n",
       "      <td>PGUTJQZF_CDS_0006</td>\n",
       "      <td>2313</td>\n",
       "      <td>2655</td>\n",
       "      <td>-1</td>\n",
       "      <td>hypothetical protein</td>\n",
       "      <td>unknown function</td>\n",
       "      <td></td>\n",
       "      <td>MQSIAEKETYHLPTEHLQVFNVIKNTSNKYITKTKILNQLGYEYNS...</td>\n",
       "      <td>PICI</td>\n",
       "    </tr>\n",
       "    <tr>\n",
       "      <th>6</th>\n",
       "      <td>STAU002_0321_00536_C001_PICI_TypeB_variant0002...</td>\n",
       "      <td>PGUTJQZF_CDS_0007</td>\n",
       "      <td>3104</td>\n",
       "      <td>3746</td>\n",
       "      <td>-1</td>\n",
       "      <td>hypothetical protein</td>\n",
       "      <td>unknown function</td>\n",
       "      <td></td>\n",
       "      <td>MNLETIVNQFETRAGTLLRYYTGLLEHSKVQPCCFKLYNDPFDMVY...</td>\n",
       "      <td>PICI</td>\n",
       "    </tr>\n",
       "    <tr>\n",
       "      <th>7</th>\n",
       "      <td>STAU002_0321_00536_C001_PICI_TypeB_variant0002...</td>\n",
       "      <td>PGUTJQZF_CDS_0008</td>\n",
       "      <td>3742</td>\n",
       "      <td>4123</td>\n",
       "      <td>-1</td>\n",
       "      <td>hypothetical protein</td>\n",
       "      <td>unknown function</td>\n",
       "      <td></td>\n",
       "      <td>MDKEQLKKYIYEYVKEYKEIPIYQLEDLFKEINHDYIGRTSITHDK...</td>\n",
       "      <td>PICI</td>\n",
       "    </tr>\n",
       "    <tr>\n",
       "      <th>8</th>\n",
       "      <td>STAU002_0321_00536_C001_PICI_TypeB_variant0002...</td>\n",
       "      <td>PGUTJQZF_CDS_0009</td>\n",
       "      <td>4432</td>\n",
       "      <td>6142</td>\n",
       "      <td>-1</td>\n",
       "      <td>DNA primase/helicase</td>\n",
       "      <td>DNA, RNA and nucleotide metabolism</td>\n",
       "      <td></td>\n",
       "      <td>METGKSDVLDKIEKINKKDSALQEIIPKGYEIEHHQCGVALYQLIP...</td>\n",
       "      <td>PICI</td>\n",
       "    </tr>\n",
       "    <tr>\n",
       "      <th>9</th>\n",
       "      <td>STAU002_0321_00536_C001_PICI_TypeB_variant0002...</td>\n",
       "      <td>PGUTJQZF_CDS_0010</td>\n",
       "      <td>6155</td>\n",
       "      <td>7025</td>\n",
       "      <td>-1</td>\n",
       "      <td>DNA polymerase/primase</td>\n",
       "      <td>DNA, RNA and nucleotide metabolism</td>\n",
       "      <td></td>\n",
       "      <td>MNEIKLEYDTHVSVVHYESLDSRSFKSFSKPEWSKLVNKLSVPIEA...</td>\n",
       "      <td>PICI</td>\n",
       "    </tr>\n",
       "    <tr>\n",
       "      <th>10</th>\n",
       "      <td>STAU002_0321_00536_C001_PICI_TypeB_variant0002...</td>\n",
       "      <td>PGUTJQZF_CDS_0011</td>\n",
       "      <td>7089</td>\n",
       "      <td>7416</td>\n",
       "      <td>-1</td>\n",
       "      <td>hypothetical protein</td>\n",
       "      <td>unknown function</td>\n",
       "      <td></td>\n",
       "      <td>MNREIKDLFSDLKLLKDSFEDLKDSNGWHFDELYPYEPNHVLNKDE...</td>\n",
       "      <td>PICI</td>\n",
       "    </tr>\n",
       "    <tr>\n",
       "      <th>11</th>\n",
       "      <td>STAU002_0321_00536_C001_PICI_TypeB_variant0002...</td>\n",
       "      <td>PGUTJQZF_CDS_0012</td>\n",
       "      <td>7418</td>\n",
       "      <td>7628</td>\n",
       "      <td>-1</td>\n",
       "      <td>hypothetical protein</td>\n",
       "      <td>unknown function</td>\n",
       "      <td></td>\n",
       "      <td>MNNEQKEVIEHVVYQLELSVVNNLESYEHTEYVNGIEVVSEISREK...</td>\n",
       "      <td>PICI</td>\n",
       "    </tr>\n",
       "    <tr>\n",
       "      <th>12</th>\n",
       "      <td>STAU002_0321_00536_C001_PICI_TypeB_variant0002...</td>\n",
       "      <td>PGUTJQZF_CDS_0013</td>\n",
       "      <td>7620</td>\n",
       "      <td>7767</td>\n",
       "      <td>-1</td>\n",
       "      <td>hypothetical protein</td>\n",
       "      <td>unknown function</td>\n",
       "      <td></td>\n",
       "      <td>MKMYLTYICLVSLLTILLLAISNMYVAFSVYAWLITLGCNLTGGLENE*</td>\n",
       "      <td>PICI</td>\n",
       "    </tr>\n",
       "    <tr>\n",
       "      <th>13</th>\n",
       "      <td>STAU002_0321_00536_C001_PICI_TypeB_variant0002...</td>\n",
       "      <td>PGUTJQZF_CDS_0014</td>\n",
       "      <td>7763</td>\n",
       "      <td>8081</td>\n",
       "      <td>-1</td>\n",
       "      <td>HTH DNA binding protein</td>\n",
       "      <td>DNA, RNA and nucleotide metabolism</td>\n",
       "      <td></td>\n",
       "      <td>MFNINIDEDEARELLEQAINARVDELAKEKYFMTYKELSNYLNLSK...</td>\n",
       "      <td>PICI</td>\n",
       "    </tr>\n",
       "    <tr>\n",
       "      <th>14</th>\n",
       "      <td>STAU002_0321_00536_C001_PICI_TypeB_variant0002...</td>\n",
       "      <td>PGUTJQZF_CDS_0015</td>\n",
       "      <td>8085</td>\n",
       "      <td>8304</td>\n",
       "      <td>-1</td>\n",
       "      <td>transcriptional repressor</td>\n",
       "      <td>transcription regulation</td>\n",
       "      <td></td>\n",
       "      <td>MTILANTRKFKEAMFLKGFNLSDLSRETGVGISYLSQIINGKKIPS...</td>\n",
       "      <td>PICI</td>\n",
       "    </tr>\n",
       "    <tr>\n",
       "      <th>15</th>\n",
       "      <td>STAU002_0321_00536_C001_PICI_TypeB_variant0002...</td>\n",
       "      <td>PGUTJQZF_CDS_0016</td>\n",
       "      <td>8476</td>\n",
       "      <td>9151</td>\n",
       "      <td>1</td>\n",
       "      <td>transcriptional repressor</td>\n",
       "      <td>transcription regulation</td>\n",
       "      <td></td>\n",
       "      <td>MIRNRLSELLSERGLKISRVAKDVKIARSSLTSMAQNDSEMIRYDA...</td>\n",
       "      <td>PICI</td>\n",
       "    </tr>\n",
       "    <tr>\n",
       "      <th>16</th>\n",
       "      <td>STAU002_0321_00536_C001_PICI_TypeB_variant0002...</td>\n",
       "      <td>PGUTJQZF_CDS_0017</td>\n",
       "      <td>9164</td>\n",
       "      <td>10337</td>\n",
       "      <td>1</td>\n",
       "      <td>integrase</td>\n",
       "      <td>integration and excision</td>\n",
       "      <td></td>\n",
       "      <td>MASYEKRGNTWRYRISLGKDAETGKYKYISNSGFKRKSDAKHHAEM...</td>\n",
       "      <td>PICI</td>\n",
       "    </tr>\n",
       "  </tbody>\n",
       "</table>\n",
       "</div>"
      ],
      "text/plain": [
       "                                                  acc               name  \\\n",
       "0   STAU002_0321_00536_C001_PICI_TypeB_variant0002...  PGUTJQZF_CDS_0001   \n",
       "1   STAU002_0321_00536_C001_PICI_TypeB_variant0002...  PGUTJQZF_CDS_0002   \n",
       "2   STAU002_0321_00536_C001_PICI_TypeB_variant0002...  PGUTJQZF_CDS_0003   \n",
       "3   STAU002_0321_00536_C001_PICI_TypeB_variant0002...  PGUTJQZF_CDS_0004   \n",
       "4   STAU002_0321_00536_C001_PICI_TypeB_variant0002...  PGUTJQZF_CDS_0005   \n",
       "5   STAU002_0321_00536_C001_PICI_TypeB_variant0002...  PGUTJQZF_CDS_0006   \n",
       "6   STAU002_0321_00536_C001_PICI_TypeB_variant0002...  PGUTJQZF_CDS_0007   \n",
       "7   STAU002_0321_00536_C001_PICI_TypeB_variant0002...  PGUTJQZF_CDS_0008   \n",
       "8   STAU002_0321_00536_C001_PICI_TypeB_variant0002...  PGUTJQZF_CDS_0009   \n",
       "9   STAU002_0321_00536_C001_PICI_TypeB_variant0002...  PGUTJQZF_CDS_0010   \n",
       "10  STAU002_0321_00536_C001_PICI_TypeB_variant0002...  PGUTJQZF_CDS_0011   \n",
       "11  STAU002_0321_00536_C001_PICI_TypeB_variant0002...  PGUTJQZF_CDS_0012   \n",
       "12  STAU002_0321_00536_C001_PICI_TypeB_variant0002...  PGUTJQZF_CDS_0013   \n",
       "13  STAU002_0321_00536_C001_PICI_TypeB_variant0002...  PGUTJQZF_CDS_0014   \n",
       "14  STAU002_0321_00536_C001_PICI_TypeB_variant0002...  PGUTJQZF_CDS_0015   \n",
       "15  STAU002_0321_00536_C001_PICI_TypeB_variant0002...  PGUTJQZF_CDS_0016   \n",
       "16  STAU002_0321_00536_C001_PICI_TypeB_variant0002...  PGUTJQZF_CDS_0017   \n",
       "\n",
       "    start    end  strand                       pann  \\\n",
       "0       2    569      -1    terminase small subunit   \n",
       "1     565    907      -1       hypothetical protein   \n",
       "2     909   1437      -1         spore coat protein   \n",
       "3    1487   1706      -1       hypothetical protein   \n",
       "4    1723   2302      -1       hypothetical protein   \n",
       "5    2313   2655      -1       hypothetical protein   \n",
       "6    3104   3746      -1       hypothetical protein   \n",
       "7    3742   4123      -1       hypothetical protein   \n",
       "8    4432   6142      -1       DNA primase/helicase   \n",
       "9    6155   7025      -1     DNA polymerase/primase   \n",
       "10   7089   7416      -1       hypothetical protein   \n",
       "11   7418   7628      -1       hypothetical protein   \n",
       "12   7620   7767      -1       hypothetical protein   \n",
       "13   7763   8081      -1    HTH DNA binding protein   \n",
       "14   8085   8304      -1  transcriptional repressor   \n",
       "15   8476   9151       1  transcriptional repressor   \n",
       "16   9164  10337       1                  integrase   \n",
       "\n",
       "                                  pcat pcol  \\\n",
       "0                   head and packaging        \n",
       "1                     unknown function        \n",
       "2                   head and packaging        \n",
       "3                     unknown function        \n",
       "4                     unknown function        \n",
       "5                     unknown function        \n",
       "6                     unknown function        \n",
       "7                     unknown function        \n",
       "8   DNA, RNA and nucleotide metabolism        \n",
       "9   DNA, RNA and nucleotide metabolism        \n",
       "10                    unknown function        \n",
       "11                    unknown function        \n",
       "12                    unknown function        \n",
       "13  DNA, RNA and nucleotide metabolism        \n",
       "14            transcription regulation        \n",
       "15            transcription regulation        \n",
       "16            integration and excision        \n",
       "\n",
       "                                          translation  what  \n",
       "0   MSELTAKQARFVNEYIRTLNVTQSAIKAGYSANSAHVTGCRLLKKP...  PICI  \n",
       "1   MDKKQIKDFVCDYHKRTISDVLIDDEINTDEFFSIGDENSNEWMAD...  PICI  \n",
       "2   MKLLKTKNCLYYRNGDNKLSEYQLLTQFNPAFINKKIKMCEFQIES...  PICI  \n",
       "3   METKYELNNTKKVANAFGLNEADTNLLINAVDLDIKNNMQEISSEL...  PICI  \n",
       "4   MKTESYFKEYNQFVIDQQKAIQELEQERNALESKIKIDKSTYKQLI...  PICI  \n",
       "5   MQSIAEKETYHLPTEHLQVFNVIKNTSNKYITKTKILNQLGYEYNS...  PICI  \n",
       "6   MNLETIVNQFETRAGTLLRYYTGLLEHSKVQPCCFKLYNDPFDMVY...  PICI  \n",
       "7   MDKEQLKKYIYEYVKEYKEIPIYQLEDLFKEINHDYIGRTSITHDK...  PICI  \n",
       "8   METGKSDVLDKIEKINKKDSALQEIIPKGYEIEHHQCGVALYQLIP...  PICI  \n",
       "9   MNEIKLEYDTHVSVVHYESLDSRSFKSFSKPEWSKLVNKLSVPIEA...  PICI  \n",
       "10  MNREIKDLFSDLKLLKDSFEDLKDSNGWHFDELYPYEPNHVLNKDE...  PICI  \n",
       "11  MNNEQKEVIEHVVYQLELSVVNNLESYEHTEYVNGIEVVSEISREK...  PICI  \n",
       "12  MKMYLTYICLVSLLTILLLAISNMYVAFSVYAWLITLGCNLTGGLENE*  PICI  \n",
       "13  MFNINIDEDEARELLEQAINARVDELAKEKYFMTYKELSNYLNLSK...  PICI  \n",
       "14  MTILANTRKFKEAMFLKGFNLSDLSRETGVGISYLSQIINGKKIPS...  PICI  \n",
       "15  MIRNRLSELLSERGLKISRVAKDVKIARSSLTSMAQNDSEMIRYDA...  PICI  \n",
       "16  MASYEKRGNTWRYRISLGKDAETGKYKYISNSGFKRKSDAKHHAEM...  PICI  "
      ]
     },
     "execution_count": 11,
     "metadata": {},
     "output_type": "execute_result"
    }
   ],
   "source": [
    "annotation[annotation[\"acc\"].str.contains(\"STAU002_0321_00536_C001\")]\n",
    "# STAU002.0321.00536.C001"
   ]
  },
  {
   "cell_type": "code",
   "execution_count": null,
   "metadata": {},
   "outputs": [],
   "source": [
    "print(annotation[\"acc\"].nunique())\n",
    "print(annotation[\"name\"].nunique())\n",
    "print(annotation[\"strand\"].nunique())\n",
    "print(annotation[\"pann\"].nunique())\n",
    "print(annotation[\"pcat\"].nunique())\n",
    "print(annotation[\"pcol\"].nunique())\n",
    "print(annotation[\"translation\"].nunique())\n",
    "print(annotation[\"what\"].nunique())\n",
    "print(annotation[\"translation\"].nunique())"
   ]
  },
  {
   "cell_type": "code",
   "execution_count": 32,
   "metadata": {},
   "outputs": [],
   "source": [
    "# annotation[annotation[\"pcat\"] == \"moron, auxiliary metabolic gene and host takeover\"]"
   ]
  },
  {
   "cell_type": "code",
   "execution_count": null,
   "metadata": {},
   "outputs": [],
   "source": [
    "print(annotation[\"pcat\"].unique())\n",
    "print(annotation[\"pcol\"].unique())\n",
    "print(annotation[\"what\"].unique())"
   ]
  },
  {
   "cell_type": "code",
   "execution_count": null,
   "metadata": {},
   "outputs": [],
   "source": [
    "annotation[\"pcat\"].value_counts()\n",
    "# leave out: unknown_no_hit\n",
    "# start with tail"
   ]
  },
  {
   "cell_type": "code",
   "execution_count": 6,
   "metadata": {},
   "outputs": [],
   "source": [
    "# filter out where pcat is unknown_no_hit\n",
    "annotation = annotation[annotation[\"pcat\"] != \"unknown_no_hit\"]"
   ]
  },
  {
   "cell_type": "code",
   "execution_count": null,
   "metadata": {},
   "outputs": [],
   "source": [
    "print(annotation.shape)\n",
    "print(annotation[\"translation\"].nunique())\n",
    "print(annotation[\"pcat\"].value_counts())"
   ]
  },
  {
   "cell_type": "code",
   "execution_count": null,
   "metadata": {},
   "outputs": [],
   "source": [
    "duplicated_translations = annotation[annotation.duplicated(\"translation\", keep=False)]\n",
    "for seq, group in duplicated_translations.groupby(\"translation\"):\n",
    "    print(f\"Protein sequence: {seq[:30]}...\")  # Print first 30 chars for brevity\n",
    "    print(group[[\"name\"]])\n",
    "    print(\"-\" * 40)"
   ]
  },
  {
   "cell_type": "code",
   "execution_count": 35,
   "metadata": {},
   "outputs": [],
   "source": [
    "# target_seq = annotation.loc[\n",
    "#     annotation[\"name\"] == \"EZLKZNME_CDS_0010\", \"translation\"\n",
    "# ].iloc[0]\n",
    "# same_seq_rows = annotation[annotation[\"translation\"] == target_seq]\n",
    "# same_seq_rows"
   ]
  },
  {
   "cell_type": "code",
   "execution_count": null,
   "metadata": {},
   "outputs": [],
   "source": [
    "pcat_counts = annotation.groupby(\"translation\")[\"pcat\"].nunique()\n",
    "multi_pcat_seqs = pcat_counts[pcat_counts > 1].index\n",
    "rows_with_multi_pcat = annotation[annotation[\"translation\"].isin(multi_pcat_seqs)]\n",
    "rows_with_multi_pcat\n",
    "# conclusion: the ones with same translation must have same pcat"
   ]
  },
  {
   "cell_type": "markdown",
   "metadata": {},
   "source": [
    "\"pcat\":function, file name\n",
    "\"name\": id\n",
    "\"pann\": description\n",
    "\"translation\": sequence"
   ]
  },
  {
   "cell_type": "code",
   "execution_count": 37,
   "metadata": {},
   "outputs": [],
   "source": [
    "import os\n",
    "\n",
    "# Ensure output directory exists (optional)\n",
    "output_dir = \"../dataset/fasta_by_pcat\"\n",
    "os.makedirs(output_dir, exist_ok=True)\n",
    "\n",
    "for pcat_value in annotation[\"pcat\"].unique():\n",
    "    # Format the filename: lowercase, replace spaces/commas with underscores, remove other non-alphanumerics\n",
    "    filename = pcat_value.lower().replace(\",\", \"\").replace(\" \", \"_\") + \".fa\"\n",
    "    filepath = os.path.join(output_dir, filename)\n",
    "\n",
    "    # Select rows for this pcat\n",
    "    subset = annotation[annotation[\"pcat\"] == pcat_value]\n",
    "\n",
    "    with open(filepath, \"w\") as f:\n",
    "        for _, row in subset.iterrows():\n",
    "            # Prepare header and sequence\n",
    "            header = (\n",
    "                f\">{row['name']} {row['pann']}\"\n",
    "                if pd.notna(row[\"pann\"])\n",
    "                else f\">{row['name']}\"\n",
    "            )\n",
    "            sequence = row[\"translation\"]\n",
    "            # Write to file\n",
    "            f.write(f\"{header}\\n{sequence}\\n\")"
   ]
  },
  {
   "cell_type": "markdown",
   "metadata": {},
   "source": [
    "# duplicates"
   ]
  },
  {
   "cell_type": "code",
   "execution_count": null,
   "metadata": {},
   "outputs": [],
   "source": [
    "from Bio import SeqIO\n",
    "from Bio.Seq import Seq\n",
    "from Bio.SeqRecord import SeqRecord\n",
    "\n",
    "seen_sequences = set()\n",
    "unique_records = []\n",
    "\n",
    "for record in SeqIO.parse(\"../dataset/combined_proteins.fa\", \"fasta\"):\n",
    "    if str(record.seq) not in seen_sequences:\n",
    "        seen_sequences.add(str(record.seq))\n",
    "        unique_records.append(record)\n",
    "\n",
    "SeqIO.write(unique_records, \"../dataset/unique_proteins.fa\", \"fasta\")"
   ]
  },
  {
   "cell_type": "markdown",
   "metadata": {},
   "source": [
    "# ids"
   ]
  },
  {
   "cell_type": "code",
   "execution_count": null,
   "metadata": {},
   "outputs": [],
   "source": [
    "annotation[\"pcat\"].value_counts()"
   ]
  },
  {
   "cell_type": "code",
   "execution_count": 10,
   "metadata": {},
   "outputs": [],
   "source": [
    "# save the names for each pcat\n",
    "for pcat, group in annotation.groupby(\"pcat\"):\n",
    "    group[\"name\"].to_csv(f\"../dataset/pcat/{pcat}.csv\", index=False)"
   ]
  },
  {
   "cell_type": "code",
   "execution_count": 16,
   "metadata": {},
   "outputs": [],
   "source": [
    "unique_proteins = list(SeqIO.parse(\"../dataset/unique_proteins.fa\", \"fasta\"))"
   ]
  },
  {
   "cell_type": "code",
   "execution_count": null,
   "metadata": {},
   "outputs": [],
   "source": [
    "unique_proteins[0]"
   ]
  },
  {
   "cell_type": "code",
   "execution_count": 23,
   "metadata": {},
   "outputs": [],
   "source": [
    "# save all the ids of unique proteins to csv\n",
    "list_of_ids = []\n",
    "for protein in unique_proteins:\n",
    "    list_of_ids.append(protein.id)\n",
    "pd.DataFrame(list_of_ids, columns=[\"id\"]).to_csv(\n",
    "    \"../dataset/pcat/all_unique_proteins.csv\", index=False\n",
    ")"
   ]
  },
  {
   "cell_type": "markdown",
   "metadata": {},
   "source": [
    "# clusters"
   ]
  },
  {
   "cell_type": "code",
   "execution_count": null,
   "metadata": {},
   "outputs": [],
   "source": [
    "import json\n",
    "import statistics\n",
    "\n",
    "# Load the cluster mapping\n",
    "with open(\"../dataset/protein_cluster_mapping.json\", \"r\") as f:\n",
    "    protein_to_cluster = json.load(f)\n",
    "\n",
    "# Count the number of proteins in each cluster\n",
    "from collections import Counter\n",
    "\n",
    "sizes = Counter(protein_to_cluster.values()).values()\n",
    "sizes = list(sizes)\n",
    "\n",
    "# Print statistics using the statistics module\n",
    "print(f\"Total number of clusters: {len(sizes)}\")\n",
    "print(f\"Smallest cluster: {min(sizes)}\")\n",
    "print(f\"Largest cluster: {max(sizes)}\")\n",
    "print(f\"Average cluster size: {statistics.mean(sizes):.2f}\")\n",
    "print(f\"Median cluster size: {statistics.median(sizes)}\")\n",
    "if len(sizes) > 1:\n",
    "    print(f\"Standard deviation: {statistics.stdev(sizes):.2f}\")\n",
    "else:\n",
    "    print(\"Standard deviation: N/A (only one cluster)\")"
   ]
  },
  {
   "cell_type": "code",
   "execution_count": 8,
   "metadata": {},
   "outputs": [],
   "source": [
    "import pandas as pd\n",
    "\n",
    "cluster_sizes = Counter(protein_to_cluster.values())\n",
    "df = pd.DataFrame(\n",
    "    {\n",
    "        \"cluster_number\": list(cluster_sizes.keys()),\n",
    "        \"cluster_size\": list(cluster_sizes.values()),\n",
    "    }\n",
    ")\n",
    "df = df.sort_values(\"cluster_size\", ascending=False)"
   ]
  },
  {
   "cell_type": "code",
   "execution_count": 10,
   "metadata": {},
   "outputs": [],
   "source": [
    "df.to_csv(\"../results/cluster_sizes.csv\", index=False)"
   ]
  },
  {
   "cell_type": "code",
   "execution_count": null,
   "metadata": {},
   "outputs": [],
   "source": [
    "import matplotlib.pyplot as plt\n",
    "\n",
    "plt.hist(sizes, bins=1000)\n",
    "plt.yscale(\"log\")"
   ]
  },
  {
   "cell_type": "markdown",
   "metadata": {},
   "source": [
    "# bacteria for demonstration "
   ]
  },
  {
   "cell_type": "code",
   "execution_count": 3,
   "metadata": {},
   "outputs": [],
   "source": [
    "frik_bacteria_proteins = list(\n",
    "    SeqIO.parse(\n",
    "        \"../dataset/demonstration_samples/GCF_000175755.1/protein.faa\",\n",
    "        \"fasta\",\n",
    "    )\n",
    ")"
   ]
  },
  {
   "cell_type": "code",
   "execution_count": 4,
   "metadata": {},
   "outputs": [
    {
     "name": "stdout",
     "output_type": "stream",
     "text": [
      "5095\n",
      "ID: WP_000002304.1\n",
      "Name: WP_000002304.1\n",
      "Description: WP_000002304.1 MULTISPECIES: alpha-D-ribose 1-methylphosphonate 5-phosphate C-P-lyase PhnJ [Enterobacteriaceae]\n",
      "Number of features: 0\n",
      "Seq('MANLSGYNFAYLDEQTKRMIRRAILKAVAIPGYQVPFGGREMPMPYGWGTGGIQ...KSQ')\n"
     ]
    }
   ],
   "source": [
    "print(len(frik_bacteria_proteins))\n",
    "print(frik_bacteria_proteins[0])"
   ]
  },
  {
   "cell_type": "code",
   "execution_count": 5,
   "metadata": {},
   "outputs": [],
   "source": [
    "def parse_gff(gff_file):\n",
    "    records = []\n",
    "    with open(gff_file) as f:\n",
    "        for line in f:\n",
    "            if line.startswith(\"#\"):\n",
    "                continue\n",
    "            parts = line.strip().split(\"\\t\")\n",
    "            if len(parts) < 9 or parts[2] != \"CDS\":\n",
    "                continue\n",
    "            contig = parts[0]\n",
    "            start = int(parts[3])\n",
    "            end = int(parts[4])\n",
    "            strand = parts[6]\n",
    "            attributes = parts[8]\n",
    "            # Try to extract protein_id or ID\n",
    "            protein_id = None\n",
    "            for attr in attributes.split(\";\"):\n",
    "                if attr.startswith(\"protein_id=\"):\n",
    "                    protein_id = attr.split(\"=\")[1]\n",
    "                    break\n",
    "                elif attr.startswith(\"ID=\"):\n",
    "                    protein_id = attr.split(\"=\")[1]\n",
    "            if protein_id:\n",
    "                records.append(\n",
    "                    {\n",
    "                        \"protein_id\": protein_id,\n",
    "                        \"contig\": contig,\n",
    "                        \"start\": start,\n",
    "                        \"end\": end,\n",
    "                        \"strand\": strand,\n",
    "                    }\n",
    "                )\n",
    "    return pd.DataFrame(records)"
   ]
  },
  {
   "cell_type": "code",
   "execution_count": 6,
   "metadata": {},
   "outputs": [],
   "source": [
    "gff_df = parse_gff(\"../dataset/demonstration_samples/GCF_000175755.1/genomic.gff\")\n",
    "gff_df = gff_df.sort_values([\"contig\", \"start\"]).reset_index(drop=True)"
   ]
  },
  {
   "cell_type": "code",
   "execution_count": 7,
   "metadata": {},
   "outputs": [
    {
     "data": {
      "text/plain": [
       "245"
      ]
     },
     "execution_count": 7,
     "metadata": {},
     "output_type": "execute_result"
    }
   ],
   "source": [
    "gff_df[\"contig\"].nunique()"
   ]
  },
  {
   "cell_type": "code",
   "execution_count": 11,
   "metadata": {},
   "outputs": [
    {
     "data": {
      "text/html": [
       "<div>\n",
       "<style scoped>\n",
       "    .dataframe tbody tr th:only-of-type {\n",
       "        vertical-align: middle;\n",
       "    }\n",
       "\n",
       "    .dataframe tbody tr th {\n",
       "        vertical-align: top;\n",
       "    }\n",
       "\n",
       "    .dataframe thead th {\n",
       "        text-align: right;\n",
       "    }\n",
       "</style>\n",
       "<table border=\"1\" class=\"dataframe\">\n",
       "  <thead>\n",
       "    <tr style=\"text-align: right;\">\n",
       "      <th></th>\n",
       "      <th>protein_id</th>\n",
       "      <th>contig</th>\n",
       "      <th>start</th>\n",
       "      <th>end</th>\n",
       "      <th>strand</th>\n",
       "    </tr>\n",
       "  </thead>\n",
       "  <tbody>\n",
       "    <tr>\n",
       "      <th>0</th>\n",
       "      <td>WP_000300246.1</td>\n",
       "      <td>NZ_ACXO01000001.1</td>\n",
       "      <td>1</td>\n",
       "      <td>182</td>\n",
       "      <td>+</td>\n",
       "    </tr>\n",
       "    <tr>\n",
       "      <th>1</th>\n",
       "      <td>WP_000852126.1</td>\n",
       "      <td>NZ_ACXO01000001.1</td>\n",
       "      <td>299</td>\n",
       "      <td>1597</td>\n",
       "      <td>+</td>\n",
       "    </tr>\n",
       "    <tr>\n",
       "      <th>2</th>\n",
       "      <td>WP_001322343.1</td>\n",
       "      <td>NZ_ACXO01000001.1</td>\n",
       "      <td>1594</td>\n",
       "      <td>1917</td>\n",
       "      <td>-</td>\n",
       "    </tr>\n",
       "    <tr>\n",
       "      <th>3</th>\n",
       "      <td>WP_000949265.1</td>\n",
       "      <td>NZ_ACXO01000001.1</td>\n",
       "      <td>1963</td>\n",
       "      <td>3318</td>\n",
       "      <td>-</td>\n",
       "    </tr>\n",
       "    <tr>\n",
       "      <th>4</th>\n",
       "      <td>WP_000082974.1</td>\n",
       "      <td>NZ_ACXO01000001.1</td>\n",
       "      <td>3432</td>\n",
       "      <td>6092</td>\n",
       "      <td>-</td>\n",
       "    </tr>\n",
       "    <tr>\n",
       "      <th>...</th>\n",
       "      <td>...</td>\n",
       "      <td>...</td>\n",
       "      <td>...</td>\n",
       "      <td>...</td>\n",
       "      <td>...</td>\n",
       "    </tr>\n",
       "    <tr>\n",
       "      <th>5431</th>\n",
       "      <td>WP_000825639.1</td>\n",
       "      <td>NZ_ACXO01000247.1</td>\n",
       "      <td>118957</td>\n",
       "      <td>119178</td>\n",
       "      <td>+</td>\n",
       "    </tr>\n",
       "    <tr>\n",
       "      <th>5432</th>\n",
       "      <td>WP_000738579.1</td>\n",
       "      <td>NZ_ACXO01000247.1</td>\n",
       "      <td>119609</td>\n",
       "      <td>120634</td>\n",
       "      <td>+</td>\n",
       "    </tr>\n",
       "    <tr>\n",
       "      <th>5433</th>\n",
       "      <td>WP_000019652.1</td>\n",
       "      <td>NZ_ACXO01000247.1</td>\n",
       "      <td>120702</td>\n",
       "      <td>121883</td>\n",
       "      <td>+</td>\n",
       "    </tr>\n",
       "    <tr>\n",
       "      <th>5434</th>\n",
       "      <td>cds-MBRIFRIK2000_RS01000000130240</td>\n",
       "      <td>NZ_ACXO01000247.1</td>\n",
       "      <td>121893</td>\n",
       "      <td>122995</td>\n",
       "      <td>+</td>\n",
       "    </tr>\n",
       "    <tr>\n",
       "      <th>5435</th>\n",
       "      <td>WP_000078338.1</td>\n",
       "      <td>NZ_ACXO01000247.1</td>\n",
       "      <td>123003</td>\n",
       "      <td>123761</td>\n",
       "      <td>+</td>\n",
       "    </tr>\n",
       "  </tbody>\n",
       "</table>\n",
       "<p>5436 rows × 5 columns</p>\n",
       "</div>"
      ],
      "text/plain": [
       "                             protein_id             contig   start     end  \\\n",
       "0                        WP_000300246.1  NZ_ACXO01000001.1       1     182   \n",
       "1                        WP_000852126.1  NZ_ACXO01000001.1     299    1597   \n",
       "2                        WP_001322343.1  NZ_ACXO01000001.1    1594    1917   \n",
       "3                        WP_000949265.1  NZ_ACXO01000001.1    1963    3318   \n",
       "4                        WP_000082974.1  NZ_ACXO01000001.1    3432    6092   \n",
       "...                                 ...                ...     ...     ...   \n",
       "5431                     WP_000825639.1  NZ_ACXO01000247.1  118957  119178   \n",
       "5432                     WP_000738579.1  NZ_ACXO01000247.1  119609  120634   \n",
       "5433                     WP_000019652.1  NZ_ACXO01000247.1  120702  121883   \n",
       "5434  cds-MBRIFRIK2000_RS01000000130240  NZ_ACXO01000247.1  121893  122995   \n",
       "5435                     WP_000078338.1  NZ_ACXO01000247.1  123003  123761   \n",
       "\n",
       "     strand  \n",
       "0         +  \n",
       "1         +  \n",
       "2         -  \n",
       "3         -  \n",
       "4         -  \n",
       "...     ...  \n",
       "5431      +  \n",
       "5432      +  \n",
       "5433      +  \n",
       "5434      +  \n",
       "5435      +  \n",
       "\n",
       "[5436 rows x 5 columns]"
      ]
     },
     "execution_count": 11,
     "metadata": {},
     "output_type": "execute_result"
    }
   ],
   "source": [
    "gff_df"
   ]
  },
  {
   "cell_type": "code",
   "execution_count": 10,
   "metadata": {},
   "outputs": [
    {
     "name": "stdout",
     "output_type": "stream",
     "text": [
      "False\n",
      "False\n",
      "False\n",
      "True\n",
      "True\n"
     ]
    }
   ],
   "source": [
    "print((gff_df[\"protein_id\"] == sorted(gff_df[\"protein_id\"])).all())\n",
    "print((gff_df[\"start\"] == sorted(gff_df[\"start\"])).all())\n",
    "print((gff_df[\"end\"] == sorted(gff_df[\"end\"])).all())\n",
    "print((gff_df[\"contig\"] == sorted(gff_df[\"contig\"])).all())\n",
    "print(gff_df.equals(gff_df.sort_values([\"contig\", \"start\"])))"
   ]
  },
  {
   "cell_type": "code",
   "execution_count": 34,
   "metadata": {},
   "outputs": [],
   "source": [
    "gff_df.to_csv(\n",
    "    \"../dataset/demonstration_samples/Escherichia_coli_O157_H7_str_FRIK2000/gff_df.csv\",\n",
    "    index=False,\n",
    ")"
   ]
  },
  {
   "cell_type": "markdown",
   "metadata": {},
   "source": [
    "# known segments"
   ]
  },
  {
   "cell_type": "markdown",
   "metadata": {},
   "source": [
    "## generate samples"
   ]
  },
  {
   "cell_type": "code",
   "execution_count": 35,
   "metadata": {},
   "outputs": [],
   "source": [
    "annotation = pd.read_parquet(\"../dataset/Phage_and_Satellites_Pann_Pcat_Pcol.pa\")"
   ]
  },
  {
   "cell_type": "code",
   "execution_count": 36,
   "metadata": {},
   "outputs": [],
   "source": [
    "# see each of what's length\n",
    "# annotation_pici = annotation[annotation[\"what\"] == \"PICI\"]\n",
    "# annotation_cfpici = annotation[annotation[\"what\"] == \"CFPICI\"]\n",
    "# annotation_p4 = annotation[annotation[\"what\"] == \"P4\"]\n",
    "# annotation_phage = annotation[annotation[\"what\"] == \"phage\"]\n",
    "\n",
    "# see the average length of each acc in each what\n",
    "# annotation_phage[\"acc\"].value_counts().mean()\n",
    "# print(f\"phage: {annotation_phage['acc'].value_counts().describe()}\")\n",
    "# print(f\"pici: {annotation_pici['acc'].value_counts().describe()}\")\n",
    "# print(f\"cfpici: {annotation_cfpici['acc'].value_counts().describe()}\")\n",
    "# print(f\"p4: {annotation_p4['acc'].value_counts().describe()}\")\n",
    "\n",
    "# conclusion: satellites have max length of 44\n",
    "\n",
    "phage_gene_counts = (\n",
    "    annotation[annotation[\"what\"] == \"phage\"]\n",
    "    .groupby(\"acc\")[\"name\"]\n",
    "    .nunique()\n",
    "    .reset_index()\n",
    ")\n",
    "phage_gene_counts.columns = [\"acc\", \"gene_num\"]\n",
    "\n",
    "phage_small = phage_gene_counts[\n",
    "    (phage_gene_counts[\"gene_num\"] >= 10) & (phage_gene_counts[\"gene_num\"] <= 50)\n",
    "]\n",
    "phage_small_200 = phage_small.sample(n=200, random_state=42)\n",
    "annotation_phage_small_200 = annotation[annotation[\"acc\"].isin(phage_small_200[\"acc\"])]\n",
    "annotation_phage_small_200.to_csv(\n",
    "    \"../dataset/demonstration_samples/known_segments/annotation_phage_small_200.csv\",\n",
    "    index=False,\n",
    ")"
   ]
  },
  {
   "cell_type": "code",
   "execution_count": null,
   "metadata": {},
   "outputs": [],
   "source": [
    "# annotation = pd.read_parquet(\"../dataset/Phage_and_Satellites_Pann_Pcat_Pcol.pa\")\n",
    "\n",
    "# # id 200 random samples for each type\n",
    "# pici_acc_200 = list(\n",
    "#     np.random.choice(\n",
    "#         annotation[annotation[\"what\"] == \"PICI\"][\"acc\"].unique(), 200, replace=False\n",
    "#     )\n",
    "# )\n",
    "# cf_acc_200 = list(\n",
    "#     np.random.choice(\n",
    "#         annotation[annotation[\"what\"] == \"CFPICI\"][\"acc\"].unique(), 200, replace=False\n",
    "#     )\n",
    "# )\n",
    "# p4_acc_200 = list(\n",
    "#     np.random.choice(\n",
    "#         annotation[annotation[\"what\"] == \"P4\"][\"acc\"].unique(), 200, replace=False\n",
    "#     )\n",
    "# )\n",
    "# phage_acc_200 = list(\n",
    "#     np.random.choice(\n",
    "#         annotation[annotation[\"what\"] == \"phage\"][\"acc\"].unique(), 200, replace=False\n",
    "#     )\n",
    "# )\n",
    "# all_acc_200 = pici_acc_200 + cf_acc_200 + p4_acc_200 + phage_acc_200\n",
    "\n",
    "# # merge all the samples\n",
    "# samples = annotation[annotation[\"acc\"].isin(all_acc_200)]\n",
    "# print(samples[\"acc\"].nunique())\n",
    "\n",
    "# samples.to_csv(\n",
    "#     \"../dataset/demonstration_samples/known_segments/annotation_200.csv\", index=False\n",
    "# )"
   ]
  },
  {
   "cell_type": "markdown",
   "metadata": {},
   "source": [
    "## parse seqs"
   ]
  },
  {
   "cell_type": "code",
   "execution_count": 37,
   "metadata": {},
   "outputs": [
    {
     "name": "stdout",
     "output_type": "stream",
     "text": [
      "6829\n",
      "200\n",
      "(6829, 10)\n"
     ]
    }
   ],
   "source": [
    "samples = pd.read_csv(\n",
    "    \"../dataset/demonstration_samples/known_segments/annotation_phage_small_200.csv\"\n",
    ")\n",
    "samples_acc = samples[\"acc\"].unique()\n",
    "samples_protein_id = samples[\"name\"].unique()\n",
    "\n",
    "print(len(samples_protein_id))\n",
    "print(len(samples_acc))\n",
    "print(samples.shape)\n",
    "\n",
    "with open(\n",
    "    \"../dataset/demonstration_samples/known_segments/proteins_phage_small_200.faa\", \"w\"\n",
    ") as f:\n",
    "    for idx, row in samples.iterrows():\n",
    "        f.write(f\">{row['name']}\\n\")\n",
    "        f.write(f\"{row['translation']}\\n\")"
   ]
  },
  {
   "cell_type": "markdown",
   "metadata": {},
   "source": [
    "# sequence comparison"
   ]
  },
  {
   "cell_type": "code",
   "execution_count": 37,
   "metadata": {},
   "outputs": [],
   "source": [
    "import pandas as pd\n",
    "from Bio import SeqIO"
   ]
  },
  {
   "cell_type": "code",
   "execution_count": 41,
   "metadata": {},
   "outputs": [],
   "source": [
    "annotation = pd.read_parquet(\"../dataset/Phage_and_Satellites_Pann_Pcat_Pcol.pa\")"
   ]
  },
  {
   "cell_type": "code",
   "execution_count": 45,
   "metadata": {},
   "outputs": [
    {
     "data": {
      "text/html": [
       "<div>\n",
       "<style scoped>\n",
       "    .dataframe tbody tr th:only-of-type {\n",
       "        vertical-align: middle;\n",
       "    }\n",
       "\n",
       "    .dataframe tbody tr th {\n",
       "        vertical-align: top;\n",
       "    }\n",
       "\n",
       "    .dataframe thead th {\n",
       "        text-align: right;\n",
       "    }\n",
       "</style>\n",
       "<table border=\"1\" class=\"dataframe\">\n",
       "  <thead>\n",
       "    <tr style=\"text-align: right;\">\n",
       "      <th></th>\n",
       "      <th>acc</th>\n",
       "      <th>name</th>\n",
       "      <th>start</th>\n",
       "      <th>end</th>\n",
       "      <th>strand</th>\n",
       "      <th>pann</th>\n",
       "      <th>pcat</th>\n",
       "      <th>pcol</th>\n",
       "      <th>translation</th>\n",
       "      <th>what</th>\n",
       "    </tr>\n",
       "  </thead>\n",
       "  <tbody>\n",
       "    <tr>\n",
       "      <th>0</th>\n",
       "      <td>STAU002_0321_00536_C001_PICI_TypeB_variant0002...</td>\n",
       "      <td>PGUTJQZF_CDS_0001</td>\n",
       "      <td>2</td>\n",
       "      <td>569</td>\n",
       "      <td>-1</td>\n",
       "      <td>terminase small subunit</td>\n",
       "      <td>head and packaging</td>\n",
       "      <td></td>\n",
       "      <td>MSELTAKQARFVNEYIRTLNVTQSAIKAGYSANSAHVTGCRLLKKP...</td>\n",
       "      <td>PICI</td>\n",
       "    </tr>\n",
       "    <tr>\n",
       "      <th>1</th>\n",
       "      <td>STAU002_0321_00536_C001_PICI_TypeB_variant0002...</td>\n",
       "      <td>PGUTJQZF_CDS_0002</td>\n",
       "      <td>565</td>\n",
       "      <td>907</td>\n",
       "      <td>-1</td>\n",
       "      <td>hypothetical protein</td>\n",
       "      <td>unknown function</td>\n",
       "      <td></td>\n",
       "      <td>MDKKQIKDFVCDYHKRTISDVLIDDEINTDEFFSIGDENSNEWMAD...</td>\n",
       "      <td>PICI</td>\n",
       "    </tr>\n",
       "    <tr>\n",
       "      <th>2</th>\n",
       "      <td>STAU002_0321_00536_C001_PICI_TypeB_variant0002...</td>\n",
       "      <td>PGUTJQZF_CDS_0003</td>\n",
       "      <td>909</td>\n",
       "      <td>1437</td>\n",
       "      <td>-1</td>\n",
       "      <td>spore coat protein</td>\n",
       "      <td>head and packaging</td>\n",
       "      <td></td>\n",
       "      <td>MKLLKTKNCLYYRNGDNKLSEYQLLTQFNPAFINKKIKMCEFQIES...</td>\n",
       "      <td>PICI</td>\n",
       "    </tr>\n",
       "    <tr>\n",
       "      <th>3</th>\n",
       "      <td>STAU002_0321_00536_C001_PICI_TypeB_variant0002...</td>\n",
       "      <td>PGUTJQZF_CDS_0004</td>\n",
       "      <td>1487</td>\n",
       "      <td>1706</td>\n",
       "      <td>-1</td>\n",
       "      <td>hypothetical protein</td>\n",
       "      <td>unknown function</td>\n",
       "      <td></td>\n",
       "      <td>METKYELNNTKKVANAFGLNEADTNLLINAVDLDIKNNMQEISSEL...</td>\n",
       "      <td>PICI</td>\n",
       "    </tr>\n",
       "    <tr>\n",
       "      <th>4</th>\n",
       "      <td>STAU002_0321_00536_C001_PICI_TypeB_variant0002...</td>\n",
       "      <td>PGUTJQZF_CDS_0005</td>\n",
       "      <td>1723</td>\n",
       "      <td>2302</td>\n",
       "      <td>-1</td>\n",
       "      <td>hypothetical protein</td>\n",
       "      <td>unknown function</td>\n",
       "      <td></td>\n",
       "      <td>MKTESYFKEYNQFVIDQQKAIQELEQERNALESKIKIDKSTYKQLI...</td>\n",
       "      <td>PICI</td>\n",
       "    </tr>\n",
       "    <tr>\n",
       "      <th>5</th>\n",
       "      <td>STAU002_0321_00536_C001_PICI_TypeB_variant0002...</td>\n",
       "      <td>PGUTJQZF_CDS_0006</td>\n",
       "      <td>2313</td>\n",
       "      <td>2655</td>\n",
       "      <td>-1</td>\n",
       "      <td>hypothetical protein</td>\n",
       "      <td>unknown function</td>\n",
       "      <td></td>\n",
       "      <td>MQSIAEKETYHLPTEHLQVFNVIKNTSNKYITKTKILNQLGYEYNS...</td>\n",
       "      <td>PICI</td>\n",
       "    </tr>\n",
       "    <tr>\n",
       "      <th>6</th>\n",
       "      <td>STAU002_0321_00536_C001_PICI_TypeB_variant0002...</td>\n",
       "      <td>PGUTJQZF_CDS_0007</td>\n",
       "      <td>3104</td>\n",
       "      <td>3746</td>\n",
       "      <td>-1</td>\n",
       "      <td>hypothetical protein</td>\n",
       "      <td>unknown function</td>\n",
       "      <td></td>\n",
       "      <td>MNLETIVNQFETRAGTLLRYYTGLLEHSKVQPCCFKLYNDPFDMVY...</td>\n",
       "      <td>PICI</td>\n",
       "    </tr>\n",
       "    <tr>\n",
       "      <th>7</th>\n",
       "      <td>STAU002_0321_00536_C001_PICI_TypeB_variant0002...</td>\n",
       "      <td>PGUTJQZF_CDS_0008</td>\n",
       "      <td>3742</td>\n",
       "      <td>4123</td>\n",
       "      <td>-1</td>\n",
       "      <td>hypothetical protein</td>\n",
       "      <td>unknown function</td>\n",
       "      <td></td>\n",
       "      <td>MDKEQLKKYIYEYVKEYKEIPIYQLEDLFKEINHDYIGRTSITHDK...</td>\n",
       "      <td>PICI</td>\n",
       "    </tr>\n",
       "    <tr>\n",
       "      <th>8</th>\n",
       "      <td>STAU002_0321_00536_C001_PICI_TypeB_variant0002...</td>\n",
       "      <td>PGUTJQZF_CDS_0009</td>\n",
       "      <td>4432</td>\n",
       "      <td>6142</td>\n",
       "      <td>-1</td>\n",
       "      <td>DNA primase/helicase</td>\n",
       "      <td>DNA, RNA and nucleotide metabolism</td>\n",
       "      <td></td>\n",
       "      <td>METGKSDVLDKIEKINKKDSALQEIIPKGYEIEHHQCGVALYQLIP...</td>\n",
       "      <td>PICI</td>\n",
       "    </tr>\n",
       "    <tr>\n",
       "      <th>9</th>\n",
       "      <td>STAU002_0321_00536_C001_PICI_TypeB_variant0002...</td>\n",
       "      <td>PGUTJQZF_CDS_0010</td>\n",
       "      <td>6155</td>\n",
       "      <td>7025</td>\n",
       "      <td>-1</td>\n",
       "      <td>DNA polymerase/primase</td>\n",
       "      <td>DNA, RNA and nucleotide metabolism</td>\n",
       "      <td></td>\n",
       "      <td>MNEIKLEYDTHVSVVHYESLDSRSFKSFSKPEWSKLVNKLSVPIEA...</td>\n",
       "      <td>PICI</td>\n",
       "    </tr>\n",
       "    <tr>\n",
       "      <th>10</th>\n",
       "      <td>STAU002_0321_00536_C001_PICI_TypeB_variant0002...</td>\n",
       "      <td>PGUTJQZF_CDS_0011</td>\n",
       "      <td>7089</td>\n",
       "      <td>7416</td>\n",
       "      <td>-1</td>\n",
       "      <td>hypothetical protein</td>\n",
       "      <td>unknown function</td>\n",
       "      <td></td>\n",
       "      <td>MNREIKDLFSDLKLLKDSFEDLKDSNGWHFDELYPYEPNHVLNKDE...</td>\n",
       "      <td>PICI</td>\n",
       "    </tr>\n",
       "    <tr>\n",
       "      <th>11</th>\n",
       "      <td>STAU002_0321_00536_C001_PICI_TypeB_variant0002...</td>\n",
       "      <td>PGUTJQZF_CDS_0012</td>\n",
       "      <td>7418</td>\n",
       "      <td>7628</td>\n",
       "      <td>-1</td>\n",
       "      <td>hypothetical protein</td>\n",
       "      <td>unknown function</td>\n",
       "      <td></td>\n",
       "      <td>MNNEQKEVIEHVVYQLELSVVNNLESYEHTEYVNGIEVVSEISREK...</td>\n",
       "      <td>PICI</td>\n",
       "    </tr>\n",
       "    <tr>\n",
       "      <th>12</th>\n",
       "      <td>STAU002_0321_00536_C001_PICI_TypeB_variant0002...</td>\n",
       "      <td>PGUTJQZF_CDS_0013</td>\n",
       "      <td>7620</td>\n",
       "      <td>7767</td>\n",
       "      <td>-1</td>\n",
       "      <td>hypothetical protein</td>\n",
       "      <td>unknown function</td>\n",
       "      <td></td>\n",
       "      <td>MKMYLTYICLVSLLTILLLAISNMYVAFSVYAWLITLGCNLTGGLENE*</td>\n",
       "      <td>PICI</td>\n",
       "    </tr>\n",
       "    <tr>\n",
       "      <th>13</th>\n",
       "      <td>STAU002_0321_00536_C001_PICI_TypeB_variant0002...</td>\n",
       "      <td>PGUTJQZF_CDS_0014</td>\n",
       "      <td>7763</td>\n",
       "      <td>8081</td>\n",
       "      <td>-1</td>\n",
       "      <td>HTH DNA binding protein</td>\n",
       "      <td>DNA, RNA and nucleotide metabolism</td>\n",
       "      <td></td>\n",
       "      <td>MFNINIDEDEARELLEQAINARVDELAKEKYFMTYKELSNYLNLSK...</td>\n",
       "      <td>PICI</td>\n",
       "    </tr>\n",
       "    <tr>\n",
       "      <th>14</th>\n",
       "      <td>STAU002_0321_00536_C001_PICI_TypeB_variant0002...</td>\n",
       "      <td>PGUTJQZF_CDS_0015</td>\n",
       "      <td>8085</td>\n",
       "      <td>8304</td>\n",
       "      <td>-1</td>\n",
       "      <td>transcriptional repressor</td>\n",
       "      <td>transcription regulation</td>\n",
       "      <td></td>\n",
       "      <td>MTILANTRKFKEAMFLKGFNLSDLSRETGVGISYLSQIINGKKIPS...</td>\n",
       "      <td>PICI</td>\n",
       "    </tr>\n",
       "    <tr>\n",
       "      <th>15</th>\n",
       "      <td>STAU002_0321_00536_C001_PICI_TypeB_variant0002...</td>\n",
       "      <td>PGUTJQZF_CDS_0016</td>\n",
       "      <td>8476</td>\n",
       "      <td>9151</td>\n",
       "      <td>1</td>\n",
       "      <td>transcriptional repressor</td>\n",
       "      <td>transcription regulation</td>\n",
       "      <td></td>\n",
       "      <td>MIRNRLSELLSERGLKISRVAKDVKIARSSLTSMAQNDSEMIRYDA...</td>\n",
       "      <td>PICI</td>\n",
       "    </tr>\n",
       "    <tr>\n",
       "      <th>16</th>\n",
       "      <td>STAU002_0321_00536_C001_PICI_TypeB_variant0002...</td>\n",
       "      <td>PGUTJQZF_CDS_0017</td>\n",
       "      <td>9164</td>\n",
       "      <td>10337</td>\n",
       "      <td>1</td>\n",
       "      <td>integrase</td>\n",
       "      <td>integration and excision</td>\n",
       "      <td></td>\n",
       "      <td>MASYEKRGNTWRYRISLGKDAETGKYKYISNSGFKRKSDAKHHAEM...</td>\n",
       "      <td>PICI</td>\n",
       "    </tr>\n",
       "  </tbody>\n",
       "</table>\n",
       "</div>"
      ],
      "text/plain": [
       "                                                  acc               name  \\\n",
       "0   STAU002_0321_00536_C001_PICI_TypeB_variant0002...  PGUTJQZF_CDS_0001   \n",
       "1   STAU002_0321_00536_C001_PICI_TypeB_variant0002...  PGUTJQZF_CDS_0002   \n",
       "2   STAU002_0321_00536_C001_PICI_TypeB_variant0002...  PGUTJQZF_CDS_0003   \n",
       "3   STAU002_0321_00536_C001_PICI_TypeB_variant0002...  PGUTJQZF_CDS_0004   \n",
       "4   STAU002_0321_00536_C001_PICI_TypeB_variant0002...  PGUTJQZF_CDS_0005   \n",
       "5   STAU002_0321_00536_C001_PICI_TypeB_variant0002...  PGUTJQZF_CDS_0006   \n",
       "6   STAU002_0321_00536_C001_PICI_TypeB_variant0002...  PGUTJQZF_CDS_0007   \n",
       "7   STAU002_0321_00536_C001_PICI_TypeB_variant0002...  PGUTJQZF_CDS_0008   \n",
       "8   STAU002_0321_00536_C001_PICI_TypeB_variant0002...  PGUTJQZF_CDS_0009   \n",
       "9   STAU002_0321_00536_C001_PICI_TypeB_variant0002...  PGUTJQZF_CDS_0010   \n",
       "10  STAU002_0321_00536_C001_PICI_TypeB_variant0002...  PGUTJQZF_CDS_0011   \n",
       "11  STAU002_0321_00536_C001_PICI_TypeB_variant0002...  PGUTJQZF_CDS_0012   \n",
       "12  STAU002_0321_00536_C001_PICI_TypeB_variant0002...  PGUTJQZF_CDS_0013   \n",
       "13  STAU002_0321_00536_C001_PICI_TypeB_variant0002...  PGUTJQZF_CDS_0014   \n",
       "14  STAU002_0321_00536_C001_PICI_TypeB_variant0002...  PGUTJQZF_CDS_0015   \n",
       "15  STAU002_0321_00536_C001_PICI_TypeB_variant0002...  PGUTJQZF_CDS_0016   \n",
       "16  STAU002_0321_00536_C001_PICI_TypeB_variant0002...  PGUTJQZF_CDS_0017   \n",
       "\n",
       "    start    end  strand                       pann  \\\n",
       "0       2    569      -1    terminase small subunit   \n",
       "1     565    907      -1       hypothetical protein   \n",
       "2     909   1437      -1         spore coat protein   \n",
       "3    1487   1706      -1       hypothetical protein   \n",
       "4    1723   2302      -1       hypothetical protein   \n",
       "5    2313   2655      -1       hypothetical protein   \n",
       "6    3104   3746      -1       hypothetical protein   \n",
       "7    3742   4123      -1       hypothetical protein   \n",
       "8    4432   6142      -1       DNA primase/helicase   \n",
       "9    6155   7025      -1     DNA polymerase/primase   \n",
       "10   7089   7416      -1       hypothetical protein   \n",
       "11   7418   7628      -1       hypothetical protein   \n",
       "12   7620   7767      -1       hypothetical protein   \n",
       "13   7763   8081      -1    HTH DNA binding protein   \n",
       "14   8085   8304      -1  transcriptional repressor   \n",
       "15   8476   9151       1  transcriptional repressor   \n",
       "16   9164  10337       1                  integrase   \n",
       "\n",
       "                                  pcat pcol  \\\n",
       "0                   head and packaging        \n",
       "1                     unknown function        \n",
       "2                   head and packaging        \n",
       "3                     unknown function        \n",
       "4                     unknown function        \n",
       "5                     unknown function        \n",
       "6                     unknown function        \n",
       "7                     unknown function        \n",
       "8   DNA, RNA and nucleotide metabolism        \n",
       "9   DNA, RNA and nucleotide metabolism        \n",
       "10                    unknown function        \n",
       "11                    unknown function        \n",
       "12                    unknown function        \n",
       "13  DNA, RNA and nucleotide metabolism        \n",
       "14            transcription regulation        \n",
       "15            transcription regulation        \n",
       "16            integration and excision        \n",
       "\n",
       "                                          translation  what  \n",
       "0   MSELTAKQARFVNEYIRTLNVTQSAIKAGYSANSAHVTGCRLLKKP...  PICI  \n",
       "1   MDKKQIKDFVCDYHKRTISDVLIDDEINTDEFFSIGDENSNEWMAD...  PICI  \n",
       "2   MKLLKTKNCLYYRNGDNKLSEYQLLTQFNPAFINKKIKMCEFQIES...  PICI  \n",
       "3   METKYELNNTKKVANAFGLNEADTNLLINAVDLDIKNNMQEISSEL...  PICI  \n",
       "4   MKTESYFKEYNQFVIDQQKAIQELEQERNALESKIKIDKSTYKQLI...  PICI  \n",
       "5   MQSIAEKETYHLPTEHLQVFNVIKNTSNKYITKTKILNQLGYEYNS...  PICI  \n",
       "6   MNLETIVNQFETRAGTLLRYYTGLLEHSKVQPCCFKLYNDPFDMVY...  PICI  \n",
       "7   MDKEQLKKYIYEYVKEYKEIPIYQLEDLFKEINHDYIGRTSITHDK...  PICI  \n",
       "8   METGKSDVLDKIEKINKKDSALQEIIPKGYEIEHHQCGVALYQLIP...  PICI  \n",
       "9   MNEIKLEYDTHVSVVHYESLDSRSFKSFSKPEWSKLVNKLSVPIEA...  PICI  \n",
       "10  MNREIKDLFSDLKLLKDSFEDLKDSNGWHFDELYPYEPNHVLNKDE...  PICI  \n",
       "11  MNNEQKEVIEHVVYQLELSVVNNLESYEHTEYVNGIEVVSEISREK...  PICI  \n",
       "12  MKMYLTYICLVSLLTILLLAISNMYVAFSVYAWLITLGCNLTGGLENE*  PICI  \n",
       "13  MFNINIDEDEARELLEQAINARVDELAKEKYFMTYKELSNYLNLSK...  PICI  \n",
       "14  MTILANTRKFKEAMFLKGFNLSDLSRETGVGISYLSQIINGKKIPS...  PICI  \n",
       "15  MIRNRLSELLSERGLKISRVAKDVKIARSSLTSMAQNDSEMIRYDA...  PICI  \n",
       "16  MASYEKRGNTWRYRISLGKDAETGKYKYISNSGFKRKSDAKHHAEM...  PICI  "
      ]
     },
     "execution_count": 45,
     "metadata": {},
     "output_type": "execute_result"
    }
   ],
   "source": [
    "annotation[annotation[\"acc\"].str.contains(\"STAU002_0321_00536_C001\")]\n"
   ]
  },
  {
   "cell_type": "code",
   "execution_count": 4,
   "metadata": {},
   "outputs": [
    {
     "data": {
      "text/plain": [
       "1435"
      ]
     },
     "execution_count": 4,
     "metadata": {},
     "output_type": "execute_result"
    }
   ],
   "source": [
    "pici_seqs = list(SeqIO.parse(\"../dataset/PICI_NucSequences_060723.fst\", \"fasta\"))\n",
    "len(pici_seqs)"
   ]
  },
  {
   "cell_type": "code",
   "execution_count": 10,
   "metadata": {},
   "outputs": [
    {
     "name": "stdout",
     "output_type": "stream",
     "text": [
      "STAU002.0321.00536.C001.PICI.TypeB.variant0002.Set2\n",
      "10337\n"
     ]
    }
   ],
   "source": [
    "# find seq where id contains STAU002.0321.00536.C001\n",
    "for seq in pici_seqs:\n",
    "    if \"STAU002.0321.00536.C001\" in seq.id:\n",
    "        print(seq.id)\n",
    "        target_seq = seq.seq\n",
    "        print(len(target_seq))\n",
    "        break"
   ]
  },
  {
   "cell_type": "code",
   "execution_count": 38,
   "metadata": {},
   "outputs": [
    {
     "data": {
      "text/html": [
       "<div>\n",
       "<style scoped>\n",
       "    .dataframe tbody tr th:only-of-type {\n",
       "        vertical-align: middle;\n",
       "    }\n",
       "\n",
       "    .dataframe tbody tr th {\n",
       "        vertical-align: top;\n",
       "    }\n",
       "\n",
       "    .dataframe thead th {\n",
       "        text-align: right;\n",
       "    }\n",
       "</style>\n",
       "<table border=\"1\" class=\"dataframe\">\n",
       "  <thead>\n",
       "    <tr style=\"text-align: right;\">\n",
       "      <th></th>\n",
       "      <th>Unnamed: 0</th>\n",
       "      <th>PICI_ID</th>\n",
       "      <th>Host_ID</th>\n",
       "      <th>Host_strain</th>\n",
       "      <th>Host_Ref</th>\n",
       "      <th>Genomic_region</th>\n",
       "    </tr>\n",
       "  </thead>\n",
       "  <tbody>\n",
       "    <tr>\n",
       "      <th>1304</th>\n",
       "      <td>1304</td>\n",
       "      <td>STAU002.0321.00536.C001.PICI.TypeB.variant0002...</td>\n",
       "      <td>STAU002.0321.00536.C001</td>\n",
       "      <td>Staphylococcus aureus subsp. aureus N315, comp...</td>\n",
       "      <td>GCF_000009645.1</td>\n",
       "      <td>(2061935, 2072272)</td>\n",
       "    </tr>\n",
       "  </tbody>\n",
       "</table>\n",
       "</div>"
      ],
      "text/plain": [
       "      Unnamed: 0                                            PICI_ID  \\\n",
       "1304        1304  STAU002.0321.00536.C001.PICI.TypeB.variant0002...   \n",
       "\n",
       "                      Host_ID  \\\n",
       "1304  STAU002.0321.00536.C001   \n",
       "\n",
       "                                            Host_strain         Host_Ref  \\\n",
       "1304  Staphylococcus aureus subsp. aureus N315, comp...  GCF_000009645.1   \n",
       "\n",
       "          Genomic_region  \n",
       "1304  (2061935, 2072272)  "
      ]
     },
     "execution_count": 38,
     "metadata": {},
     "output_type": "execute_result"
    }
   ],
   "source": [
    "pici_metadata = pd.read_csv(\"../dataset/PICI_GenomicNucInfo_060723.csv\")\n",
    "pici_metadata[pici_metadata[\"PICI_ID\"].str.contains(\"STAU002.0321.00536.C001\")]"
   ]
  },
  {
   "cell_type": "code",
   "execution_count": 39,
   "metadata": {},
   "outputs": [
    {
     "data": {
      "text/html": [
       "<div>\n",
       "<style scoped>\n",
       "    .dataframe tbody tr th:only-of-type {\n",
       "        vertical-align: middle;\n",
       "    }\n",
       "\n",
       "    .dataframe tbody tr th {\n",
       "        vertical-align: top;\n",
       "    }\n",
       "\n",
       "    .dataframe thead th {\n",
       "        text-align: right;\n",
       "    }\n",
       "</style>\n",
       "<table border=\"1\" class=\"dataframe\">\n",
       "  <thead>\n",
       "    <tr style=\"text-align: right;\">\n",
       "      <th></th>\n",
       "      <th>Unnamed: 0</th>\n",
       "      <th>PICI_ID</th>\n",
       "      <th>Host_ID</th>\n",
       "      <th>Host_strain</th>\n",
       "      <th>Host_Ref</th>\n",
       "      <th>Genomic_region</th>\n",
       "    </tr>\n",
       "  </thead>\n",
       "  <tbody>\n",
       "    <tr>\n",
       "      <th>0</th>\n",
       "      <td>0</td>\n",
       "      <td>STAU002.0321.00050.C001.PICI.TypeB.variant0002...</td>\n",
       "      <td>STAU002.0321.00050.C001</td>\n",
       "      <td>Staphylococcus aureus strain HOU1444-VR chromo...</td>\n",
       "      <td>GCF_001278745.1</td>\n",
       "      <td>(401962, 412834)</td>\n",
       "    </tr>\n",
       "    <tr>\n",
       "      <th>1</th>\n",
       "      <td>1</td>\n",
       "      <td>POSP014.0321.00001.C001.PICI.TypeB.variant0001...</td>\n",
       "      <td>POSP014.0321.00001.C001</td>\n",
       "      <td>Polaromonas sp. JS666, complete sequence.</td>\n",
       "      <td>GCF_000013865.1</td>\n",
       "      <td>(3126147, 3132812)</td>\n",
       "    </tr>\n",
       "    <tr>\n",
       "      <th>2</th>\n",
       "      <td>2</td>\n",
       "      <td>STAU002.0321.00250.C001.PICI.TypeB.variant0002...</td>\n",
       "      <td>STAU002.0321.00250.C001</td>\n",
       "      <td>Staphylococcus aureus subsp. aureus strain 80w...</td>\n",
       "      <td>GCF_003944865.1</td>\n",
       "      <td>(814785, 826925)</td>\n",
       "    </tr>\n",
       "    <tr>\n",
       "      <th>3</th>\n",
       "      <td>3</td>\n",
       "      <td>STAU002.0321.00374.C001.PICI.TypeB.variant0002...</td>\n",
       "      <td>STAU002.0321.00374.C001</td>\n",
       "      <td>Staphylococcus aureus strain UP_1150 chromosom...</td>\n",
       "      <td>GCF_009912535.1</td>\n",
       "      <td>(2745923, 2756343)</td>\n",
       "    </tr>\n",
       "    <tr>\n",
       "      <th>4</th>\n",
       "      <td>4</td>\n",
       "      <td>MYTU002.0321.00238.C001.PICI.TypeB.variant0004...</td>\n",
       "      <td>MYTU002.0321.00238.C001</td>\n",
       "      <td>Mycobacterium tuberculosis strain DKC2 isolate...</td>\n",
       "      <td>GCF_900520315.1</td>\n",
       "      <td>(105183, 113045)</td>\n",
       "    </tr>\n",
       "    <tr>\n",
       "      <th>...</th>\n",
       "      <td>...</td>\n",
       "      <td>...</td>\n",
       "      <td>...</td>\n",
       "      <td>...</td>\n",
       "      <td>...</td>\n",
       "      <td>...</td>\n",
       "    </tr>\n",
       "    <tr>\n",
       "      <th>1430</th>\n",
       "      <td>1430</td>\n",
       "      <td>STSA003.0321.00008.C001.PICI.TypeB.variant0002...</td>\n",
       "      <td>STSA003.0321.00008.C001</td>\n",
       "      <td>Staphylococcus saprophyticus strain UTI-056 ch...</td>\n",
       "      <td>GCF_013341435.1</td>\n",
       "      <td>(2129, 11546)</td>\n",
       "    </tr>\n",
       "    <tr>\n",
       "      <th>1431</th>\n",
       "      <td>1431</td>\n",
       "      <td>STSI001.0321.00003.C001.PICI.TypeB.variant0001...</td>\n",
       "      <td>STSI001.0321.00003.C001</td>\n",
       "      <td>Staphylococcus simulans strain MR3, complete s...</td>\n",
       "      <td>GCF_003006055.1</td>\n",
       "      <td>(1027781, 1037385)</td>\n",
       "    </tr>\n",
       "    <tr>\n",
       "      <th>1432</th>\n",
       "      <td>1432</td>\n",
       "      <td>STSI001.0321.00004.C001.PICI.TypeB.variant0001...</td>\n",
       "      <td>STSI001.0321.00004.C001</td>\n",
       "      <td>Staphylococcus simulans strain MR4, complete s...</td>\n",
       "      <td>GCF_003006075.1</td>\n",
       "      <td>(1027781, 1037385)</td>\n",
       "    </tr>\n",
       "    <tr>\n",
       "      <th>1433</th>\n",
       "      <td>1433</td>\n",
       "      <td>STSI001.0321.00005.C001.PICI.TypeB.variant0001...</td>\n",
       "      <td>STSI001.0321.00005.C001</td>\n",
       "      <td>Staphylococcus simulans strain MR2, complete s...</td>\n",
       "      <td>GCF_003076375.1</td>\n",
       "      <td>(1027882, 1037486)</td>\n",
       "    </tr>\n",
       "    <tr>\n",
       "      <th>1434</th>\n",
       "      <td>1434</td>\n",
       "      <td>STSI001.0321.00006.C001.PICI.TypeB.variant0001...</td>\n",
       "      <td>STSI001.0321.00006.C001</td>\n",
       "      <td>Staphylococcus simulans strain MR1 chromosome,...</td>\n",
       "      <td>GCF_003096155.1</td>\n",
       "      <td>(1027882, 1037486)</td>\n",
       "    </tr>\n",
       "  </tbody>\n",
       "</table>\n",
       "<p>1435 rows × 6 columns</p>\n",
       "</div>"
      ],
      "text/plain": [
       "      Unnamed: 0                                            PICI_ID  \\\n",
       "0              0  STAU002.0321.00050.C001.PICI.TypeB.variant0002...   \n",
       "1              1  POSP014.0321.00001.C001.PICI.TypeB.variant0001...   \n",
       "2              2  STAU002.0321.00250.C001.PICI.TypeB.variant0002...   \n",
       "3              3  STAU002.0321.00374.C001.PICI.TypeB.variant0002...   \n",
       "4              4  MYTU002.0321.00238.C001.PICI.TypeB.variant0004...   \n",
       "...          ...                                                ...   \n",
       "1430        1430  STSA003.0321.00008.C001.PICI.TypeB.variant0002...   \n",
       "1431        1431  STSI001.0321.00003.C001.PICI.TypeB.variant0001...   \n",
       "1432        1432  STSI001.0321.00004.C001.PICI.TypeB.variant0001...   \n",
       "1433        1433  STSI001.0321.00005.C001.PICI.TypeB.variant0001...   \n",
       "1434        1434  STSI001.0321.00006.C001.PICI.TypeB.variant0001...   \n",
       "\n",
       "                      Host_ID  \\\n",
       "0     STAU002.0321.00050.C001   \n",
       "1     POSP014.0321.00001.C001   \n",
       "2     STAU002.0321.00250.C001   \n",
       "3     STAU002.0321.00374.C001   \n",
       "4     MYTU002.0321.00238.C001   \n",
       "...                       ...   \n",
       "1430  STSA003.0321.00008.C001   \n",
       "1431  STSI001.0321.00003.C001   \n",
       "1432  STSI001.0321.00004.C001   \n",
       "1433  STSI001.0321.00005.C001   \n",
       "1434  STSI001.0321.00006.C001   \n",
       "\n",
       "                                            Host_strain         Host_Ref  \\\n",
       "0     Staphylococcus aureus strain HOU1444-VR chromo...  GCF_001278745.1   \n",
       "1             Polaromonas sp. JS666, complete sequence.  GCF_000013865.1   \n",
       "2     Staphylococcus aureus subsp. aureus strain 80w...  GCF_003944865.1   \n",
       "3     Staphylococcus aureus strain UP_1150 chromosom...  GCF_009912535.1   \n",
       "4     Mycobacterium tuberculosis strain DKC2 isolate...  GCF_900520315.1   \n",
       "...                                                 ...              ...   \n",
       "1430  Staphylococcus saprophyticus strain UTI-056 ch...  GCF_013341435.1   \n",
       "1431  Staphylococcus simulans strain MR3, complete s...  GCF_003006055.1   \n",
       "1432  Staphylococcus simulans strain MR4, complete s...  GCF_003006075.1   \n",
       "1433  Staphylococcus simulans strain MR2, complete s...  GCF_003076375.1   \n",
       "1434  Staphylococcus simulans strain MR1 chromosome,...  GCF_003096155.1   \n",
       "\n",
       "          Genomic_region  \n",
       "0       (401962, 412834)  \n",
       "1     (3126147, 3132812)  \n",
       "2       (814785, 826925)  \n",
       "3     (2745923, 2756343)  \n",
       "4       (105183, 113045)  \n",
       "...                  ...  \n",
       "1430       (2129, 11546)  \n",
       "1431  (1027781, 1037385)  \n",
       "1432  (1027781, 1037385)  \n",
       "1433  (1027882, 1037486)  \n",
       "1434  (1027882, 1037486)  \n",
       "\n",
       "[1435 rows x 6 columns]"
      ]
     },
     "execution_count": 39,
     "metadata": {},
     "output_type": "execute_result"
    }
   ],
   "source": [
    "pici_metadata"
   ]
  },
  {
   "cell_type": "code",
   "execution_count": 15,
   "metadata": {},
   "outputs": [
    {
     "data": {
      "text/plain": [
       "2814816"
      ]
     },
     "execution_count": 15,
     "metadata": {},
     "output_type": "execute_result"
    }
   ],
   "source": [
    "genome_seqs = list(\n",
    "    SeqIO.parse(\n",
    "        \"../dataset/demonstration_samples/GCF_000009645.1/GCF_000009645.1_ASM964v1_genomic.fna\",\n",
    "        \"fasta\",\n",
    "    )\n",
    ")\n",
    "len(genome_seqs[0].seq)"
   ]
  },
  {
   "cell_type": "code",
   "execution_count": 36,
   "metadata": {},
   "outputs": [
    {
     "data": {
      "text/html": [
       "<div>\n",
       "<style scoped>\n",
       "    .dataframe tbody tr th:only-of-type {\n",
       "        vertical-align: middle;\n",
       "    }\n",
       "\n",
       "    .dataframe tbody tr th {\n",
       "        vertical-align: top;\n",
       "    }\n",
       "\n",
       "    .dataframe thead th {\n",
       "        text-align: right;\n",
       "    }\n",
       "</style>\n",
       "<table border=\"1\" class=\"dataframe\">\n",
       "  <thead>\n",
       "    <tr style=\"text-align: right;\">\n",
       "      <th></th>\n",
       "      <th>id</th>\n",
       "      <th>contig</th>\n",
       "      <th>start</th>\n",
       "      <th>end</th>\n",
       "      <th>strand</th>\n",
       "    </tr>\n",
       "  </thead>\n",
       "  <tbody>\n",
       "    <tr>\n",
       "      <th>1960</th>\n",
       "      <td>WP_001293088.1</td>\n",
       "      <td>NC_002745.2</td>\n",
       "      <td>2061935</td>\n",
       "      <td>2062504</td>\n",
       "      <td>-</td>\n",
       "    </tr>\n",
       "    <tr>\n",
       "      <th>1961</th>\n",
       "      <td>WP_000358774.1</td>\n",
       "      <td>NC_002745.2</td>\n",
       "      <td>2062501</td>\n",
       "      <td>2062842</td>\n",
       "      <td>-</td>\n",
       "    </tr>\n",
       "    <tr>\n",
       "      <th>1962</th>\n",
       "      <td>WP_000771368.1</td>\n",
       "      <td>NC_002745.2</td>\n",
       "      <td>2062845</td>\n",
       "      <td>2063372</td>\n",
       "      <td>-</td>\n",
       "    </tr>\n",
       "    <tr>\n",
       "      <th>1963</th>\n",
       "      <td>WP_000448770.1</td>\n",
       "      <td>NC_002745.2</td>\n",
       "      <td>2063423</td>\n",
       "      <td>2063641</td>\n",
       "      <td>-</td>\n",
       "    </tr>\n",
       "    <tr>\n",
       "      <th>1964</th>\n",
       "      <td>WP_000846280.1</td>\n",
       "      <td>NC_002745.2</td>\n",
       "      <td>2063659</td>\n",
       "      <td>2064237</td>\n",
       "      <td>-</td>\n",
       "    </tr>\n",
       "    <tr>\n",
       "      <th>1965</th>\n",
       "      <td>WP_001190615.1</td>\n",
       "      <td>NC_002745.2</td>\n",
       "      <td>2064249</td>\n",
       "      <td>2064590</td>\n",
       "      <td>-</td>\n",
       "    </tr>\n",
       "    <tr>\n",
       "      <th>1966</th>\n",
       "      <td>WP_001047698.1</td>\n",
       "      <td>NC_002745.2</td>\n",
       "      <td>2065040</td>\n",
       "      <td>2065681</td>\n",
       "      <td>-</td>\n",
       "    </tr>\n",
       "    <tr>\n",
       "      <th>1967</th>\n",
       "      <td>WP_000356942.1</td>\n",
       "      <td>NC_002745.2</td>\n",
       "      <td>2065678</td>\n",
       "      <td>2066058</td>\n",
       "      <td>-</td>\n",
       "    </tr>\n",
       "    <tr>\n",
       "      <th>1968</th>\n",
       "      <td>WP_000447473.1</td>\n",
       "      <td>NC_002745.2</td>\n",
       "      <td>2066368</td>\n",
       "      <td>2068077</td>\n",
       "      <td>-</td>\n",
       "    </tr>\n",
       "    <tr>\n",
       "      <th>1969</th>\n",
       "      <td>WP_001002689.1</td>\n",
       "      <td>NC_002745.2</td>\n",
       "      <td>2068091</td>\n",
       "      <td>2068960</td>\n",
       "      <td>-</td>\n",
       "    </tr>\n",
       "    <tr>\n",
       "      <th>1970</th>\n",
       "      <td>WP_001078344.1</td>\n",
       "      <td>NC_002745.2</td>\n",
       "      <td>2069025</td>\n",
       "      <td>2069351</td>\n",
       "      <td>-</td>\n",
       "    </tr>\n",
       "    <tr>\n",
       "      <th>1971</th>\n",
       "      <td>WP_001058495.1</td>\n",
       "      <td>NC_002745.2</td>\n",
       "      <td>2069354</td>\n",
       "      <td>2069563</td>\n",
       "      <td>-</td>\n",
       "    </tr>\n",
       "    <tr>\n",
       "      <th>1972</th>\n",
       "      <td>WP_000784885.1</td>\n",
       "      <td>NC_002745.2</td>\n",
       "      <td>2069556</td>\n",
       "      <td>2069702</td>\n",
       "      <td>-</td>\n",
       "    </tr>\n",
       "    <tr>\n",
       "      <th>1973</th>\n",
       "      <td>WP_000481967.1</td>\n",
       "      <td>NC_002745.2</td>\n",
       "      <td>2069699</td>\n",
       "      <td>2070016</td>\n",
       "      <td>-</td>\n",
       "    </tr>\n",
       "    <tr>\n",
       "      <th>1974</th>\n",
       "      <td>WP_000153640.1</td>\n",
       "      <td>NC_002745.2</td>\n",
       "      <td>2070021</td>\n",
       "      <td>2070239</td>\n",
       "      <td>-</td>\n",
       "    </tr>\n",
       "    <tr>\n",
       "      <th>1975</th>\n",
       "      <td>WP_000620857.1</td>\n",
       "      <td>NC_002745.2</td>\n",
       "      <td>2070412</td>\n",
       "      <td>2071086</td>\n",
       "      <td>+</td>\n",
       "    </tr>\n",
       "    <tr>\n",
       "      <th>1976</th>\n",
       "      <td>WP_000179343.1</td>\n",
       "      <td>NC_002745.2</td>\n",
       "      <td>2071100</td>\n",
       "      <td>2072272</td>\n",
       "      <td>+</td>\n",
       "    </tr>\n",
       "  </tbody>\n",
       "</table>\n",
       "</div>"
      ],
      "text/plain": [
       "                  id       contig    start      end strand\n",
       "1960  WP_001293088.1  NC_002745.2  2061935  2062504      -\n",
       "1961  WP_000358774.1  NC_002745.2  2062501  2062842      -\n",
       "1962  WP_000771368.1  NC_002745.2  2062845  2063372      -\n",
       "1963  WP_000448770.1  NC_002745.2  2063423  2063641      -\n",
       "1964  WP_000846280.1  NC_002745.2  2063659  2064237      -\n",
       "1965  WP_001190615.1  NC_002745.2  2064249  2064590      -\n",
       "1966  WP_001047698.1  NC_002745.2  2065040  2065681      -\n",
       "1967  WP_000356942.1  NC_002745.2  2065678  2066058      -\n",
       "1968  WP_000447473.1  NC_002745.2  2066368  2068077      -\n",
       "1969  WP_001002689.1  NC_002745.2  2068091  2068960      -\n",
       "1970  WP_001078344.1  NC_002745.2  2069025  2069351      -\n",
       "1971  WP_001058495.1  NC_002745.2  2069354  2069563      -\n",
       "1972  WP_000784885.1  NC_002745.2  2069556  2069702      -\n",
       "1973  WP_000481967.1  NC_002745.2  2069699  2070016      -\n",
       "1974  WP_000153640.1  NC_002745.2  2070021  2070239      -\n",
       "1975  WP_000620857.1  NC_002745.2  2070412  2071086      +\n",
       "1976  WP_000179343.1  NC_002745.2  2071100  2072272      +"
      ]
     },
     "execution_count": 36,
     "metadata": {},
     "output_type": "execute_result"
    }
   ],
   "source": [
    "gff_df = pd.read_csv(\"../dataset/demonstration_samples/GCF_000009645.1/gff_df.csv\")\n",
    "gff_df_chromosome = gff_df[gff_df[\"contig\"] == \"NC_002745.2\"]\n",
    "gff_df_pici = gff_df_chromosome[\n",
    "    (gff_df_chromosome[\"start\"] >= 2061935) & (gff_df_chromosome[\"start\"] <= 2072272)\n",
    "]\n",
    "gff_df_pici"
   ]
  },
  {
   "cell_type": "code",
   "execution_count": 22,
   "metadata": {},
   "outputs": [
    {
     "data": {
      "text/plain": [
       "array(['NC_002745.2', 'NC_003140.1'], dtype=object)"
      ]
     },
     "execution_count": 22,
     "metadata": {},
     "output_type": "execute_result"
    }
   ],
   "source": [
    "gff_df[\"contig\"].unique()"
   ]
  },
  {
   "cell_type": "code",
   "execution_count": 29,
   "metadata": {},
   "outputs": [
    {
     "data": {
      "text/plain": [
       "np.int64(2814602)"
      ]
     },
     "execution_count": 29,
     "metadata": {},
     "output_type": "execute_result"
    }
   ],
   "source": [
    "gff_df[gff_df[\"contig\"] == \"NC_002745.2\"][\"end\"].max()"
   ]
  },
  {
   "cell_type": "code",
   "execution_count": 17,
   "metadata": {},
   "outputs": [
    {
     "name": "stdout",
     "output_type": "stream",
     "text": [
      "2839061\n"
     ]
    }
   ],
   "source": [
    "# # add up all the lengths of contigs; where the total length is the largest end\n",
    "# contig_length_sum = 0\n",
    "# for contig in gff_df[\"contig\"].unique():\n",
    "#     contig_df = gff_df[gff_df[\"contig\"] == contig]\n",
    "#     contig_length = contig_df[\"end\"].max()\n",
    "#     contig_length_sum += contig_length\n",
    "# print(contig_length_sum)\n"
   ]
  }
 ],
 "metadata": {
  "kernelspec": {
   "display_name": ".venv",
   "language": "python",
   "name": "python3"
  },
  "language_info": {
   "codemirror_mode": {
    "name": "ipython",
    "version": 3
   },
   "file_extension": ".py",
   "mimetype": "text/x-python",
   "name": "python",
   "nbconvert_exporter": "python",
   "pygments_lexer": "ipython3",
   "version": "3.12.7"
  }
 },
 "nbformat": 4,
 "nbformat_minor": 2
}

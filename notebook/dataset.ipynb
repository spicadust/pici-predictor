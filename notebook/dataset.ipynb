{
 "cells": [
  {
   "cell_type": "code",
   "execution_count": 1,
   "metadata": {},
   "outputs": [],
   "source": [
    "import pandas as pd\n",
    "from Bio import SeqIO\n",
    "import glob"
   ]
  },
  {
   "cell_type": "markdown",
   "metadata": {},
   "source": [
    "### metadata: genome"
   ]
  },
  {
   "cell_type": "code",
   "execution_count": 3,
   "metadata": {},
   "outputs": [],
   "source": [
    "df_0 = pd.read_excel(\n",
    "    \"../dataset/AllSatellitesTables.xlsx\", sheet_name=\"PICI\", engine=\"openpyxl\"\n",
    ")\n",
    "print(df_0.shape)\n",
    "print(df_0.columns)"
   ]
  },
  {
   "cell_type": "code",
   "execution_count": 31,
   "metadata": {},
   "outputs": [
    {
     "name": "stdout",
     "output_type": "stream",
     "text": [
      "(1435, 6)\n",
      "Index(['Unnamed: 0', 'PICI_ID', 'Host_ID', 'Host_strain', 'Host_Ref',\n",
      "       'Genomic_region'],\n",
      "      dtype='object')\n"
     ]
    }
   ],
   "source": [
    "metadata = pd.read_csv(\"../dataset/PICI_GenomicNucInfo_060723.csv\")\n",
    "print(metadata.shape)\n",
    "print(metadata.columns)"
   ]
  },
  {
   "cell_type": "code",
   "execution_count": 72,
   "metadata": {},
   "outputs": [],
   "source": [
    "metadata[\"PICI_ID_allsets\"] = metadata[\"PICI_ID\"].str.split(\".Set\", n=1).str[0]\n",
    "cols = [\"PICI_ID_allsets\"] + [\n",
    "    col for col in metadata.columns if col != \"PICI_ID_allsets\"\n",
    "]\n",
    "metadata = metadata[cols]\n",
    "metadata = metadata.drop(columns=[\"Unnamed: 0\"])"
   ]
  },
  {
   "cell_type": "code",
   "execution_count": 73,
   "metadata": {},
   "outputs": [
    {
     "data": {
      "text/html": [
       "<div>\n",
       "<style scoped>\n",
       "    .dataframe tbody tr th:only-of-type {\n",
       "        vertical-align: middle;\n",
       "    }\n",
       "\n",
       "    .dataframe tbody tr th {\n",
       "        vertical-align: top;\n",
       "    }\n",
       "\n",
       "    .dataframe thead th {\n",
       "        text-align: right;\n",
       "    }\n",
       "</style>\n",
       "<table border=\"1\" class=\"dataframe\">\n",
       "  <thead>\n",
       "    <tr style=\"text-align: right;\">\n",
       "      <th></th>\n",
       "      <th>PICI_ID_allsets</th>\n",
       "      <th>PICI_ID</th>\n",
       "      <th>Host_ID</th>\n",
       "      <th>Host_strain</th>\n",
       "      <th>Host_Ref</th>\n",
       "      <th>Genomic_region</th>\n",
       "    </tr>\n",
       "  </thead>\n",
       "  <tbody>\n",
       "    <tr>\n",
       "      <th>0</th>\n",
       "      <td>STAU002.0321.00050.C001.PICI.TypeB.variant0002</td>\n",
       "      <td>STAU002.0321.00050.C001.PICI.TypeB.variant0002...</td>\n",
       "      <td>STAU002.0321.00050.C001</td>\n",
       "      <td>Staphylococcus aureus strain HOU1444-VR chromo...</td>\n",
       "      <td>GCF_001278745.1</td>\n",
       "      <td>(401962, 412834)</td>\n",
       "    </tr>\n",
       "    <tr>\n",
       "      <th>1</th>\n",
       "      <td>POSP014.0321.00001.C001.PICI.TypeB.variant0001</td>\n",
       "      <td>POSP014.0321.00001.C001.PICI.TypeB.variant0001...</td>\n",
       "      <td>POSP014.0321.00001.C001</td>\n",
       "      <td>Polaromonas sp. JS666, complete sequence.</td>\n",
       "      <td>GCF_000013865.1</td>\n",
       "      <td>(3126147, 3132812)</td>\n",
       "    </tr>\n",
       "    <tr>\n",
       "      <th>2</th>\n",
       "      <td>STAU002.0321.00250.C001.PICI.TypeB.variant0002</td>\n",
       "      <td>STAU002.0321.00250.C001.PICI.TypeB.variant0002...</td>\n",
       "      <td>STAU002.0321.00250.C001</td>\n",
       "      <td>Staphylococcus aureus subsp. aureus strain 80w...</td>\n",
       "      <td>GCF_003944865.1</td>\n",
       "      <td>(814785, 826925)</td>\n",
       "    </tr>\n",
       "    <tr>\n",
       "      <th>3</th>\n",
       "      <td>STAU002.0321.00374.C001.PICI.TypeB.variant0002</td>\n",
       "      <td>STAU002.0321.00374.C001.PICI.TypeB.variant0002...</td>\n",
       "      <td>STAU002.0321.00374.C001</td>\n",
       "      <td>Staphylococcus aureus strain UP_1150 chromosom...</td>\n",
       "      <td>GCF_009912535.1</td>\n",
       "      <td>(2745923, 2756343)</td>\n",
       "    </tr>\n",
       "    <tr>\n",
       "      <th>4</th>\n",
       "      <td>MYTU002.0321.00238.C001.PICI.TypeB.variant0004</td>\n",
       "      <td>MYTU002.0321.00238.C001.PICI.TypeB.variant0004...</td>\n",
       "      <td>MYTU002.0321.00238.C001</td>\n",
       "      <td>Mycobacterium tuberculosis strain DKC2 isolate...</td>\n",
       "      <td>GCF_900520315.1</td>\n",
       "      <td>(105183, 113045)</td>\n",
       "    </tr>\n",
       "    <tr>\n",
       "      <th>...</th>\n",
       "      <td>...</td>\n",
       "      <td>...</td>\n",
       "      <td>...</td>\n",
       "      <td>...</td>\n",
       "      <td>...</td>\n",
       "      <td>...</td>\n",
       "    </tr>\n",
       "    <tr>\n",
       "      <th>1430</th>\n",
       "      <td>STSA003.0321.00008.C001.PICI.TypeB.variant0002</td>\n",
       "      <td>STSA003.0321.00008.C001.PICI.TypeB.variant0002...</td>\n",
       "      <td>STSA003.0321.00008.C001</td>\n",
       "      <td>Staphylococcus saprophyticus strain UTI-056 ch...</td>\n",
       "      <td>GCF_013341435.1</td>\n",
       "      <td>(2129, 11546)</td>\n",
       "    </tr>\n",
       "    <tr>\n",
       "      <th>1431</th>\n",
       "      <td>STSI001.0321.00003.C001.PICI.TypeB.variant0001</td>\n",
       "      <td>STSI001.0321.00003.C001.PICI.TypeB.variant0001...</td>\n",
       "      <td>STSI001.0321.00003.C001</td>\n",
       "      <td>Staphylococcus simulans strain MR3, complete s...</td>\n",
       "      <td>GCF_003006055.1</td>\n",
       "      <td>(1027781, 1037385)</td>\n",
       "    </tr>\n",
       "    <tr>\n",
       "      <th>1432</th>\n",
       "      <td>STSI001.0321.00004.C001.PICI.TypeB.variant0001</td>\n",
       "      <td>STSI001.0321.00004.C001.PICI.TypeB.variant0001...</td>\n",
       "      <td>STSI001.0321.00004.C001</td>\n",
       "      <td>Staphylococcus simulans strain MR4, complete s...</td>\n",
       "      <td>GCF_003006075.1</td>\n",
       "      <td>(1027781, 1037385)</td>\n",
       "    </tr>\n",
       "    <tr>\n",
       "      <th>1433</th>\n",
       "      <td>STSI001.0321.00005.C001.PICI.TypeB.variant0001</td>\n",
       "      <td>STSI001.0321.00005.C001.PICI.TypeB.variant0001...</td>\n",
       "      <td>STSI001.0321.00005.C001</td>\n",
       "      <td>Staphylococcus simulans strain MR2, complete s...</td>\n",
       "      <td>GCF_003076375.1</td>\n",
       "      <td>(1027882, 1037486)</td>\n",
       "    </tr>\n",
       "    <tr>\n",
       "      <th>1434</th>\n",
       "      <td>STSI001.0321.00006.C001.PICI.TypeB.variant0001</td>\n",
       "      <td>STSI001.0321.00006.C001.PICI.TypeB.variant0001...</td>\n",
       "      <td>STSI001.0321.00006.C001</td>\n",
       "      <td>Staphylococcus simulans strain MR1 chromosome,...</td>\n",
       "      <td>GCF_003096155.1</td>\n",
       "      <td>(1027882, 1037486)</td>\n",
       "    </tr>\n",
       "  </tbody>\n",
       "</table>\n",
       "<p>1435 rows × 6 columns</p>\n",
       "</div>"
      ],
      "text/plain": [
       "                                     PICI_ID_allsets  \\\n",
       "0     STAU002.0321.00050.C001.PICI.TypeB.variant0002   \n",
       "1     POSP014.0321.00001.C001.PICI.TypeB.variant0001   \n",
       "2     STAU002.0321.00250.C001.PICI.TypeB.variant0002   \n",
       "3     STAU002.0321.00374.C001.PICI.TypeB.variant0002   \n",
       "4     MYTU002.0321.00238.C001.PICI.TypeB.variant0004   \n",
       "...                                              ...   \n",
       "1430  STSA003.0321.00008.C001.PICI.TypeB.variant0002   \n",
       "1431  STSI001.0321.00003.C001.PICI.TypeB.variant0001   \n",
       "1432  STSI001.0321.00004.C001.PICI.TypeB.variant0001   \n",
       "1433  STSI001.0321.00005.C001.PICI.TypeB.variant0001   \n",
       "1434  STSI001.0321.00006.C001.PICI.TypeB.variant0001   \n",
       "\n",
       "                                                PICI_ID  \\\n",
       "0     STAU002.0321.00050.C001.PICI.TypeB.variant0002...   \n",
       "1     POSP014.0321.00001.C001.PICI.TypeB.variant0001...   \n",
       "2     STAU002.0321.00250.C001.PICI.TypeB.variant0002...   \n",
       "3     STAU002.0321.00374.C001.PICI.TypeB.variant0002...   \n",
       "4     MYTU002.0321.00238.C001.PICI.TypeB.variant0004...   \n",
       "...                                                 ...   \n",
       "1430  STSA003.0321.00008.C001.PICI.TypeB.variant0002...   \n",
       "1431  STSI001.0321.00003.C001.PICI.TypeB.variant0001...   \n",
       "1432  STSI001.0321.00004.C001.PICI.TypeB.variant0001...   \n",
       "1433  STSI001.0321.00005.C001.PICI.TypeB.variant0001...   \n",
       "1434  STSI001.0321.00006.C001.PICI.TypeB.variant0001...   \n",
       "\n",
       "                      Host_ID  \\\n",
       "0     STAU002.0321.00050.C001   \n",
       "1     POSP014.0321.00001.C001   \n",
       "2     STAU002.0321.00250.C001   \n",
       "3     STAU002.0321.00374.C001   \n",
       "4     MYTU002.0321.00238.C001   \n",
       "...                       ...   \n",
       "1430  STSA003.0321.00008.C001   \n",
       "1431  STSI001.0321.00003.C001   \n",
       "1432  STSI001.0321.00004.C001   \n",
       "1433  STSI001.0321.00005.C001   \n",
       "1434  STSI001.0321.00006.C001   \n",
       "\n",
       "                                            Host_strain         Host_Ref  \\\n",
       "0     Staphylococcus aureus strain HOU1444-VR chromo...  GCF_001278745.1   \n",
       "1             Polaromonas sp. JS666, complete sequence.  GCF_000013865.1   \n",
       "2     Staphylococcus aureus subsp. aureus strain 80w...  GCF_003944865.1   \n",
       "3     Staphylococcus aureus strain UP_1150 chromosom...  GCF_009912535.1   \n",
       "4     Mycobacterium tuberculosis strain DKC2 isolate...  GCF_900520315.1   \n",
       "...                                                 ...              ...   \n",
       "1430  Staphylococcus saprophyticus strain UTI-056 ch...  GCF_013341435.1   \n",
       "1431  Staphylococcus simulans strain MR3, complete s...  GCF_003006055.1   \n",
       "1432  Staphylococcus simulans strain MR4, complete s...  GCF_003006075.1   \n",
       "1433  Staphylococcus simulans strain MR2, complete s...  GCF_003076375.1   \n",
       "1434  Staphylococcus simulans strain MR1 chromosome,...  GCF_003096155.1   \n",
       "\n",
       "          Genomic_region  \n",
       "0       (401962, 412834)  \n",
       "1     (3126147, 3132812)  \n",
       "2       (814785, 826925)  \n",
       "3     (2745923, 2756343)  \n",
       "4       (105183, 113045)  \n",
       "...                  ...  \n",
       "1430       (2129, 11546)  \n",
       "1431  (1027781, 1037385)  \n",
       "1432  (1027781, 1037385)  \n",
       "1433  (1027882, 1037486)  \n",
       "1434  (1027882, 1037486)  \n",
       "\n",
       "[1435 rows x 6 columns]"
      ]
     },
     "execution_count": 73,
     "metadata": {},
     "output_type": "execute_result"
    }
   ],
   "source": [
    "metadata"
   ]
  },
  {
   "cell_type": "code",
   "execution_count": 74,
   "metadata": {},
   "outputs": [],
   "source": [
    "duplicated_sets = metadata.groupby(\"PICI_ID_allsets\")[\"PICI_ID\"].nunique()\n",
    "duplicated_sets = duplicated_sets[duplicated_sets > 1].index\n",
    "duplicate_rows = metadata[metadata[\"PICI_ID_allsets\"].isin(duplicated_sets)]\n",
    "duplicate_rows = duplicate_rows.sort_values([\"PICI_ID_allsets\", \"PICI_ID\"])"
   ]
  },
  {
   "cell_type": "code",
   "execution_count": 79,
   "metadata": {},
   "outputs": [],
   "source": [
    "duplicate_rows.to_csv(\"../dataset/duplicate_picis.csv\", index=False)"
   ]
  },
  {
   "cell_type": "code",
   "execution_count": 77,
   "metadata": {},
   "outputs": [
    {
     "name": "stdout",
     "output_type": "stream",
     "text": [
      "1286\n",
      "1435\n",
      "138\n",
      "287\n"
     ]
    }
   ],
   "source": [
    "print(len(metadata[\"PICI_ID_allsets\"].unique()))\n",
    "print(len(metadata[\"PICI_ID\"].unique()))\n",
    "print(len(duplicate_rows[\"PICI_ID_allsets\"].unique()))\n",
    "print(len(duplicate_rows[\"PICI_ID\"].unique()))\n",
    "# 1435 - 1286 = 287 - 138 = 149"
   ]
  },
  {
   "cell_type": "markdown",
   "metadata": {},
   "source": [
    "### metadata: protein"
   ]
  },
  {
   "cell_type": "code",
   "execution_count": 22,
   "metadata": {},
   "outputs": [
    {
     "name": "stdout",
     "output_type": "stream",
     "text": [
      "1435\n",
      "first sample:\n",
      "ID: STAU002.0321.00050.C001.PICI.TypeB.variant0002.Set1\n",
      "Name: STAU002.0321.00050.C001.PICI.TypeB.variant0002.Set1\n",
      "Description: STAU002.0321.00050.C001.PICI.TypeB.variant0002.Set1\n",
      "Number of features: 0\n",
      "Seq('TAACTCCCTATCCCCTCTAATTTATTCATCATATCTTGTGCCATTTTATCCGTA...TGA')\n"
     ]
    }
   ],
   "source": [
    "seqs = list(SeqIO.parse(\"../dataset/PICI_NucSequences_060723.fst\", \"fasta\"))\n",
    "print(len(seqs))\n",
    "print(\"first sample:\")\n",
    "print(seqs[0])"
   ]
  },
  {
   "cell_type": "code",
   "execution_count": 29,
   "metadata": {},
   "outputs": [
    {
     "name": "stdout",
     "output_type": "stream",
     "text": [
      "8\n",
      "ID: ACER001.0321.00001.C001.PICI.TypeB.variant0001.Set1_00\n",
      "Name: ACER001.0321.00001.C001.PICI.TypeB.variant0001.Set1_00\n",
      "Description: ACER001.0321.00001.C001.PICI.TypeB.variant0001.Set1_00 ACER001.0321.00001.C001_00176 C ATG TGA 197540 198730 Valid CDG81_RS00890 1191 @WP_084133721.1@ CDG81_RS00890 1 197540 198730 | site-specific integrase  (translation)\n",
      "Number of features: 0\n",
      "Seq('MARVWIEDRSSHSGYKQALAQAKTSRKAAPGRWRVRWYDQEGKPKSQTFSRKPD...DQM')\n"
     ]
    }
   ],
   "source": [
    "seqs_prt_1 = list(\n",
    "    SeqIO.parse(\n",
    "        \"../dataset/SatelliteProteomes/ACER001.0321.00001.C001.PICI.TypeB.variant0001.Set1.prt\",\n",
    "        \"fasta\",\n",
    "    )\n",
    ")\n",
    "print(len(seqs_prt_1))\n",
    "print(seqs_prt_1[0])"
   ]
  },
  {
   "cell_type": "code",
   "execution_count": 2,
   "metadata": {},
   "outputs": [],
   "source": [
    "data_prt = []\n",
    "\n",
    "prt_files = glob.glob(\"../dataset/SatelliteProteomes/*.prt\")\n",
    "\n",
    "for prt_file in prt_files:\n",
    "    sequences = list(SeqIO.parse(prt_file, \"fasta\"))\n",
    "\n",
    "    for seq in sequences:\n",
    "        # Extract function (part after the last '|')\n",
    "        function = (\n",
    "            seq.description.split(\"|\")[-1].strip() if \"|\" in seq.description else \"\"\n",
    "        )\n",
    "\n",
    "        # Extract PICI_ID (everything before the last underscore in Protein_ID)\n",
    "        pici_id = \"_\".join(seq.id.split(\"_\")[:-1])\n",
    "\n",
    "        # Create dictionary for this entry\n",
    "        entry = {\n",
    "            \"PICI_ID\": pici_id,\n",
    "            \"Protein_ID\": seq.id,\n",
    "            \"Function\": function,\n",
    "            \"Description\": seq.description,\n",
    "        }\n",
    "\n",
    "        data_prt.append(entry)\n",
    "\n",
    "df_prt = pd.DataFrame(data_prt)"
   ]
  },
  {
   "cell_type": "code",
   "execution_count": 38,
   "metadata": {},
   "outputs": [],
   "source": [
    "df_prt[\"PICI_ID_allsets\"] = df_prt[\"PICI_ID\"].str.split(\".Set\", n=1).str[0]\n",
    "cols = [\"PICI_ID_allsets\"] + [col for col in df_prt.columns if col != \"PICI_ID_allsets\"]\n",
    "df_prt = df_prt[cols]"
   ]
  },
  {
   "cell_type": "code",
   "execution_count": 40,
   "metadata": {},
   "outputs": [],
   "source": [
    "df_prt.to_csv(\"../dataset/PICI_proteins.csv\", index=False)"
   ]
  },
  {
   "cell_type": "code",
   "execution_count": 3,
   "metadata": {},
   "outputs": [],
   "source": [
    "df_prt = pd.read_csv(\"../dataset/PICI_proteins.csv\")"
   ]
  },
  {
   "cell_type": "code",
   "execution_count": 4,
   "metadata": {},
   "outputs": [
    {
     "data": {
      "text/html": [
       "<div>\n",
       "<style scoped>\n",
       "    .dataframe tbody tr th:only-of-type {\n",
       "        vertical-align: middle;\n",
       "    }\n",
       "\n",
       "    .dataframe tbody tr th {\n",
       "        vertical-align: top;\n",
       "    }\n",
       "\n",
       "    .dataframe thead th {\n",
       "        text-align: right;\n",
       "    }\n",
       "</style>\n",
       "<table border=\"1\" class=\"dataframe\">\n",
       "  <thead>\n",
       "    <tr style=\"text-align: right;\">\n",
       "      <th></th>\n",
       "      <th>PICI_ID_allsets</th>\n",
       "      <th>PICI_ID</th>\n",
       "      <th>Protein_ID</th>\n",
       "      <th>Function</th>\n",
       "      <th>Description</th>\n",
       "    </tr>\n",
       "  </thead>\n",
       "  <tbody>\n",
       "    <tr>\n",
       "      <th>0</th>\n",
       "      <td>MYTU002.0321.00124.C001.PICI.TypeB.variant0003</td>\n",
       "      <td>MYTU002.0321.00124.C001.PICI.TypeB.variant0003...</td>\n",
       "      <td>MYTU002.0321.00124.C001.PICI.TypeB.variant0003...</td>\n",
       "      <td>site-specific integrase  (translation)</td>\n",
       "      <td>MYTU002.0321.00124.C001.PICI.TypeB.variant0003...</td>\n",
       "    </tr>\n",
       "    <tr>\n",
       "      <th>1</th>\n",
       "      <td>MYTU002.0321.00124.C001.PICI.TypeB.variant0003</td>\n",
       "      <td>MYTU002.0321.00124.C001.PICI.TypeB.variant0003...</td>\n",
       "      <td>MYTU002.0321.00124.C001.PICI.TypeB.variant0003...</td>\n",
       "      <td>hypothetical protein  (translation)</td>\n",
       "      <td>MYTU002.0321.00124.C001.PICI.TypeB.variant0003...</td>\n",
       "    </tr>\n",
       "    <tr>\n",
       "      <th>2</th>\n",
       "      <td>MYTU002.0321.00124.C001.PICI.TypeB.variant0003</td>\n",
       "      <td>MYTU002.0321.00124.C001.PICI.TypeB.variant0003...</td>\n",
       "      <td>MYTU002.0321.00124.C001.PICI.TypeB.variant0003...</td>\n",
       "      <td>helix-turn-helix domain-containing protein  (t...</td>\n",
       "      <td>MYTU002.0321.00124.C001.PICI.TypeB.variant0003...</td>\n",
       "    </tr>\n",
       "    <tr>\n",
       "      <th>3</th>\n",
       "      <td>MYTU002.0321.00124.C001.PICI.TypeB.variant0003</td>\n",
       "      <td>MYTU002.0321.00124.C001.PICI.TypeB.variant0003...</td>\n",
       "      <td>MYTU002.0321.00124.C001.PICI.TypeB.variant0003...</td>\n",
       "      <td>DUF2742 domain-containing protein  (translation)</td>\n",
       "      <td>MYTU002.0321.00124.C001.PICI.TypeB.variant0003...</td>\n",
       "    </tr>\n",
       "    <tr>\n",
       "      <th>4</th>\n",
       "      <td>MYTU002.0321.00124.C001.PICI.TypeB.variant0003</td>\n",
       "      <td>MYTU002.0321.00124.C001.PICI.TypeB.variant0003...</td>\n",
       "      <td>MYTU002.0321.00124.C001.PICI.TypeB.variant0003...</td>\n",
       "      <td>DUF3631 domain-containing protein  (translation)</td>\n",
       "      <td>MYTU002.0321.00124.C001.PICI.TypeB.variant0003...</td>\n",
       "    </tr>\n",
       "  </tbody>\n",
       "</table>\n",
       "</div>"
      ],
      "text/plain": [
       "                                  PICI_ID_allsets  \\\n",
       "0  MYTU002.0321.00124.C001.PICI.TypeB.variant0003   \n",
       "1  MYTU002.0321.00124.C001.PICI.TypeB.variant0003   \n",
       "2  MYTU002.0321.00124.C001.PICI.TypeB.variant0003   \n",
       "3  MYTU002.0321.00124.C001.PICI.TypeB.variant0003   \n",
       "4  MYTU002.0321.00124.C001.PICI.TypeB.variant0003   \n",
       "\n",
       "                                             PICI_ID  \\\n",
       "0  MYTU002.0321.00124.C001.PICI.TypeB.variant0003...   \n",
       "1  MYTU002.0321.00124.C001.PICI.TypeB.variant0003...   \n",
       "2  MYTU002.0321.00124.C001.PICI.TypeB.variant0003...   \n",
       "3  MYTU002.0321.00124.C001.PICI.TypeB.variant0003...   \n",
       "4  MYTU002.0321.00124.C001.PICI.TypeB.variant0003...   \n",
       "\n",
       "                                          Protein_ID  \\\n",
       "0  MYTU002.0321.00124.C001.PICI.TypeB.variant0003...   \n",
       "1  MYTU002.0321.00124.C001.PICI.TypeB.variant0003...   \n",
       "2  MYTU002.0321.00124.C001.PICI.TypeB.variant0003...   \n",
       "3  MYTU002.0321.00124.C001.PICI.TypeB.variant0003...   \n",
       "4  MYTU002.0321.00124.C001.PICI.TypeB.variant0003...   \n",
       "\n",
       "                                            Function  \\\n",
       "0             site-specific integrase  (translation)   \n",
       "1                hypothetical protein  (translation)   \n",
       "2  helix-turn-helix domain-containing protein  (t...   \n",
       "3   DUF2742 domain-containing protein  (translation)   \n",
       "4   DUF3631 domain-containing protein  (translation)   \n",
       "\n",
       "                                         Description  \n",
       "0  MYTU002.0321.00124.C001.PICI.TypeB.variant0003...  \n",
       "1  MYTU002.0321.00124.C001.PICI.TypeB.variant0003...  \n",
       "2  MYTU002.0321.00124.C001.PICI.TypeB.variant0003...  \n",
       "3  MYTU002.0321.00124.C001.PICI.TypeB.variant0003...  \n",
       "4  MYTU002.0321.00124.C001.PICI.TypeB.variant0003...  "
      ]
     },
     "execution_count": 4,
     "metadata": {},
     "output_type": "execute_result"
    }
   ],
   "source": [
    "df_prt.head()"
   ]
  },
  {
   "cell_type": "code",
   "execution_count": 43,
   "metadata": {},
   "outputs": [
    {
     "name": "stdout",
     "output_type": "stream",
     "text": [
      "1287\n",
      "1435\n",
      "20594\n",
      "20594\n",
      "287\n"
     ]
    }
   ],
   "source": [
    "print(len(df_prt[\"PICI_ID_allsets\"].unique()))\n",
    "print(len(df_prt[\"PICI_ID\"].unique()))\n",
    "print(len(df_prt[\"Protein_ID\"].unique()))\n",
    "print(len(df_prt[\"Description\"].unique()))\n",
    "print(len(df_prt[\"Function\"].unique()))"
   ]
  },
  {
   "cell_type": "markdown",
   "metadata": {},
   "source": [
    "### protein function"
   ]
  },
  {
   "cell_type": "code",
   "execution_count": 8,
   "metadata": {},
   "outputs": [],
   "source": [
    "function_counts = pd.read_csv(\"../results/proteins_all_function_counts.tsv\", sep=\"\\t\")"
   ]
  },
  {
   "cell_type": "code",
   "execution_count": 7,
   "metadata": {},
   "outputs": [],
   "source": [
    "# function_counts = df_prt[\"Function\"].value_counts().reset_index(name=\"Count\")"
   ]
  },
  {
   "cell_type": "code",
   "execution_count": 9,
   "metadata": {},
   "outputs": [
    {
     "data": {
      "text/html": [
       "<div>\n",
       "<style scoped>\n",
       "    .dataframe tbody tr th:only-of-type {\n",
       "        vertical-align: middle;\n",
       "    }\n",
       "\n",
       "    .dataframe tbody tr th {\n",
       "        vertical-align: top;\n",
       "    }\n",
       "\n",
       "    .dataframe thead th {\n",
       "        text-align: right;\n",
       "    }\n",
       "</style>\n",
       "<table border=\"1\" class=\"dataframe\">\n",
       "  <thead>\n",
       "    <tr style=\"text-align: right;\">\n",
       "      <th></th>\n",
       "      <th>Function</th>\n",
       "      <th>count</th>\n",
       "    </tr>\n",
       "  </thead>\n",
       "  <tbody>\n",
       "    <tr>\n",
       "      <th>0</th>\n",
       "      <td>hypothetical protein  (translation)</td>\n",
       "      <td>8173</td>\n",
       "    </tr>\n",
       "    <tr>\n",
       "      <th>1</th>\n",
       "      <td>site-specific integrase  (translation)</td>\n",
       "      <td>984</td>\n",
       "    </tr>\n",
       "    <tr>\n",
       "      <th>2</th>\n",
       "      <td>terminase small subunit  (translation)</td>\n",
       "      <td>797</td>\n",
       "    </tr>\n",
       "    <tr>\n",
       "      <th>3</th>\n",
       "      <td>helix-turn-helix transcriptional regulator  (t...</td>\n",
       "      <td>764</td>\n",
       "    </tr>\n",
       "    <tr>\n",
       "      <th>4</th>\n",
       "      <td>helix-turn-helix domain-containing protein  (t...</td>\n",
       "      <td>746</td>\n",
       "    </tr>\n",
       "    <tr>\n",
       "      <th>...</th>\n",
       "      <td>...</td>\n",
       "      <td>...</td>\n",
       "    </tr>\n",
       "    <tr>\n",
       "      <th>282</th>\n",
       "      <td>DUF2004 domain-containing protein  (translation)</td>\n",
       "      <td>1</td>\n",
       "    </tr>\n",
       "    <tr>\n",
       "      <th>283</th>\n",
       "      <td>TrmB family transcriptional regulator  (transl...</td>\n",
       "      <td>1</td>\n",
       "    </tr>\n",
       "    <tr>\n",
       "      <th>284</th>\n",
       "      <td>antitermination protein  (translation)</td>\n",
       "      <td>1</td>\n",
       "    </tr>\n",
       "    <tr>\n",
       "      <th>285</th>\n",
       "      <td>ORF6N domain-containing protein  (translation)</td>\n",
       "      <td>1</td>\n",
       "    </tr>\n",
       "    <tr>\n",
       "      <th>286</th>\n",
       "      <td>4.4 phage-related function phage major capsid ...</td>\n",
       "      <td>1</td>\n",
       "    </tr>\n",
       "  </tbody>\n",
       "</table>\n",
       "<p>287 rows × 2 columns</p>\n",
       "</div>"
      ],
      "text/plain": [
       "                                              Function  count\n",
       "0                  hypothetical protein  (translation)   8173\n",
       "1               site-specific integrase  (translation)    984\n",
       "2               terminase small subunit  (translation)    797\n",
       "3    helix-turn-helix transcriptional regulator  (t...    764\n",
       "4    helix-turn-helix domain-containing protein  (t...    746\n",
       "..                                                 ...    ...\n",
       "282   DUF2004 domain-containing protein  (translation)      1\n",
       "283  TrmB family transcriptional regulator  (transl...      1\n",
       "284             antitermination protein  (translation)      1\n",
       "285     ORF6N domain-containing protein  (translation)      1\n",
       "286  4.4 phage-related function phage major capsid ...      1\n",
       "\n",
       "[287 rows x 2 columns]"
      ]
     },
     "execution_count": 9,
     "metadata": {},
     "output_type": "execute_result"
    }
   ],
   "source": [
    "function_counts"
   ]
  },
  {
   "cell_type": "code",
   "execution_count": 28,
   "metadata": {},
   "outputs": [],
   "source": [
    "integrase_count = function_counts[function_counts[\"Function\"].str.contains(\"integrase\")]\n",
    "integrase_count.to_csv(\"../dataset/proteins_integrases.csv\", index=False)\n",
    "alpa_count = function_counts[function_counts[\"Function\"].str.contains(\"AlpA\")]\n",
    "alpa_count.to_csv(\"../dataset/proteins_AlpA.csv\", index=False)\n",
    "capsid_count = function_counts[function_counts[\"Function\"].str.contains(\"capsid\")]\n",
    "capsid_count.to_csv(\"../dataset/proteins_capsid.csv\", index=False)"
   ]
  },
  {
   "cell_type": "code",
   "execution_count": 5,
   "metadata": {},
   "outputs": [],
   "source": [
    "pici_functions = df_prt.groupby(\"PICI_ID\")[\"Function\"].agg(list)\n",
    "\n",
    "\n",
    "def check_functions(func_list):\n",
    "    func_str = \" \".join(func_list).lower()\n",
    "    return \"alpa\" in func_str\n",
    "\n",
    "\n",
    "# (\"integrase\" in func_str) and ('capsid' not in func_str)\n",
    "\n",
    "filtered_picis = pici_functions[pici_functions.apply(check_functions)]\n",
    "\n",
    "result_df = pd.DataFrame(\n",
    "    {\"PICI_ID\": filtered_picis.index, \"All_Functions\": filtered_picis.values}\n",
    ")"
   ]
  },
  {
   "cell_type": "code",
   "execution_count": 54,
   "metadata": {},
   "outputs": [],
   "source": [
    "result_df.to_csv(\"../results/picis_integrase_alpa.csv\", index=False)"
   ]
  },
  {
   "cell_type": "markdown",
   "metadata": {},
   "source": [
    "### cfpici"
   ]
  },
  {
   "cell_type": "code",
   "execution_count": null,
   "metadata": {},
   "outputs": [],
   "source": [
    "df_prt = pd.read_csv(\"../dataset/PICI_proteins.csv\")"
   ]
  },
  {
   "cell_type": "code",
   "execution_count": 28,
   "metadata": {},
   "outputs": [
    {
     "data": {
      "text/plain": [
       "30"
      ]
     },
     "execution_count": 28,
     "metadata": {},
     "output_type": "execute_result"
    }
   ],
   "source": [
    "# df_prt[\n",
    "#     df_prt[\"PICI_ID\"].str.contains(\"CFPICI\") & df_prt[\"Function\"].str.contains(\"capsid\")\n",
    "# ]\n",
    "len(df_prt[df_prt[\"PICI_ID\"].str.contains(\"CFPICI\")][\"PICI_ID\"].unique())\n",
    "# there are 30 cfpici among 1435 picis"
   ]
  },
  {
   "cell_type": "code",
   "execution_count": 7,
   "metadata": {},
   "outputs": [
    {
     "name": "stdout",
     "output_type": "stream",
     "text": [
      "ID: STAU002.0321.00050.C001.PICI.TypeB.variant0002.Set1\n",
      "Name: STAU002.0321.00050.C001.PICI.TypeB.variant0002.Set1\n",
      "Description: STAU002.0321.00050.C001.PICI.TypeB.variant0002.Set1\n",
      "Number of features: 0\n",
      "Seq('TAACTCCCTATCCCCTCTAATTTATTCATCATATCTTGTGCCATTTTATCCGTA...TGA')\n"
     ]
    }
   ],
   "source": [
    "seqs = list(SeqIO.parse(\"../dataset/PICI_NucSequences_060723.fst\", \"fasta\"))\n",
    "print(seqs[0])"
   ]
  },
  {
   "cell_type": "code",
   "execution_count": 17,
   "metadata": {},
   "outputs": [
    {
     "name": "stdout",
     "output_type": "stream",
     "text": [
      "ID: ESCO001.0321.01281.C001.PICI.TypeA.SetR1\n",
      "Name: ESCO001.0321.01281.C001.PICI.TypeA.SetR1\n",
      "Description: ESCO001.0321.01281.C001.PICI.TypeA.SetR1\n",
      "Number of features: 0\n",
      "Seq('TGAGCAGAGCACTTAACAAACTGAGCGATACACAGCTGAGGAAAATCAACGGCA...TAA')\n",
      "9899\n"
     ]
    }
   ],
   "source": [
    "for seq in seqs:\n",
    "    if seq.description == \"ESCO001.0321.01281.C001.PICI.TypeA.SetR1\":\n",
    "        print(seq)\n",
    "        print(len(seq.seq))\n",
    "        break"
   ]
  },
  {
   "cell_type": "code",
   "execution_count": 45,
   "metadata": {},
   "outputs": [
    {
     "name": "stdout",
     "output_type": "stream",
     "text": [
      "30 30\n"
     ]
    }
   ],
   "source": [
    "pici_30 = list(\n",
    "    [\n",
    "        \"SIME002.0321.00024.C001.PICI.TypeB.variant0001.SetR1\",\n",
    "        \"SIME002.0321.00009.C001.PICI.TypeB.variant0001.SetR1\",\n",
    "        \"STSI001.0321.00005.C001.PICI.TypeB.variant0001.SetR1\",\n",
    "        \"LAPL001.0321.00074.C001.PICI.TypeB.variant0003.SetR1\",\n",
    "        \"SIME002.0321.00018.C001.PICI.TypeB.variant0001.SetR1\",\n",
    "        \"STSI001.0321.00003.C001.PICI.TypeB.variant0001.SetR1\",\n",
    "        \"LAPL001.0321.00073.C001.PICI.TypeB.variant0003.SetR1\",\n",
    "        \"SIME002.0321.00002.C001.PICI.TypeB.variant0001.SetR1\",\n",
    "        \"STAU002.0321.00280.C001.PICI.TypeB.variant0004.SetR1\",\n",
    "        \"SPYA001.0321.00006.C001.PICI.TypeB.variant0001.SetR1\",\n",
    "        \"ESCO001.0321.00563.C001.PICI.TypeA.SetR1\",\n",
    "        \"ESCO001.0321.00097.C001.PICI.TypeA.SetR1\",\n",
    "        \"CIFR005.0321.00052.C001.PICI.TypeB.variant0001.SetR1\",\n",
    "        \"STSI001.0321.00004.C001.PICI.TypeB.variant0001.SetR1\",\n",
    "        \"CIFR005.0321.00053.C001.PICI.TypeB.variant0001.SetR1\",\n",
    "        \"DEVU001.0321.00001.C001.PICI.TypeB.variant0001.SetR1\",\n",
    "        \"ESCO001.0321.00309.C001.PICI.TypeB.variant0001.SetR1\",\n",
    "        \"ESCO001.0321.01281.C001.PICI.TypeA.SetR1\",\n",
    "        \"DEVU001.0321.00001.C001.PICI.TypeB.variant0001.SetR2\",\n",
    "        \"PAKO001.0321.00001.C001.PICI.TypeB.variant0004.SetR1\",\n",
    "        \"DEVU001.0321.00004.C001.PICI.TypeB.variant0001.SetR1\",\n",
    "        \"STSI001.0321.00006.C001.PICI.TypeB.variant0001.SetR1\",\n",
    "        \"ESCO001.0321.00448.C001.PICI.TypeA.SetR1\",\n",
    "        \"NIHA002.0321.00001.C001.PICI.TypeB.variant0001.SetR1\",\n",
    "        \"RHET001.0321.00004.C001.PICI.TypeB.variant0001.SetR1\",\n",
    "        \"CIFR005.0321.00101.C001.PICI.TypeB.variant0001.SetR1\",\n",
    "        \"STAR001.0321.00001.C001.PICI.TypeB.variant0002.SetR1\",\n",
    "        \"PAKO001.0321.00001.C002.PICI.TypeB.variant0004.SetR1\",\n",
    "        \"CIAM001.0321.00007.C001.PICI.TypeB.variant0001.SetR1\",\n",
    "        \"STSA003.0321.00008.C001.PICI.TypeB.variant0002.SetR1\",\n",
    "    ]\n",
    ")\n",
    "cfpici_30 = list(\n",
    "    [\n",
    "        \"ESCO001.0321.01281.C001.CFPICI.TypeA.SetR1\",\n",
    "        \"CIFR005.0321.00053.C001.CFPICI.TypeB.variant0001.SetR1\",\n",
    "        \"STSA003.0321.00008.C001.CFPICI.TypeB.variant0002.SetR1\",\n",
    "        \"DEVU001.0321.00001.C001.CFPICI.TypeB.variant0001.SetR1\",\n",
    "        \"CIFR005.0321.00052.C001.CFPICI.TypeB.variant0001.SetR1\",\n",
    "        \"DEVU001.0321.00004.C001.CFPICI.TypeB.variant0001.SetR1\",\n",
    "        \"STSI001.0321.00003.C001.CFPICI.TypeB.variant0001.SetR1\",\n",
    "        \"STSI001.0321.00004.C001.CFPICI.TypeB.variant0001.SetR1\",\n",
    "        \"LAPL001.0321.00074.C001.CFPICI.TypeB.variant0003.SetR1\",\n",
    "        \"ESCO001.0321.00097.C001.CFPICI.TypeA.SetR1\",\n",
    "        \"DEVU001.0321.00001.C001.CFPICI.TypeB.variant0001.SetR2\",\n",
    "        \"SPYA001.0321.00006.C001.CFPICI.TypeB.variant0001.SetR1\",\n",
    "        \"STSI001.0321.00005.C001.CFPICI.TypeB.variant0001.SetR1\",\n",
    "        \"RHET001.0321.00004.C001.CFPICI.TypeB.variant0001.SetR1\",\n",
    "        \"ESCO001.0321.00309.C001.CFPICI.TypeB.variant0001.SetR1\",\n",
    "        \"SIME002.0321.00002.C001.CFPICI.TypeB.variant0001.SetR1\",\n",
    "        \"PAKO001.0321.00001.C002.CFPICI.TypeB.variant0004.SetR1\",\n",
    "        \"STAU002.0321.00280.C001.CFPICI.TypeB.variant0004.SetR1\",\n",
    "        \"SIME002.0321.00009.C001.CFPICI.TypeB.variant0001.SetR1\",\n",
    "        \"STSI001.0321.00006.C001.CFPICI.TypeB.variant0001.SetR1\",\n",
    "        \"CIFR005.0321.00101.C001.CFPICI.TypeB.variant0001.SetR1\",\n",
    "        \"LAPL001.0321.00073.C001.CFPICI.TypeB.variant0003.SetR1\",\n",
    "        \"SIME002.0321.00024.C001.CFPICI.TypeB.variant0001.SetR1\",\n",
    "        \"ESCO001.0321.00563.C001.CFPICI.TypeA.SetR1\",\n",
    "        \"STAR001.0321.00001.C001.CFPICI.TypeB.variant0002.SetR1\",\n",
    "        \"ESCO001.0321.00448.C001.CFPICI.TypeA.SetR1\",\n",
    "        \"CIAM001.0321.00007.C001.CFPICI.TypeB.variant0001.SetR1\",\n",
    "        \"PAKO001.0321.00001.C001.CFPICI.TypeB.variant0004.SetR1\",\n",
    "        \"NIHA002.0321.00001.C001.CFPICI.TypeB.variant0001.SetR1\",\n",
    "        \"SIME002.0321.00018.C001.CFPICI.TypeB.variant0001.SetR1\",\n",
    "    ]\n",
    ")\n",
    "print(len(pici_30), len(cfpici_30))"
   ]
  },
  {
   "cell_type": "markdown",
   "metadata": {},
   "source": [
    "### function matrix"
   ]
  },
  {
   "cell_type": "code",
   "execution_count": 30,
   "metadata": {},
   "outputs": [],
   "source": [
    "df_prt = pd.read_csv(\"../dataset/PICI_proteins.csv\")"
   ]
  },
  {
   "cell_type": "code",
   "execution_count": 31,
   "metadata": {},
   "outputs": [],
   "source": [
    "function_matrix = pd.pivot_table(\n",
    "    df_prt,\n",
    "    values=\"Protein_ID\",\n",
    "    index=\"PICI_ID\",\n",
    "    columns=\"Function\",\n",
    "    aggfunc=\"count\",\n",
    "    fill_value=0,\n",
    ")"
   ]
  },
  {
   "cell_type": "code",
   "execution_count": 32,
   "metadata": {},
   "outputs": [],
   "source": [
    "function_matrix.to_csv(\"../results/protein_function_matrix_old.csv\", index=True)"
   ]
  },
  {
   "cell_type": "code",
   "execution_count": 35,
   "metadata": {},
   "outputs": [
    {
     "name": "stdout",
     "output_type": "stream",
     "text": [
      "20594\n",
      "20\n",
      "0\n",
      "<class 'pandas.core.frame.DataFrame'>\n",
      "Index: 1435 entries, ACER001.0321.00001.C001.PICI.TypeB.variant0001.Set1 to XAAU001.0321.00001.C001.PICI.TypeB.variant0002.Set1\n",
      "Columns: 287 entries, 1-aminocyclopropane-1-carboxylate deaminase  (translation) to zinc-binding protein  (translation)\n",
      "dtypes: int64(287)\n",
      "memory usage: 3.2+ MB\n",
      "None\n"
     ]
    }
   ],
   "source": [
    "print(function_matrix.sum().sum())  # should be same as df_prt.shape[0]\n",
    "print(function_matrix.max().max())\n",
    "print(function_matrix.min().min())\n",
    "print(function_matrix.info())"
   ]
  },
  {
   "cell_type": "code",
   "execution_count": null,
   "metadata": {},
   "outputs": [],
   "source": [
    "# col_mask = function_matrix.columns.str.contains(\"integrase|alpa|capsid\", case=False)\n",
    "col_mask = function_matrix.columns.str.contains(\"alpa\", case=False)\n",
    "function_matrix_integrase_alpa_capsid = function_matrix.loc[:, col_mask]"
   ]
  },
  {
   "cell_type": "code",
   "execution_count": null,
   "metadata": {},
   "outputs": [],
   "source": [
    "function_matrix_integrase_alpa_capsid.to_csv(\n",
    "    \"../results/protein_function_matrix_integrase_alpa_capsid.csv\", index=True\n",
    ")"
   ]
  },
  {
   "cell_type": "markdown",
   "metadata": {},
   "source": [
    "#### new matrix with pharokka annotations"
   ]
  },
  {
   "cell_type": "code",
   "execution_count": 36,
   "metadata": {},
   "outputs": [
    {
     "name": "stdout",
     "output_type": "stream",
     "text": [
      "(1435, 287)\n",
      "<class 'pandas.core.frame.DataFrame'>\n",
      "Index: 1435 entries, ACER001.0321.00001.C001.PICI.TypeB.variant0001.Set1 to XAAU001.0321.00001.C001.PICI.TypeB.variant0002.Set1\n",
      "Columns: 287 entries, 1-aminocyclopropane-1-carboxylate deaminase  (translation) to zinc-binding protein  (translation)\n",
      "dtypes: int64(287)\n",
      "memory usage: 3.2+ MB\n",
      "None\n",
      "20\n",
      "0\n"
     ]
    }
   ],
   "source": [
    "protein_function_matrix_old = pd.read_csv(\n",
    "    \"../results/protein_function_matrix_old.csv\", index_col=0\n",
    ")\n",
    "print(protein_function_matrix_old.shape)\n",
    "print(protein_function_matrix_old.info())\n",
    "print(protein_function_matrix_old.max().max())\n",
    "print(protein_function_matrix_old.min().min())"
   ]
  },
  {
   "cell_type": "code",
   "execution_count": 13,
   "metadata": {},
   "outputs": [
    {
     "name": "stdout",
     "output_type": "stream",
     "text": [
      "(26843, 3)\n",
      "Index(['gene_id', 'function', 'pici_id'], dtype='object')\n"
     ]
    }
   ],
   "source": [
    "phanotate_functions = pd.read_csv(\n",
    "    \"../results/pharokka_output/phanotate_functions.tsv\", sep=\"\\t\"\n",
    ")\n",
    "print(phanotate_functions.shape)\n",
    "print(phanotate_functions.columns)"
   ]
  },
  {
   "cell_type": "code",
   "execution_count": 19,
   "metadata": {},
   "outputs": [],
   "source": [
    "function_matrix_new_unmerged = pd.pivot_table(\n",
    "    phanotate_functions,\n",
    "    values=\"gene_id\",\n",
    "    index=\"pici_id\",\n",
    "    columns=\"function\",\n",
    "    aggfunc=\"count\",\n",
    "    fill_value=0,\n",
    ")"
   ]
  },
  {
   "cell_type": "code",
   "execution_count": 20,
   "metadata": {},
   "outputs": [
    {
     "name": "stdout",
     "output_type": "stream",
     "text": [
      "(1435, 104)\n",
      "<class 'pandas.core.frame.DataFrame'>\n",
      "Index: 1435 entries, ACER001.0321.00001.C001.PICI.TypeB.variant0001.Set1 to XAAU001.0321.00001.C001.PICI.TypeB.variant0002.Set1\n",
      "Columns: 104 entries, ABC transporter to unknown function\n",
      "dtypes: int64(104)\n",
      "memory usage: 1.1+ MB\n",
      "None\n",
      "36\n",
      "0\n"
     ]
    },
    {
     "data": {
      "text/plain": [
       "np.int64(26843)"
      ]
     },
     "execution_count": 20,
     "metadata": {},
     "output_type": "execute_result"
    }
   ],
   "source": [
    "print(function_matrix_new_unmerged.shape)\n",
    "print(function_matrix_new_unmerged.info())\n",
    "print(function_matrix_new_unmerged.max().max())\n",
    "print(function_matrix_new_unmerged.min().min())\n",
    "function_matrix_new_unmerged.sum().sum()"
   ]
  },
  {
   "cell_type": "code",
   "execution_count": 21,
   "metadata": {},
   "outputs": [],
   "source": [
    "function_matrix_new_unmerged.to_csv(\n",
    "    \"../results/protein_function_matrix_new_unmerged.csv\", index=True\n",
    ")"
   ]
  },
  {
   "cell_type": "code",
   "execution_count": 47,
   "metadata": {},
   "outputs": [],
   "source": [
    "function_matrix_new_unmerged = pd.read_csv(\n",
    "    \"../results/protein_function_matrix_new_unmerged.csv\", index_col=0\n",
    ")"
   ]
  },
  {
   "cell_type": "code",
   "execution_count": 49,
   "metadata": {},
   "outputs": [
    {
     "name": "stdout",
     "output_type": "stream",
     "text": [
      "Shape after removal:\n",
      "function_matrix_new: (1405, 104)\n",
      "alpa_data: (1405, 2)\n",
      "\n",
      "Indices identical: True\n",
      "\n",
      "Final shape: (1405, 106)\n",
      "Number of unique indices: 1405\n"
     ]
    }
   ],
   "source": [
    "alpa_columns = [\n",
    "    \"AlpA family phage regulatory protein  (translation)\",\n",
    "    \"AlpA family transcriptional regulator  (translation)\",\n",
    "]\n",
    "\n",
    "function_matrix_new = function_matrix_new_unmerged.drop(index=pici_30)\n",
    "alpa_data = function_matrix[alpa_columns].drop(index=cfpici_30)\n",
    "\n",
    "print(\"Shape after removal:\")\n",
    "print(\"function_matrix_new:\", function_matrix_new.shape)\n",
    "print(\"alpa_data:\", alpa_data.shape)\n",
    "\n",
    "print(\"\\nIndices identical:\", (function_matrix_new.index == alpa_data.index).all())\n",
    "\n",
    "function_matrix_new = pd.concat([function_matrix_new, alpa_data], axis=1).fillna(0)\n",
    "\n",
    "print(\"\\nFinal shape:\", function_matrix_new.shape)\n",
    "print(\"Number of unique indices:\", len(function_matrix_new.index.unique()))"
   ]
  },
  {
   "cell_type": "code",
   "execution_count": 51,
   "metadata": {},
   "outputs": [],
   "source": [
    "function_matrix_new.to_csv(\n",
    "    \"../results/protein_function_matrix_new_merged.csv\", index=True\n",
    ")\n"
   ]
  },
  {
   "cell_type": "code",
   "execution_count": null,
   "metadata": {},
   "outputs": [],
   "source": []
  }
 ],
 "metadata": {
  "kernelspec": {
   "display_name": ".venv",
   "language": "python",
   "name": "python3"
  },
  "language_info": {
   "codemirror_mode": {
    "name": "ipython",
    "version": 3
   },
   "file_extension": ".py",
   "mimetype": "text/x-python",
   "name": "python",
   "nbconvert_exporter": "python",
   "pygments_lexer": "ipython3",
   "version": "3.12.7"
  }
 },
 "nbformat": 4,
 "nbformat_minor": 2
}

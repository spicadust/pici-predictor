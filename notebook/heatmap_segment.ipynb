{
 "cells": [
  {
   "cell_type": "markdown",
   "metadata": {},
   "source": [
    "two heatmaps for comparison\n",
    "\n",
    "1. true heatmap: 4 columns for pici/cfpici/p4/phage, and have one seq in each row; color by pcat in the dataset; order: reverse (descending order of 'start') if more -1 strand than 1 strand;  \n",
    "2. predicted heatmap: 4 columns for pici/cfpici/p4/phage, and have one seq in each row; color by predicted functions (top_function in the prediction_df); order: reverse (descending order of 'start') if more -1 strand than 1 strand;  "
   ]
  },
  {
   "cell_type": "code",
   "execution_count": 89,
   "metadata": {},
   "outputs": [],
   "source": [
    "import pandas as pd\n",
    "import numpy as np\n",
    "from PIL import Image, ImageColor, ImageDraw, ImageFont"
   ]
  },
  {
   "cell_type": "markdown",
   "metadata": {},
   "source": [
    "### create heatmap"
   ]
  },
  {
   "cell_type": "code",
   "execution_count": 90,
   "metadata": {},
   "outputs": [],
   "source": [
    "def make_segment_heatmap(\n",
    "    samples,\n",
    "    function_col,\n",
    "    colors,\n",
    "    segment_types,\n",
    "    block_size=10,\n",
    "    col_gap=3,\n",
    "    title_height=30,\n",
    "    font_path=None,\n",
    "):\n",
    "    from PIL import Image, ImageColor, ImageDraw, ImageFont\n",
    "    import numpy as np\n",
    "\n",
    "    acc_lists = [samples[samples[\"what\"] == t][\"acc\"].unique() for t in segment_types]\n",
    "    max_rows = max(len(accs) for accs in acc_lists)\n",
    "    max_genes_per_type = [\n",
    "        max(samples[samples[\"what\"] == t].groupby(\"acc\").size().max() or 0, 1)\n",
    "        for t in segment_types\n",
    "    ]\n",
    "    width = (\n",
    "        sum(max_genes_per_type) * block_size\n",
    "        + (len(segment_types) - 1) * col_gap * block_size\n",
    "    )\n",
    "    height = max_rows * block_size + title_height\n",
    "\n",
    "    im = Image.new(\"RGBA\", (width, height), \"white\")\n",
    "    draw = ImageDraw.Draw(im)\n",
    "    font = ImageFont.truetype(font_path, 18) if font_path else None\n",
    "\n",
    "    x_offset = 0\n",
    "    for col, (t, accs, max_genes) in enumerate(\n",
    "        zip(segment_types, acc_lists, max_genes_per_type)\n",
    "    ):\n",
    "        # Draw column title\n",
    "        title_x = x_offset + (max_genes * block_size) // 2\n",
    "        draw.text((title_x, 5), t, fill=\"black\", anchor=\"ma\", font=font)\n",
    "        for row, acc in enumerate(accs):\n",
    "            seg = samples[(samples[\"what\"] == t) & (samples[\"acc\"] == acc)].copy()\n",
    "            if seg.empty:\n",
    "                continue\n",
    "            seg = seg.sort_values(\"start\")\n",
    "            if seg[\"strand\"].sum() < 0:\n",
    "                seg = seg.sort_values(\"start\", ascending=False)\n",
    "            labels = seg[function_col].tolist()\n",
    "            for i, label in enumerate(labels):\n",
    "                # Only skip if label is missing\n",
    "                if label is None or (isinstance(label, float) and np.isnan(label)):\n",
    "                    continue\n",
    "                color = ImageColor.getcolor(colors.get(label, \"#F5F5F5\"), \"RGBA\")\n",
    "                for dx in range(block_size):\n",
    "                    for dy in range(block_size):\n",
    "                        x = x_offset + i * block_size + dx\n",
    "                        y = title_height + row * block_size + dy\n",
    "                        if x < width and y < height:\n",
    "                            im.putpixel((x, y), color)\n",
    "        x_offset += max_genes * block_size + col_gap * block_size\n",
    "    return im"
   ]
  },
  {
   "cell_type": "code",
   "execution_count": 91,
   "metadata": {},
   "outputs": [],
   "source": [
    "samples = pd.read_csv(\n",
    "    \"../dataset/demonstration_samples/known_segments/annotation_200.csv\"\n",
    ")\n",
    "predictions_df = pd.read_csv(\n",
    "    \"../results/demonstration/prediction_known_segments_200_best_thresholds.csv\"\n",
    ")\n",
    "\n",
    "# rename values in the pcat column in samples\n",
    "samples[\"pcat\"] = samples[\"pcat\"].replace(\n",
    "    \"DNA, RNA and nucleotide metabolism\", \"dna_rna_and_nucleotide_metabolism\"\n",
    ")\n",
    "samples[\"pcat\"] = samples[\"pcat\"].replace(\"unknown function\", \"unknown_function\")\n",
    "samples[\"pcat\"] = samples[\"pcat\"].replace(\"head and packaging\", \"head_and_packaging\")\n",
    "samples[\"pcat\"] = samples[\"pcat\"].replace(\n",
    "    \"transcription regulation\", \"transcription_regulation\"\n",
    ")\n",
    "samples[\"pcat\"] = samples[\"pcat\"].replace(\n",
    "    \"integration and excision\", \"integration_and_excision\"\n",
    ")\n",
    "samples[\"pcat\"] = samples[\"pcat\"].replace(\n",
    "    \"moron, auxiliary metabolic gene and host takeover\",\n",
    "    \"moron_auxiliary_metabolic_gene_and_host_takeover\",\n",
    ")\n",
    "samples[\"pcat\"] = samples[\"pcat\"].replace(\"unknown_no_hit\", \"no_hit\")\n",
    "\n",
    "# merge\n",
    "samples_pred = samples.merge(\n",
    "    predictions_df[[\"id\", \"top_function\"]], left_on=\"name\", right_on=\"id\", how=\"left\"\n",
    ")\n",
    "samples_pred_filtered_true = samples_pred[\n",
    "    ~samples_pred[\"pcat\"].isin([\"no_hit\", \"unknown_function\"])\n",
    "].copy()\n",
    "samples_pred_filtered_pred = samples_pred[\n",
    "    ~samples_pred[\"top_function\"].isin([\"no_hit\", \"unknown_function\"])\n",
    "].copy()\n"
   ]
  },
  {
   "cell_type": "code",
   "execution_count": 92,
   "metadata": {},
   "outputs": [],
   "source": [
    "colors = {\n",
    "    \"lysis\": \"#f35f49\",\n",
    "    \"tail\": \"#07e9a2\",\n",
    "    \"connector\": \"#35d7ff\",\n",
    "    \"dna_rna_and_nucleotide_metabolism\": \"#ffdf59\",\n",
    "    \"head_and_packaging\": \"#3e83f6\",\n",
    "    \"transcription_regulation\": \"#a861e3\",\n",
    "    \"moron_auxiliary_metabolic_gene_and_host_takeover\": \"#ff59f5\",\n",
    "    \"integration_and_excision\": \"#fea328\",\n",
    "    \"other\": \"#838383\",\n",
    "    \"unknown_function\": \"#313131\",\n",
    "    \"no_hit\": \"#f5f5f5\",\n",
    "}"
   ]
  },
  {
   "cell_type": "code",
   "execution_count": 93,
   "metadata": {},
   "outputs": [],
   "source": [
    "# im_true_satellites = make_segment_heatmap(\n",
    "#     samples_pred_filtered_true,\n",
    "#     # samples_pred,\n",
    "#     function_col=\"pcat\",\n",
    "#     colors=colors,\n",
    "#     segment_types=[\"PICI\", \"CFPICI\", \"P4\"],\n",
    "#     block_size=10,\n",
    "#     col_gap=3,\n",
    "#     title_height=30,\n",
    "#     font_path=None,  # Or provide a .ttf path for custom font\n",
    "# )\n",
    "# im_true_satellites.save(\n",
    "#     \"../results/demonstration/known_segment_heatmaps/im_satellites_true_simple.png\"\n",
    "# )\n",
    "\n",
    "im_pred_satellites = make_segment_heatmap(\n",
    "    samples_pred_filtered_pred,\n",
    "    # samples_pred,\n",
    "    function_col=\"top_function\",\n",
    "    colors=colors,\n",
    "    segment_types=[\"PICI\", \"CFPICI\", \"P4\"],\n",
    "    block_size=10,\n",
    "    col_gap=3,\n",
    "    title_height=30,\n",
    "    font_path=None,\n",
    ")\n",
    "im_pred_satellites.save(\n",
    "    \"../results/demonstration/known_segment_heatmaps/im_satellites_pred_best_thresholds_simple.png\"\n",
    ")\n",
    "\n",
    "# im_true_phage = make_segment_heatmap(\n",
    "#     # samples_pred_filtered_true,\n",
    "#     samples_pred,\n",
    "#     function_col=\"pcat\",\n",
    "#     colors=colors,\n",
    "#     segment_types=[\"phage\"],\n",
    "#     block_size=10,\n",
    "#     col_gap=3,\n",
    "#     title_height=30,\n",
    "#     font_path=None,\n",
    "# )\n",
    "# im_true_phage.save(\"../results/demonstration/known_segment_heatmaps/im_phage_true.png\")\n",
    "\n",
    "# im_pred_phage = make_segment_heatmap(\n",
    "#     # samples_pred_filtered_pred,\n",
    "#     samples_pred,\n",
    "#     function_col=\"top_function\",\n",
    "#     colors=colors,\n",
    "#     segment_types=[\"phage\"],\n",
    "#     block_size=10,\n",
    "#     col_gap=3,\n",
    "#     title_height=30,\n",
    "#     font_path=None,\n",
    "# )\n",
    "# im_pred_phage.save(\"../results/demonstration/known_segment_heatmaps/im_phage_pred.png\")"
   ]
  },
  {
   "cell_type": "markdown",
   "metadata": {},
   "source": [
    "### check"
   ]
  },
  {
   "cell_type": "code",
   "execution_count": 94,
   "metadata": {},
   "outputs": [
    {
     "name": "stdout",
     "output_type": "stream",
     "text": [
      "precision: 0.5232916440094254\n"
     ]
    }
   ],
   "source": [
    "# check precision\n",
    "num_total = len(samples_pred)\n",
    "num_correct = len(samples_pred[samples_pred[\"pcat\"] == samples_pred[\"top_function\"]])\n",
    "print(f\"precision: {num_correct / num_total}\")"
   ]
  },
  {
   "cell_type": "code",
   "execution_count": 95,
   "metadata": {},
   "outputs": [
    {
     "name": "stdout",
     "output_type": "stream",
     "text": [
      "precision: 0.7892772310824567, recall: 0.8750940556809631, intersection: 2326, real positive: 2658, predicted positive: 2947\n"
     ]
    }
   ],
   "source": [
    "def calculate_recall(samples_pred, function_name):\n",
    "    true_positive = samples_pred[samples_pred[\"pcat\"] == function_name]\n",
    "    predicted_positive = samples_pred[samples_pred[\"top_function\"] == function_name]\n",
    "    predicted_true_positive = predicted_positive[\n",
    "        predicted_positive[\"pcat\"] == function_name\n",
    "    ]\n",
    "    precision = len(predicted_true_positive) / len(predicted_positive)\n",
    "    recall = len(predicted_true_positive) / len(true_positive)\n",
    "    print(\n",
    "        f\"precision: {precision}, recall: {recall}, intersection: {len(predicted_true_positive)}, real positive: {len(true_positive)}, predicted positive: {len(predicted_positive)}\"\n",
    "    )\n",
    "\n",
    "\n",
    "calculate_recall(samples_pred, \"head_and_packaging\")"
   ]
  },
  {
   "cell_type": "code",
   "execution_count": 96,
   "metadata": {},
   "outputs": [
    {
     "data": {
      "text/plain": [
       "pcat\n",
       "no_hit                                              11096\n",
       "unknown_function                                     4225\n",
       "dna_rna_and_nucleotide_metabolism                    3338\n",
       "head_and_packaging                                   2658\n",
       "tail                                                 1516\n",
       "transcription_regulation                             1267\n",
       "integration_and_excision                             1068\n",
       "connector                                             766\n",
       "other                                                 761\n",
       "moron_auxiliary_metabolic_gene_and_host_takeover      481\n",
       "lysis                                                 409\n",
       "Name: count, dtype: int64"
      ]
     },
     "execution_count": 96,
     "metadata": {},
     "output_type": "execute_result"
    }
   ],
   "source": [
    "samples_pred[\"pcat\"].value_counts()"
   ]
  },
  {
   "cell_type": "code",
   "execution_count": 97,
   "metadata": {},
   "outputs": [
    {
     "data": {
      "text/plain": [
       "top_function\n",
       "unknown_function                                    6998\n",
       "dna_rna_and_nucleotide_metabolism                   5275\n",
       "head_and_packaging                                  2947\n",
       "transcription_regulation                            2124\n",
       "tail                                                2080\n",
       "moron_auxiliary_metabolic_gene_and_host_takeover    1809\n",
       "connector                                           1552\n",
       "other                                               1382\n",
       "no_hit                                              1362\n",
       "integration_and_excision                            1155\n",
       "lysis                                                901\n",
       "Name: count, dtype: int64"
      ]
     },
     "execution_count": 97,
     "metadata": {},
     "output_type": "execute_result"
    }
   ],
   "source": [
    "samples_pred[\"top_function\"].value_counts()"
   ]
  },
  {
   "cell_type": "code",
   "execution_count": 98,
   "metadata": {},
   "outputs": [
    {
     "data": {
      "text/plain": [
       "True"
      ]
     },
     "execution_count": 98,
     "metadata": {},
     "output_type": "execute_result"
    }
   ],
   "source": [
    "set(samples_pred[\"pcat\"].unique()) == set(predictions_df[\"top_function\"].unique())"
   ]
  },
  {
   "cell_type": "markdown",
   "metadata": {},
   "source": [
    "### legend"
   ]
  },
  {
   "cell_type": "code",
   "execution_count": 99,
   "metadata": {},
   "outputs": [],
   "source": [
    "# import matplotlib.pyplot as plt\n",
    "\n",
    "\n",
    "# def plot_legend_matplotlib(\n",
    "#     colors, square_size=0.5, text_size=16, row_gap=0.2, out_path=None, dpi=150\n",
    "# ):\n",
    "#     n = len(colors)\n",
    "#     fig_height = n * (square_size + row_gap)\n",
    "#     fig, ax = plt.subplots(figsize=(5, fig_height))\n",
    "#     for i, (func, color) in enumerate(colors.items()):\n",
    "#         y = n - i - 1  # So the first color is at the top\n",
    "#         label = func.replace(\"_\", \" \")\n",
    "#         # Draw square\n",
    "#         ax.add_patch(\n",
    "#             plt.Rectangle((0, y), square_size, square_size, color=color, ec=\"black\")\n",
    "#         )\n",
    "#         # Draw text with space to the right of the square\n",
    "#         ax.text(\n",
    "#             square_size + 0.2,\n",
    "#             y + square_size / 2,\n",
    "#             label,\n",
    "#             va=\"center\",\n",
    "#             fontsize=text_size,\n",
    "#         )\n",
    "#     ax.set_xlim(0, 4)\n",
    "#     ax.set_ylim(0, n)\n",
    "#     ax.axis(\"off\")\n",
    "#     plt.tight_layout()\n",
    "#     if out_path:\n",
    "#         plt.savefig(out_path, bbox_inches=\"tight\", dpi=dpi)\n",
    "#     plt.show()\n",
    "\n",
    "\n",
    "# # Usage:\n",
    "# plot_legend_matplotlib(\n",
    "#     colors,\n",
    "#     square_size=0.4,\n",
    "#     text_size=15,\n",
    "#     row_gap=0.15,\n",
    "#     out_path=\"../results/demonstration/known_segment_heatmaps/legend.png\",\n",
    "# )"
   ]
  }
 ],
 "metadata": {
  "kernelspec": {
   "display_name": ".venv",
   "language": "python",
   "name": "python3"
  },
  "language_info": {
   "codemirror_mode": {
    "name": "ipython",
    "version": 3
   },
   "file_extension": ".py",
   "mimetype": "text/x-python",
   "name": "python",
   "nbconvert_exporter": "python",
   "pygments_lexer": "ipython3",
   "version": "3.12.7"
  }
 },
 "nbformat": 4,
 "nbformat_minor": 2
}
